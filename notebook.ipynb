{
 "cells": [
  {
   "cell_type": "code",
   "execution_count": 1,
   "metadata": {
    "_kg_hide-output": false,
    "execution": {
     "iopub.execute_input": "2025-05-16T16:39:38.091803Z",
     "iopub.status.busy": "2025-05-16T16:39:38.091561Z",
     "iopub.status.idle": "2025-05-16T16:39:45.629023Z",
     "shell.execute_reply": "2025-05-16T16:39:45.628342Z",
     "shell.execute_reply.started": "2025-05-16T16:39:38.091778Z"
    },
    "trusted": true
   },
   "outputs": [
    {
     "name": "stdout",
     "output_type": "stream",
     "text": [
      "\u001b[2K     \u001b[90m━━━━━━━━━━━━━━━━━━━━━━━━━━━━━━━━━━━━━━━━\u001b[0m \u001b[32m43.6/43.6 kB\u001b[0m \u001b[31m2.0 MB/s\u001b[0m eta \u001b[36m0:00:00\u001b[0m\n",
      "\u001b[?25h  Preparing metadata (setup.py) ... \u001b[?25l\u001b[?25hdone\n",
      "\u001b[2K   \u001b[90m━━━━━━━━━━━━━━━━━━━━━━━━━━━━━━━━━━━━━━━━\u001b[0m \u001b[32m193.6/193.6 kB\u001b[0m \u001b[31m10.0 MB/s\u001b[0m eta \u001b[36m0:00:00\u001b[0m\n",
      "\u001b[?25h  Building wheel for seqeval (setup.py) ... \u001b[?25l\u001b[?25hdone\n",
      "\u001b[31mERROR: pip's dependency resolver does not currently take into account all the packages that are installed. This behaviour is the source of the following dependency conflicts.\n",
      "cesium 0.12.4 requires numpy<3.0,>=2.0, but you have numpy 1.26.4 which is incompatible.\n",
      "bigframes 1.42.0 requires rich<14,>=12.4.4, but you have rich 14.0.0 which is incompatible.\n",
      "torch 2.6.0+cu124 requires nvidia-cublas-cu12==12.4.5.8; platform_system == \"Linux\" and platform_machine == \"x86_64\", but you have nvidia-cublas-cu12 12.9.0.13 which is incompatible.\n",
      "torch 2.6.0+cu124 requires nvidia-cudnn-cu12==9.1.0.70; platform_system == \"Linux\" and platform_machine == \"x86_64\", but you have nvidia-cudnn-cu12 9.3.0.75 which is incompatible.\n",
      "torch 2.6.0+cu124 requires nvidia-cufft-cu12==11.2.1.3; platform_system == \"Linux\" and platform_machine == \"x86_64\", but you have nvidia-cufft-cu12 11.4.0.6 which is incompatible.\n",
      "torch 2.6.0+cu124 requires nvidia-curand-cu12==10.3.5.147; platform_system == \"Linux\" and platform_machine == \"x86_64\", but you have nvidia-curand-cu12 10.3.10.19 which is incompatible.\n",
      "torch 2.6.0+cu124 requires nvidia-cusolver-cu12==11.6.1.9; platform_system == \"Linux\" and platform_machine == \"x86_64\", but you have nvidia-cusolver-cu12 11.7.4.40 which is incompatible.\n",
      "torch 2.6.0+cu124 requires nvidia-cusparse-cu12==12.3.1.170; platform_system == \"Linux\" and platform_machine == \"x86_64\", but you have nvidia-cusparse-cu12 12.5.9.5 which is incompatible.\n",
      "torch 2.6.0+cu124 requires nvidia-nvjitlink-cu12==12.4.127; platform_system == \"Linux\" and platform_machine == \"x86_64\", but you have nvidia-nvjitlink-cu12 12.9.41 which is incompatible.\n",
      "gcsfs 2025.3.2 requires fsspec==2025.3.2, but you have fsspec 2025.3.0 which is incompatible.\u001b[0m\u001b[31m\n",
      "\u001b[0m"
     ]
    }
   ],
   "source": [
    "!pip install -q pandas matplotlib datasets tqdm seqeval scikit-learn"
   ]
  },
  {
   "cell_type": "markdown",
   "metadata": {},
   "source": [
    "# Preparations\n",
    "\n",
    "## Import Libraries\n"
   ]
  },
  {
   "cell_type": "code",
   "execution_count": 2,
   "metadata": {
    "execution": {
     "iopub.execute_input": "2025-05-16T16:39:45.630220Z",
     "iopub.status.busy": "2025-05-16T16:39:45.629971Z",
     "iopub.status.idle": "2025-05-16T16:39:59.070328Z",
     "shell.execute_reply": "2025-05-16T16:39:59.069679Z",
     "shell.execute_reply.started": "2025-05-16T16:39:45.630195Z"
    },
    "trusted": true
   },
   "outputs": [],
   "source": [
    "import os\n",
    "import numpy as np\n",
    "import pandas as pd\n",
    "import torch\n",
    "from torch.utils.data import DataLoader \n",
    "from transformers import (\n",
    "    AutoTokenizer, \n",
    "    AutoModelForTokenClassification,\n",
    "    get_linear_schedule_with_warmup,\n",
    "    AutoConfig,\n",
    ")\n",
    "from sklearn.metrics import accuracy_score, f1_score\n",
    "from seqeval.metrics import classification_report, precision_score, recall_score, f1_score\n",
    "from datasets import load_dataset, DatasetDict, Dataset\n",
    "from torch.optim import AdamW\n",
    "from tqdm import tqdm\n",
    "from itertools import product\n",
    "import json\n"
   ]
  },
  {
   "cell_type": "markdown",
   "metadata": {},
   "source": [
    "## Set variables and Seed\n"
   ]
  },
  {
   "cell_type": "code",
   "execution_count": 3,
   "metadata": {
    "execution": {
     "iopub.execute_input": "2025-05-16T16:39:59.072322Z",
     "iopub.status.busy": "2025-05-16T16:39:59.071897Z",
     "iopub.status.idle": "2025-05-16T16:39:59.080432Z",
     "shell.execute_reply": "2025-05-16T16:39:59.079726Z",
     "shell.execute_reply.started": "2025-05-16T16:39:59.072301Z"
    },
    "trusted": true
   },
   "outputs": [],
   "source": [
    "seed = 42\n",
    "\n",
    "np.random.seed(seed)\n",
    "torch.manual_seed(seed)\n",
    "torch.cuda.manual_seed_all(seed)"
   ]
  },
  {
   "cell_type": "code",
   "execution_count": 4,
   "metadata": {
    "execution": {
     "iopub.execute_input": "2025-05-16T16:39:59.083579Z",
     "iopub.status.busy": "2025-05-16T16:39:59.083356Z",
     "iopub.status.idle": "2025-05-16T16:39:59.097998Z",
     "shell.execute_reply": "2025-05-16T16:39:59.097485Z",
     "shell.execute_reply.started": "2025-05-16T16:39:59.083559Z"
    },
    "trusted": true
   },
   "outputs": [],
   "source": [
    "NER_TAG = ['B-LOC', 'I-LOC', 'B-ORG', 'I-ORG', 'B-PER', 'I-PER', 'O']\n",
    "POS_TAG = ['PROPN', 'AUX', 'NUM', 'NOUN', 'ADP', 'PRON', 'VERB', 'ADV', \n",
    "           'ADJ', 'PUNCT', 'DET', 'PART', 'SCONJ', 'CCONJ', 'SYM', 'X']"
   ]
  },
  {
   "cell_type": "code",
   "execution_count": 5,
   "metadata": {
    "execution": {
     "iopub.execute_input": "2025-05-16T16:39:59.098904Z",
     "iopub.status.busy": "2025-05-16T16:39:59.098686Z",
     "iopub.status.idle": "2025-05-16T16:39:59.115615Z",
     "shell.execute_reply": "2025-05-16T16:39:59.114936Z",
     "shell.execute_reply.started": "2025-05-16T16:39:59.098889Z"
    },
    "trusted": true
   },
   "outputs": [],
   "source": [
    "label2id = {label: id for id, label in enumerate(NER_TAG)}\n",
    "id2label = {id: label for label, id in label2id.items()}\n"
   ]
  },
  {
   "cell_type": "code",
   "execution_count": 6,
   "metadata": {
    "execution": {
     "iopub.execute_input": "2025-05-16T16:39:59.116732Z",
     "iopub.status.busy": "2025-05-16T16:39:59.116437Z",
     "iopub.status.idle": "2025-05-16T16:39:59.132940Z",
     "shell.execute_reply": "2025-05-16T16:39:59.132351Z",
     "shell.execute_reply.started": "2025-05-16T16:39:59.116712Z"
    },
    "trusted": true
   },
   "outputs": [],
   "source": [
    "def read_data(file_path):\n",
    "    with open(file_path, encoding=\"utf-8\") as f:\n",
    "        lines = f.read().split(\"\\n\")\n",
    "    \n",
    "    data = []\n",
    "    sentence = []\n",
    "    id = 1\n",
    "    for line in lines:\n",
    "        if not line.strip():\n",
    "            if sentence:\n",
    "                data.append(sentence)\n",
    "                sentence = []\n",
    "        else:\n",
    "            word, pos, tag = line.split()\n",
    "            sentence.append((word, pos, tag))\n",
    "            \n",
    "    if sentence:\n",
    "        data.append(sentence)\n",
    "\n",
    "    # Create a dict for dataset\n",
    "    raw_data_dict = {}\n",
    "    \n",
    "    for idx in range(len(data)):\n",
    "    # for idx in range(20):\n",
    "        raw_data_dict[idx] = {}\n",
    "    \n",
    "        words = []\n",
    "        ner_tags = []\n",
    "        pos_tags = []\n",
    "        \n",
    "        for i in range(len(data[idx])):\n",
    "            words.append(data[idx][i][0])\n",
    "            pos_tags.append(data[idx][i][1])\n",
    "            ner_tags.append(data[idx][i][2])\n",
    "\n",
    "        \n",
    "        raw_data_dict[idx]['words'] = words\n",
    "        raw_data_dict[idx]['ner_tags'] = ner_tags\n",
    "        raw_data_dict[idx]['pos_tags'] = pos_tags\n",
    "        \n",
    "    # Convert raw_data to a list of dictionaries\n",
    "    data_list = []\n",
    "    for idx, data in raw_data_dict.items():\n",
    "        data_list.append({\n",
    "            'id': idx,\n",
    "            'words': data['words'],\n",
    "            'ner_tags': data['ner_tags'],\n",
    "            'pos_tags': data['pos_tags'],\n",
    "            'chunk_tags': []  # Placeholder, as your data doesn't have chunk_tags\n",
    "        })\n",
    "    return data_list"
   ]
  },
  {
   "cell_type": "markdown",
   "metadata": {},
   "source": [
    "## Read Dataset\n"
   ]
  },
  {
   "cell_type": "code",
   "execution_count": 7,
   "metadata": {
    "execution": {
     "iopub.execute_input": "2025-05-16T16:39:59.133971Z",
     "iopub.status.busy": "2025-05-16T16:39:59.133745Z",
     "iopub.status.idle": "2025-05-16T16:39:59.236829Z",
     "shell.execute_reply": "2025-05-16T16:39:59.236266Z",
     "shell.execute_reply.started": "2025-05-16T16:39:59.133946Z"
    },
    "trusted": true
   },
   "outputs": [],
   "source": [
    "train_data = read_data('/kaggle/input/idner-news-2k/train.txt')\n",
    "test_data = read_data('/kaggle/input/idner-news-2k/test.txt')\n",
    "dev_data = read_data('/kaggle/input/idner-news-2k/valid.txt')\n",
    "# train_data[:2]\n"
   ]
  },
  {
   "cell_type": "code",
   "execution_count": 8,
   "metadata": {
    "execution": {
     "iopub.execute_input": "2025-05-16T16:39:59.239807Z",
     "iopub.status.busy": "2025-05-16T16:39:59.239579Z",
     "iopub.status.idle": "2025-05-16T16:39:59.307784Z",
     "shell.execute_reply": "2025-05-16T16:39:59.307182Z",
     "shell.execute_reply.started": "2025-05-16T16:39:59.239789Z"
    },
    "trusted": true
   },
   "outputs": [
    {
     "data": {
      "text/plain": [
       "DatasetDict({\n",
       "    train: Dataset({\n",
       "        features: ['id', 'words', 'ner_tags', 'pos_tags', 'chunk_tags'],\n",
       "        num_rows: 1464\n",
       "    })\n",
       "    test: Dataset({\n",
       "        features: ['id', 'words', 'ner_tags', 'pos_tags', 'chunk_tags'],\n",
       "        num_rows: 509\n",
       "    })\n",
       "    dev: Dataset({\n",
       "        features: ['id', 'words', 'ner_tags', 'pos_tags', 'chunk_tags'],\n",
       "        num_rows: 367\n",
       "    })\n",
       "})"
      ]
     },
     "execution_count": 8,
     "metadata": {},
     "output_type": "execute_result"
    }
   ],
   "source": [
    "train_dataset = Dataset.from_dict({k: [d[k] for d in train_data] for k in train_data[0]})\n",
    "test_dataset = Dataset.from_dict({k: [d[k] for d in test_data] for k in test_data[0]})\n",
    "dev_dataset = Dataset.from_dict({k: [d[k] for d in dev_data] for k in dev_data[0]})\n",
    "\n",
    "# Create a DatasetDict\n",
    "raw_data = DatasetDict({\"train\": train_dataset, \"test\": test_dataset, \"dev\": dev_dataset})\n",
    "raw_data\n"
   ]
  },
  {
   "cell_type": "markdown",
   "metadata": {},
   "source": [
    "# Function Definitions\n",
    "\n",
    "## Config\n"
   ]
  },
  {
   "cell_type": "code",
   "execution_count": 9,
   "metadata": {
    "execution": {
     "iopub.execute_input": "2025-05-16T16:39:59.308737Z",
     "iopub.status.busy": "2025-05-16T16:39:59.308484Z",
     "iopub.status.idle": "2025-05-16T16:39:59.312879Z",
     "shell.execute_reply": "2025-05-16T16:39:59.312137Z",
     "shell.execute_reply.started": "2025-05-16T16:39:59.308720Z"
    },
    "trusted": true
   },
   "outputs": [],
   "source": [
    "# Constants and configuration\n",
    "def get_config():\n",
    "    return {\n",
    "        \"max_length\": 128,\n",
    "        \"batch_size\": 16,\n",
    "        \"learning_rate\": 2e-5,\n",
    "        \"epochs\": 5,\n",
    "        \"warmup_steps\": 500,\n",
    "        \"models\": [\"indobenchmark/indobert-base-p1\", \"xlm-roberta-base\", \"cahya/xlm-roberta-base-indonesian-NER\"],\n",
    "        \"device\": torch.device(\"cuda\" if torch.cuda.is_available() else \"cpu\")\n",
    "    }"
   ]
  },
  {
   "cell_type": "markdown",
   "metadata": {},
   "source": [
    "## Tokenize\n"
   ]
  },
  {
   "cell_type": "code",
   "execution_count": 10,
   "metadata": {
    "execution": {
     "iopub.execute_input": "2025-05-16T16:39:59.313970Z",
     "iopub.status.busy": "2025-05-16T16:39:59.313754Z",
     "iopub.status.idle": "2025-05-16T16:39:59.331939Z",
     "shell.execute_reply": "2025-05-16T16:39:59.331285Z",
     "shell.execute_reply.started": "2025-05-16T16:39:59.313954Z"
    },
    "trusted": true
   },
   "outputs": [],
   "source": [
    "# Convert dataset to features\n",
    "def tokenize_and_align_labels(tokenizer, examples, max_length):\n",
    "    tokenized_inputs = []\n",
    "    \n",
    "    for example in examples:\n",
    "        words = example[\"words\"]\n",
    "        labels = [label2id[label] for label in example[\"ner_tags\"]]\n",
    "        \n",
    "        # Tokenize word by word to ensure alignment\n",
    "        word_ids = []\n",
    "        token_ids = []\n",
    "        attention_mask = []\n",
    "        label_ids = []\n",
    "        \n",
    "        for word_idx, (word, label) in enumerate(zip(words, labels)):\n",
    "            # Tokenize the word and count # of tokens\n",
    "            word_tokens = tokenizer.tokenize(word)\n",
    "            if not word_tokens:\n",
    "                word_tokens = [tokenizer.unk_token]\n",
    "                \n",
    "            # Add tokenized word to output\n",
    "            token_ids.extend(tokenizer.convert_tokens_to_ids(word_tokens))\n",
    "            attention_mask.extend([1] * len(word_tokens))\n",
    "            \n",
    "            # Add the word_id for each token\n",
    "            word_ids.extend([word_idx] * len(word_tokens))\n",
    "            \n",
    "        # Handle truncation\n",
    "        if len(token_ids) > max_length - 2:  # Account for [CLS] and [SEP]\n",
    "            token_ids = token_ids[:max_length - 2]\n",
    "            attention_mask = attention_mask[:max_length - 2]\n",
    "            word_ids = word_ids[:max_length - 2]\n",
    "        \n",
    "        # Add special tokens\n",
    "        token_ids = [tokenizer.cls_token_id] + token_ids + [tokenizer.sep_token_id]\n",
    "        attention_mask = [1] + attention_mask + [1]\n",
    "        word_ids = [None] + word_ids + [None]  # None for special tokens\n",
    "        \n",
    "        # Create aligned labels\n",
    "        label_ids = [-100] * len(token_ids)  # Initialize with -100 (ignored in loss)\n",
    "        \n",
    "        for idx, word_id in enumerate(word_ids):\n",
    "            if word_id is not None:\n",
    "                label_ids[idx] = labels[word_id]\n",
    "        \n",
    "        # Pad to max_length\n",
    "        padding_length = max_length - len(token_ids)\n",
    "        if padding_length > 0:\n",
    "            token_ids = token_ids + ([tokenizer.pad_token_id] * padding_length)\n",
    "            attention_mask = attention_mask + ([0] * padding_length)\n",
    "            label_ids = label_ids + ([-100] * padding_length)\n",
    "        \n",
    "        tokenized_inputs.append({\n",
    "            \"input_ids\": token_ids,\n",
    "            \"attention_mask\": attention_mask,\n",
    "            \"labels\": label_ids,\n",
    "            \"word_ids\": word_ids\n",
    "        })\n",
    "    \n",
    "    return tokenized_inputs\n"
   ]
  },
  {
   "cell_type": "markdown",
   "metadata": {},
   "source": [
    "## Prepare dataset\n"
   ]
  },
  {
   "cell_type": "code",
   "execution_count": 11,
   "metadata": {
    "execution": {
     "iopub.execute_input": "2025-05-16T16:39:59.332909Z",
     "iopub.status.busy": "2025-05-16T16:39:59.332610Z",
     "iopub.status.idle": "2025-05-16T16:39:59.349410Z",
     "shell.execute_reply": "2025-05-16T16:39:59.348642Z",
     "shell.execute_reply.started": "2025-05-16T16:39:59.332884Z"
    },
    "trusted": true
   },
   "outputs": [],
   "source": [
    "def prepare_datasets(dataset, tokenizer, config):\n",
    "    tokenized_datasets = {}\n",
    "    \n",
    "    for split in dataset.keys():\n",
    "        print(f\"Preparing {split} dataset...\")\n",
    "        tokenized_datasets[split] = tokenize_and_align_labels(\n",
    "            tokenizer, \n",
    "            dataset[split], \n",
    "            config[\"max_length\"]\n",
    "        )\n",
    "    \n",
    "    return tokenized_datasets\n"
   ]
  },
  {
   "cell_type": "markdown",
   "metadata": {},
   "source": [
    "## Dataloaders\n"
   ]
  },
  {
   "cell_type": "code",
   "execution_count": 12,
   "metadata": {
    "execution": {
     "iopub.execute_input": "2025-05-16T16:39:59.350315Z",
     "iopub.status.busy": "2025-05-16T16:39:59.350127Z",
     "iopub.status.idle": "2025-05-16T16:39:59.362878Z",
     "shell.execute_reply": "2025-05-16T16:39:59.362332Z",
     "shell.execute_reply.started": "2025-05-16T16:39:59.350301Z"
    },
    "trusted": true
   },
   "outputs": [],
   "source": [
    "def create_dataloaders(tokenized_datasets, config):\n",
    "    dataloaders = {}\n",
    "    \n",
    "    for split, dataset in tokenized_datasets.items():\n",
    "        # Convert to PyTorch tensors\n",
    "        tensor_dataset = []\n",
    "        for item in dataset:\n",
    "            tensor_dataset.append({\n",
    "                \"input_ids\": torch.tensor(item[\"input_ids\"]),\n",
    "                \"attention_mask\": torch.tensor(item[\"attention_mask\"]),\n",
    "                \"labels\": torch.tensor(item[\"labels\"])\n",
    "            })\n",
    "        \n",
    "        # Create DataLoader\n",
    "        shuffle = (split == \"train\")\n",
    "        dataloaders[split] = DataLoader(\n",
    "            tensor_dataset,\n",
    "            batch_size=config[\"batch_size\"],\n",
    "            shuffle=shuffle\n",
    "        )\n",
    "    \n",
    "    return dataloaders\n"
   ]
  },
  {
   "cell_type": "markdown",
   "metadata": {},
   "source": [
    "## Train functions\n"
   ]
  },
  {
   "cell_type": "code",
   "execution_count": 13,
   "metadata": {
    "execution": {
     "iopub.execute_input": "2025-05-16T16:39:59.363787Z",
     "iopub.status.busy": "2025-05-16T16:39:59.363534Z",
     "iopub.status.idle": "2025-05-16T16:39:59.378734Z",
     "shell.execute_reply": "2025-05-16T16:39:59.378077Z",
     "shell.execute_reply.started": "2025-05-16T16:39:59.363766Z"
    },
    "trusted": true
   },
   "outputs": [],
   "source": [
    "# Training function\n",
    "def train_model(model, dataloaders, optimizer, scheduler, config, model_name):\n",
    "    device = config[\"device\"]\n",
    "    model.to(device)\n",
    "    \n",
    "    print(f\"Training on {device}\")\n",
    "    best_f1 = 0\n",
    "    \n",
    "    for epoch in range(config[\"epochs\"]):\n",
    "        print(f\"\\nEpoch {epoch+1}/{config['epochs']}\")\n",
    "        \n",
    "        # Training\n",
    "        model.train()\n",
    "        train_loss = 0\n",
    "        progress_bar = tqdm(dataloaders[\"train\"], desc=f\"Training\")\n",
    "        \n",
    "        for batch in progress_bar:\n",
    "            # Move batch to device\n",
    "            batch = {k: v.to(device) for k, v in batch.items()}\n",
    "            \n",
    "            # Zero gradients\n",
    "            optimizer.zero_grad()\n",
    "            \n",
    "            # Forward pass\n",
    "            outputs = model(**batch)\n",
    "            loss = outputs.loss\n",
    "            \n",
    "            # Backward pass\n",
    "            loss.backward()\n",
    "            \n",
    "            # Update\n",
    "            optimizer.step()\n",
    "            scheduler.step()\n",
    "            \n",
    "            # Track loss\n",
    "            train_loss += loss.item()\n",
    "            progress_bar.set_postfix({\"loss\": loss.item()})\n",
    "        \n",
    "        avg_train_loss = train_loss / len(dataloaders[\"train\"])\n",
    "        print(f\"Average training loss: {avg_train_loss:.4f}\")\n",
    "        \n",
    "        # Validation\n",
    "        val_metrics = evaluate_model(model, dataloaders[\"dev\"], config)\n",
    "        \n",
    "        # Save best model\n",
    "        if val_metrics[\"f1\"] > best_f1:\n",
    "            best_f1 = val_metrics[\"f1\"]\n",
    "            print(f\"New best F1: {best_f1:.4f} - Saving model\")\n",
    "            if not os.path.exists(\"models\"):\n",
    "                os.makedirs(\"models\")\n",
    "            torch.save(model.state_dict(), f\"models/best_model_{model_name.replace('/', '_')}.pt\")\n",
    "        \n",
    "        print(f\"Validation Metrics: Precision={val_metrics['precision']:.4f}, Recall={val_metrics['recall']:.4f}, F1={val_metrics['f1']:.4f}, Exact Match= {val_metrics['exact_match']:.4f}\")\n",
    "\n"
   ]
  },
  {
   "cell_type": "markdown",
   "metadata": {},
   "source": [
    "## Evaluate functions\n"
   ]
  },
  {
   "cell_type": "code",
   "execution_count": 14,
   "metadata": {
    "execution": {
     "iopub.execute_input": "2025-05-16T16:39:59.379791Z",
     "iopub.status.busy": "2025-05-16T16:39:59.379452Z",
     "iopub.status.idle": "2025-05-16T16:39:59.398285Z",
     "shell.execute_reply": "2025-05-16T16:39:59.397599Z",
     "shell.execute_reply.started": "2025-05-16T16:39:59.379766Z"
    },
    "trusted": true
   },
   "outputs": [],
   "source": [
    "# Evaluation function\n",
    "def evaluate_model(model, dataloader, config):\n",
    "    device = config[\"device\"]\n",
    "    model.eval()\n",
    "    \n",
    "    all_predictions = []\n",
    "    all_labels = []\n",
    "    \n",
    "    with torch.no_grad():\n",
    "        for batch in tqdm(dataloader, desc=\"Evaluating\"):\n",
    "            # Move batch to device\n",
    "            batch = {k: v.to(device) for k, v in batch.items()}\n",
    "            \n",
    "            # Forward pass\n",
    "            outputs = model(**batch)\n",
    "            predictions = torch.argmax(outputs.logits, dim=2)\n",
    "            \n",
    "            # Extract predictions and labels, removing padding and special tokens\n",
    "            for pred, label, mask in zip(predictions, batch[\"labels\"], batch[\"attention_mask\"]):\n",
    "                pred = pred.cpu().numpy()\n",
    "                label = label.cpu().numpy()\n",
    "                mask = mask.cpu().numpy()\n",
    "                \n",
    "                true_labels = []\n",
    "                true_preds = []\n",
    "                \n",
    "                for p, l, m in zip(pred, label, mask):\n",
    "                    if m == 1 and l != -100:  # Skip padding and special tokens\n",
    "                        true_labels.append(id2label[l])\n",
    "                        true_preds.append(id2label[p])\n",
    "                \n",
    "                if true_labels:  # Only add non-empty sequences\n",
    "                    all_labels.append(true_labels)\n",
    "                    all_predictions.append(true_preds)\n",
    "    \n",
    "    # Calculate exact match\n",
    "    exact_matches = sum(\n",
    "        1 for preds, labels in zip(all_predictions, all_labels) if preds == labels\n",
    "    )\n",
    "    exact_match_score = exact_matches / len(all_labels) if all_labels else 0.0\n",
    "    \n",
    "    # Calculate metrics\n",
    "    metrics = {\n",
    "        \"precision\": precision_score(all_labels, all_predictions),\n",
    "        \"recall\": recall_score(all_labels, all_predictions),\n",
    "        \"f1\": f1_score(all_labels, all_predictions),\n",
    "        \"exact_match\": exact_match_score\n",
    "    }\n",
    "\n",
    "\n",
    "    \n",
    "    return metrics\n"
   ]
  },
  {
   "cell_type": "markdown",
   "metadata": {},
   "source": [
    "## Predict funtions (single text)\n"
   ]
  },
  {
   "cell_type": "code",
   "execution_count": 15,
   "metadata": {
    "execution": {
     "iopub.execute_input": "2025-05-16T16:39:59.399811Z",
     "iopub.status.busy": "2025-05-16T16:39:59.399062Z",
     "iopub.status.idle": "2025-05-16T16:39:59.417585Z",
     "shell.execute_reply": "2025-05-16T16:39:59.416941Z",
     "shell.execute_reply.started": "2025-05-16T16:39:59.399787Z"
    },
    "trusted": true
   },
   "outputs": [],
   "source": [
    "# Inference function for a single text\n",
    "def predict_entities(text, model, tokenizer, config):\n",
    "    device = config[\"device\"]\n",
    "    model.to(device)\n",
    "    model.eval()\n",
    "    \n",
    "    # Tokenize text\n",
    "    words = text.split()\n",
    "    word_tokens = []\n",
    "    word_ids = []\n",
    "    \n",
    "    # Tokenize word-by-word\n",
    "    for i, word in enumerate(words):\n",
    "        tokens = tokenizer.tokenize(word)\n",
    "        if not tokens:\n",
    "            tokens = [tokenizer.unk_token]\n",
    "        word_tokens.extend(tokens)\n",
    "        word_ids.extend([i] * len(tokens))\n",
    "    \n",
    "    # Handle truncation\n",
    "    if len(word_tokens) > config[\"max_length\"] - 2:\n",
    "        word_tokens = word_tokens[:config[\"max_length\"] - 2]\n",
    "        word_ids = word_ids[:config[\"max_length\"] - 2]\n",
    "    \n",
    "    # Add special tokens\n",
    "    encoded = tokenizer.encode_plus(\n",
    "        word_tokens,\n",
    "        is_split_into_words=True,\n",
    "        add_special_tokens=True,\n",
    "        max_length=config[\"max_length\"],\n",
    "        padding=\"max_length\",\n",
    "        truncation=True,\n",
    "        return_tensors=\"pt\"\n",
    "    )\n",
    "    \n",
    "    # Predict\n",
    "    with torch.no_grad():\n",
    "        encoded = {k: v.to(device) for k, v in encoded.items()}\n",
    "        outputs = model(**encoded)\n",
    "        predictions = torch.argmax(outputs.logits, dim=2)[0].cpu().numpy()\n",
    "    \n",
    "    # Process predictions\n",
    "    previous_word_id = None\n",
    "    entities = []\n",
    "    current_entity = {\"text\": \"\", \"label\": \"\", \"start\": -1, \"end\": -1}\n",
    "    \n",
    "    special_tokens_mask = np.array(\n",
    "        [1] + [0] * len(word_ids) + [1] + [1] * (config[\"max_length\"] - len(word_ids) - 2)\n",
    "    )\n",
    "    \n",
    "    for i, (prediction, word_id, is_special) in enumerate(\n",
    "        zip(predictions, [None] + word_ids + [None] + [None] * (config[\"max_length\"] - len(word_ids) - 2), special_tokens_mask)\n",
    "    ):\n",
    "        # Skip special tokens and padding\n",
    "        if is_special or word_id is None:\n",
    "            continue\n",
    "        \n",
    "        label = id2label.get(prediction, \"O\")\n",
    "        \n",
    "        # If we've moved to a new word\n",
    "        if previous_word_id != word_id:\n",
    "            # If we were building an entity, finalize it\n",
    "            if current_entity[\"label\"] and current_entity[\"label\"] != \"O\":\n",
    "                entities.append(current_entity.copy())\n",
    "            \n",
    "            # Start a new word\n",
    "            previous_word_id = word_id\n",
    "            \n",
    "            # Check if this word starts a new entity\n",
    "            if label.startswith(\"B-\") or (label != \"O\" and not current_entity[\"label\"]):\n",
    "                current_entity = {\n",
    "                    \"text\": words[word_id],\n",
    "                    \"label\": label[2:] if label.startswith(\"B-\") else label,\n",
    "                    \"start\": word_id,\n",
    "                    \"end\": word_id\n",
    "                }\n",
    "            elif label.startswith(\"I-\") and current_entity[\"label\"] == label[2:]:\n",
    "                # Continue current entity\n",
    "                current_entity[\"text\"] += \" \" + words[word_id]\n",
    "                current_entity[\"end\"] = word_id\n",
    "            elif label == \"O\":\n",
    "                current_entity = {\"text\": \"\", \"label\": \"\", \"start\": -1, \"end\": -1}\n",
    "    \n",
    "    # Add the last entity if it exists\n",
    "    if current_entity[\"label\"] and current_entity[\"label\"] != \"O\":\n",
    "        entities.append(current_entity)\n",
    "    \n",
    "    return entities\n"
   ]
  },
  {
   "cell_type": "markdown",
   "metadata": {},
   "source": [
    "# Proceed training\n"
   ]
  },
  {
   "cell_type": "code",
   "execution_count": 16,
   "metadata": {
    "execution": {
     "iopub.execute_input": "2025-05-16T16:39:59.418517Z",
     "iopub.status.busy": "2025-05-16T16:39:59.418289Z",
     "iopub.status.idle": "2025-05-16T16:39:59.436949Z",
     "shell.execute_reply": "2025-05-16T16:39:59.436344Z",
     "shell.execute_reply.started": "2025-05-16T16:39:59.418501Z"
    },
    "trusted": true
   },
   "outputs": [
    {
     "data": {
      "text/plain": [
       "{'max_length': 128,\n",
       " 'batch_size': 16,\n",
       " 'learning_rate': 2e-05,\n",
       " 'epochs': 5,\n",
       " 'warmup_steps': 500,\n",
       " 'models': ['indobenchmark/indobert-base-p1',\n",
       "  'xlm-roberta-base',\n",
       "  'cahya/xlm-roberta-base-indonesian-NER'],\n",
       " 'device': device(type='cuda')}"
      ]
     },
     "execution_count": 16,
     "metadata": {},
     "output_type": "execute_result"
    }
   ],
   "source": [
    "# Load configuration\n",
    "config = get_config()\n",
    "config"
   ]
  },
  {
   "cell_type": "code",
   "execution_count": 17,
   "metadata": {
    "execution": {
     "iopub.execute_input": "2025-05-16T16:39:59.437900Z",
     "iopub.status.busy": "2025-05-16T16:39:59.437667Z",
     "iopub.status.idle": "2025-05-16T16:39:59.450714Z",
     "shell.execute_reply": "2025-05-16T16:39:59.450046Z",
     "shell.execute_reply.started": "2025-05-16T16:39:59.437885Z"
    },
    "trusted": true
   },
   "outputs": [],
   "source": [
    "dataset = raw_data"
   ]
  },
  {
   "cell_type": "markdown",
   "metadata": {},
   "source": [
    "## Train Model\n"
   ]
  },
  {
   "cell_type": "markdown",
   "metadata": {},
   "source": [
    "### indobenchmark/indobert-base-p1\n"
   ]
  },
  {
   "cell_type": "code",
   "execution_count": 18,
   "metadata": {
    "execution": {
     "iopub.execute_input": "2025-05-16T16:39:59.451554Z",
     "iopub.status.busy": "2025-05-16T16:39:59.451354Z",
     "iopub.status.idle": "2025-05-16T16:39:59.467030Z",
     "shell.execute_reply": "2025-05-16T16:39:59.466407Z",
     "shell.execute_reply.started": "2025-05-16T16:39:59.451539Z"
    },
    "trusted": true
   },
   "outputs": [
    {
     "data": {
      "text/plain": [
       "'indobenchmark/indobert-base-p1'"
      ]
     },
     "execution_count": 18,
     "metadata": {},
     "output_type": "execute_result"
    }
   ],
   "source": [
    "MODEL_NAME = config[\"models\"][0]\n",
    "MODEL_NAME"
   ]
  },
  {
   "cell_type": "code",
   "execution_count": 19,
   "metadata": {
    "execution": {
     "iopub.execute_input": "2025-05-16T16:39:59.468078Z",
     "iopub.status.busy": "2025-05-16T16:39:59.467805Z",
     "iopub.status.idle": "2025-05-16T16:40:17.839778Z",
     "shell.execute_reply": "2025-05-16T16:40:17.839216Z",
     "shell.execute_reply.started": "2025-05-16T16:39:59.468057Z"
    },
    "trusted": true
   },
   "outputs": [
    {
     "name": "stdout",
     "output_type": "stream",
     "text": [
      "\n",
      "==================================================\n",
      "Training model: indobenchmark/indobert-base-p1\n",
      "==================================================\n"
     ]
    },
    {
     "data": {
      "application/vnd.jupyter.widget-view+json": {
       "model_id": "54761a493fe749448c61088be0fe1097",
       "version_major": 2,
       "version_minor": 0
      },
      "text/plain": [
       "tokenizer_config.json:   0%|          | 0.00/2.00 [00:00<?, ?B/s]"
      ]
     },
     "metadata": {},
     "output_type": "display_data"
    },
    {
     "data": {
      "application/vnd.jupyter.widget-view+json": {
       "model_id": "bbb4c488ab56486a9706ccf20edf4f34",
       "version_major": 2,
       "version_minor": 0
      },
      "text/plain": [
       "config.json:   0%|          | 0.00/1.53k [00:00<?, ?B/s]"
      ]
     },
     "metadata": {},
     "output_type": "display_data"
    },
    {
     "data": {
      "application/vnd.jupyter.widget-view+json": {
       "model_id": "10d1909a8c324bf9836161339f508c73",
       "version_major": 2,
       "version_minor": 0
      },
      "text/plain": [
       "vocab.txt:   0%|          | 0.00/229k [00:00<?, ?B/s]"
      ]
     },
     "metadata": {},
     "output_type": "display_data"
    },
    {
     "data": {
      "application/vnd.jupyter.widget-view+json": {
       "model_id": "5204d1c5b418476bb32f6e6cedae48b8",
       "version_major": 2,
       "version_minor": 0
      },
      "text/plain": [
       "special_tokens_map.json:   0%|          | 0.00/112 [00:00<?, ?B/s]"
      ]
     },
     "metadata": {},
     "output_type": "display_data"
    },
    {
     "name": "stderr",
     "output_type": "stream",
     "text": [
      "2025-05-16 16:40:03.516068: E external/local_xla/xla/stream_executor/cuda/cuda_fft.cc:477] Unable to register cuFFT factory: Attempting to register factory for plugin cuFFT when one has already been registered\n",
      "WARNING: All log messages before absl::InitializeLog() is called are written to STDERR\n",
      "E0000 00:00:1747413603.723701      35 cuda_dnn.cc:8310] Unable to register cuDNN factory: Attempting to register factory for plugin cuDNN when one has already been registered\n",
      "E0000 00:00:1747413603.785729      35 cuda_blas.cc:1418] Unable to register cuBLAS factory: Attempting to register factory for plugin cuBLAS when one has already been registered\n"
     ]
    },
    {
     "data": {
      "application/vnd.jupyter.widget-view+json": {
       "model_id": "4e2134ac930140a2a1c24e1f16b488de",
       "version_major": 2,
       "version_minor": 0
      },
      "text/plain": [
       "pytorch_model.bin:   0%|          | 0.00/498M [00:00<?, ?B/s]"
      ]
     },
     "metadata": {},
     "output_type": "display_data"
    },
    {
     "name": "stderr",
     "output_type": "stream",
     "text": [
      "Some weights of BertForTokenClassification were not initialized from the model checkpoint at indobenchmark/indobert-base-p1 and are newly initialized: ['classifier.bias', 'classifier.weight']\n",
      "You should probably TRAIN this model on a down-stream task to be able to use it for predictions and inference.\n"
     ]
    }
   ],
   "source": [
    "print(f\"\\n{'='*50}\")\n",
    "print(f\"Training model: {MODEL_NAME}\")\n",
    "print(f\"{'='*50}\")\n",
    "\n",
    "# Load tokenizer and model\n",
    "tokenizer = AutoTokenizer.from_pretrained(MODEL_NAME)\n",
    "model = AutoModelForTokenClassification.from_pretrained(\n",
    "    MODEL_NAME, \n",
    "    num_labels=len(NER_TAG),\n",
    "    id2label=id2label,\n",
    "    label2id=label2id\n",
    ")\n"
   ]
  },
  {
   "cell_type": "code",
   "execution_count": 20,
   "metadata": {
    "execution": {
     "iopub.execute_input": "2025-05-16T16:40:17.840950Z",
     "iopub.status.busy": "2025-05-16T16:40:17.840476Z",
     "iopub.status.idle": "2025-05-16T16:40:21.264312Z",
     "shell.execute_reply": "2025-05-16T16:40:21.263704Z",
     "shell.execute_reply.started": "2025-05-16T16:40:17.840932Z"
    },
    "trusted": true
   },
   "outputs": [
    {
     "name": "stdout",
     "output_type": "stream",
     "text": [
      "Preparing train dataset...\n"
     ]
    },
    {
     "data": {
      "application/vnd.jupyter.widget-view+json": {
       "model_id": "54f743c8d3ab472eb68eef18d1e47659",
       "version_major": 2,
       "version_minor": 0
      },
      "text/plain": [
       "model.safetensors:   0%|          | 0.00/498M [00:00<?, ?B/s]"
      ]
     },
     "metadata": {},
     "output_type": "display_data"
    },
    {
     "name": "stdout",
     "output_type": "stream",
     "text": [
      "Preparing test dataset...\n",
      "Preparing dev dataset...\n"
     ]
    }
   ],
   "source": [
    "# Prepare datasets\n",
    "tokenized_datasets = prepare_datasets(dataset, tokenizer, config)\n",
    "dataloaders = create_dataloaders(tokenized_datasets, config)\n",
    "\n"
   ]
  },
  {
   "cell_type": "code",
   "execution_count": 21,
   "metadata": {
    "execution": {
     "iopub.execute_input": "2025-05-16T16:40:21.265279Z",
     "iopub.status.busy": "2025-05-16T16:40:21.265002Z",
     "iopub.status.idle": "2025-05-16T16:40:21.270271Z",
     "shell.execute_reply": "2025-05-16T16:40:21.269592Z",
     "shell.execute_reply.started": "2025-05-16T16:40:21.265255Z"
    },
    "trusted": true
   },
   "outputs": [],
   "source": [
    "# Setup optimizer and scheduler\n",
    "optimizer = AdamW(model.parameters(), lr=config[\"learning_rate\"])\n",
    "total_steps = len(dataloaders[\"train\"]) * config[\"epochs\"]\n",
    "scheduler = get_linear_schedule_with_warmup(\n",
    "    optimizer,\n",
    "    num_warmup_steps=config[\"warmup_steps\"],\n",
    "    num_training_steps=total_steps\n",
    ")\n"
   ]
  },
  {
   "cell_type": "code",
   "execution_count": 22,
   "metadata": {
    "execution": {
     "iopub.execute_input": "2025-05-16T16:40:21.271308Z",
     "iopub.status.busy": "2025-05-16T16:40:21.271052Z",
     "iopub.status.idle": "2025-05-16T16:42:08.759436Z",
     "shell.execute_reply": "2025-05-16T16:42:08.758649Z",
     "shell.execute_reply.started": "2025-05-16T16:40:21.271290Z"
    },
    "trusted": true
   },
   "outputs": [
    {
     "name": "stdout",
     "output_type": "stream",
     "text": [
      "Training on cuda\n",
      "\n",
      "Epoch 1/5\n"
     ]
    },
    {
     "name": "stderr",
     "output_type": "stream",
     "text": [
      "Training: 100%|██████████| 92/92 [00:19<00:00,  4.77it/s, loss=0.512]\n"
     ]
    },
    {
     "name": "stdout",
     "output_type": "stream",
     "text": [
      "Average training loss: 1.1031\n"
     ]
    },
    {
     "name": "stderr",
     "output_type": "stream",
     "text": [
      "Evaluating: 100%|██████████| 23/23 [00:01<00:00, 18.05it/s]\n"
     ]
    },
    {
     "name": "stdout",
     "output_type": "stream",
     "text": [
      "New best F1: 0.1341 - Saving model\n",
      "Validation Metrics: Precision=0.3241, Recall=0.0845, F1=0.1341, Exact Match= 0.2943\n",
      "\n",
      "Epoch 2/5\n"
     ]
    },
    {
     "name": "stderr",
     "output_type": "stream",
     "text": [
      "Training: 100%|██████████| 92/92 [00:18<00:00,  4.92it/s, loss=0.22] \n"
     ]
    },
    {
     "name": "stdout",
     "output_type": "stream",
     "text": [
      "Average training loss: 0.3476\n"
     ]
    },
    {
     "name": "stderr",
     "output_type": "stream",
     "text": [
      "Evaluating: 100%|██████████| 23/23 [00:01<00:00, 18.15it/s]\n"
     ]
    },
    {
     "name": "stdout",
     "output_type": "stream",
     "text": [
      "New best F1: 0.5572 - Saving model\n",
      "Validation Metrics: Precision=0.5471, Recall=0.5676, F1=0.5572, Exact Match= 0.4659\n",
      "\n",
      "Epoch 3/5\n"
     ]
    },
    {
     "name": "stderr",
     "output_type": "stream",
     "text": [
      "Training: 100%|██████████| 92/92 [00:18<00:00,  4.92it/s, loss=0.147] \n"
     ]
    },
    {
     "name": "stdout",
     "output_type": "stream",
     "text": [
      "Average training loss: 0.1654\n"
     ]
    },
    {
     "name": "stderr",
     "output_type": "stream",
     "text": [
      "Evaluating: 100%|██████████| 23/23 [00:01<00:00, 18.24it/s]\n"
     ]
    },
    {
     "name": "stdout",
     "output_type": "stream",
     "text": [
      "New best F1: 0.7126 - Saving model\n",
      "Validation Metrics: Precision=0.6837, Recall=0.7440, F1=0.7126, Exact Match= 0.6131\n",
      "\n",
      "Epoch 4/5\n"
     ]
    },
    {
     "name": "stderr",
     "output_type": "stream",
     "text": [
      "Training: 100%|██████████| 92/92 [00:18<00:00,  4.92it/s, loss=0.0742]\n"
     ]
    },
    {
     "name": "stdout",
     "output_type": "stream",
     "text": [
      "Average training loss: 0.0902\n"
     ]
    },
    {
     "name": "stderr",
     "output_type": "stream",
     "text": [
      "Evaluating: 100%|██████████| 23/23 [00:01<00:00, 18.22it/s]\n"
     ]
    },
    {
     "name": "stdout",
     "output_type": "stream",
     "text": [
      "New best F1: 0.7948 - Saving model\n",
      "Validation Metrics: Precision=0.7743, Recall=0.8164, F1=0.7948, Exact Match= 0.7112\n",
      "\n",
      "Epoch 5/5\n"
     ]
    },
    {
     "name": "stderr",
     "output_type": "stream",
     "text": [
      "Training: 100%|██████████| 92/92 [00:18<00:00,  4.92it/s, loss=0.0409]\n"
     ]
    },
    {
     "name": "stdout",
     "output_type": "stream",
     "text": [
      "Average training loss: 0.0483\n"
     ]
    },
    {
     "name": "stderr",
     "output_type": "stream",
     "text": [
      "Evaluating: 100%|██████████| 23/23 [00:01<00:00, 18.15it/s]\n"
     ]
    },
    {
     "name": "stdout",
     "output_type": "stream",
     "text": [
      "New best F1: 0.8278 - Saving model\n",
      "Validation Metrics: Precision=0.7888, Recall=0.8708, F1=0.8278, Exact Match= 0.7411\n"
     ]
    }
   ],
   "source": [
    "# Train and evaluate\n",
    "train_model(model, dataloaders, optimizer, scheduler, config, MODEL_NAME)\n"
   ]
  },
  {
   "cell_type": "code",
   "execution_count": 23,
   "metadata": {
    "execution": {
     "iopub.execute_input": "2025-05-16T16:42:08.760868Z",
     "iopub.status.busy": "2025-05-16T16:42:08.760640Z",
     "iopub.status.idle": "2025-05-16T16:42:09.201006Z",
     "shell.execute_reply": "2025-05-16T16:42:09.200439Z",
     "shell.execute_reply.started": "2025-05-16T16:42:08.760851Z"
    },
    "trusted": true
   },
   "outputs": [],
   "source": [
    "# Load best model\n",
    "best_model_path = f\"models/best_model_{MODEL_NAME.replace('/', '_')}.pt\"\n",
    "if os.path.exists(best_model_path):\n",
    "    model.load_state_dict(torch.load(best_model_path))\n"
   ]
  },
  {
   "cell_type": "code",
   "execution_count": 24,
   "metadata": {
    "execution": {
     "iopub.execute_input": "2025-05-16T16:42:09.201969Z",
     "iopub.status.busy": "2025-05-16T16:42:09.201754Z",
     "iopub.status.idle": "2025-05-16T16:42:11.037393Z",
     "shell.execute_reply": "2025-05-16T16:42:11.036738Z",
     "shell.execute_reply.started": "2025-05-16T16:42:09.201953Z"
    },
    "trusted": true
   },
   "outputs": [
    {
     "name": "stdout",
     "output_type": "stream",
     "text": [
      "Evaluating on test set...\n"
     ]
    },
    {
     "name": "stderr",
     "output_type": "stream",
     "text": [
      "Evaluating: 100%|██████████| 32/32 [00:01<00:00, 18.11it/s]"
     ]
    },
    {
     "name": "stdout",
     "output_type": "stream",
     "text": [
      "Test Metrics:\n",
      "Precision=0.8950\n",
      "Recall=0.9132\n",
      "F1=0.9040\n",
      "Exact Match=0.7878\n"
     ]
    },
    {
     "name": "stderr",
     "output_type": "stream",
     "text": [
      "\n"
     ]
    }
   ],
   "source": [
    "# Evaluate on test set\n",
    "print(\"Evaluating on test set...\")\n",
    "test_metrics = evaluate_model(model, dataloaders[\"test\"], config)\n",
    "print(f\"Test Metrics:\\nPrecision={test_metrics['precision']:.4f}\\nRecall={test_metrics['recall']:.4f}\\nF1={test_metrics['f1']:.4f}\\nExact Match={test_metrics['exact_match']:.4f}\")"
   ]
  },
  {
   "cell_type": "code",
   "execution_count": 25,
   "metadata": {
    "execution": {
     "iopub.execute_input": "2025-05-16T16:42:11.038505Z",
     "iopub.status.busy": "2025-05-16T16:42:11.038237Z",
     "iopub.status.idle": "2025-05-16T16:42:11.084204Z",
     "shell.execute_reply": "2025-05-16T16:42:11.083551Z",
     "shell.execute_reply.started": "2025-05-16T16:42:11.038481Z"
    },
    "trusted": true
   },
   "outputs": [
    {
     "name": "stdout",
     "output_type": "stream",
     "text": [
      "\n",
      "Example predictions:\n",
      "\n",
      "Text: Presiden Joko Widodo mengunjungi Universitas Indonesia di Depok.\n",
      "Entities:\n",
      "  - Joko (PER)\n",
      "  - Joko Widodo (PER)\n",
      "  - Universitas (LOC)\n",
      "  - Universitas Indonesia (LOC)\n",
      "  - Depok. (LOC)\n",
      "\n",
      "Text: Bank BRI meluncurkan program baru di Jakarta Selatan.\n",
      "Entities:\n",
      "  - Bank (ORG)\n",
      "  - Bank BRI (ORG)\n",
      "  - Jakarta (LOC)\n",
      "  - Jakarta Selatan. (LOC)\n",
      "\n",
      "Text: Gubernur DKI Jakarta Anies Baswedan meresmikan MRT Jakarta.\n",
      "Entities:\n",
      "  - Anies (PER)\n",
      "  - Anies Baswedan (PER)\n"
     ]
    }
   ],
   "source": [
    "# Demo predictions\n",
    "print(\"\\nExample predictions:\")\n",
    "sample_texts = [\n",
    "    \"Presiden Joko Widodo mengunjungi Universitas Indonesia di Depok.\",\n",
    "    \"Bank BRI meluncurkan program baru di Jakarta Selatan.\",\n",
    "    \"Gubernur DKI Jakarta Anies Baswedan meresmikan MRT Jakarta.\"\n",
    "]\n",
    "\n",
    "for text in sample_texts:\n",
    "    entities = predict_entities(text, model, tokenizer, config)\n",
    "    \n",
    "    print(f\"\\nText: {text}\")\n",
    "    print(\"Entities:\")\n",
    "    \n",
    "    for entity in entities:\n",
    "        print(f\"  - {entity['text']} ({entity['label']})\")\n"
   ]
  },
  {
   "cell_type": "markdown",
   "metadata": {},
   "source": [
    "### xlm-roberta-base\n"
   ]
  },
  {
   "cell_type": "code",
   "execution_count": 26,
   "metadata": {
    "execution": {
     "iopub.execute_input": "2025-05-16T16:42:11.088516Z",
     "iopub.status.busy": "2025-05-16T16:42:11.087834Z",
     "iopub.status.idle": "2025-05-16T16:42:11.092916Z",
     "shell.execute_reply": "2025-05-16T16:42:11.092200Z",
     "shell.execute_reply.started": "2025-05-16T16:42:11.088489Z"
    },
    "trusted": true
   },
   "outputs": [
    {
     "data": {
      "text/plain": [
       "'xlm-roberta-base'"
      ]
     },
     "execution_count": 26,
     "metadata": {},
     "output_type": "execute_result"
    }
   ],
   "source": [
    "MODEL_NAME = config[\"models\"][1]\n",
    "MODEL_NAME"
   ]
  },
  {
   "cell_type": "code",
   "execution_count": 27,
   "metadata": {
    "execution": {
     "iopub.execute_input": "2025-05-16T16:42:11.093961Z",
     "iopub.status.busy": "2025-05-16T16:42:11.093754Z",
     "iopub.status.idle": "2025-05-16T16:42:22.297817Z",
     "shell.execute_reply": "2025-05-16T16:42:22.297075Z",
     "shell.execute_reply.started": "2025-05-16T16:42:11.093947Z"
    },
    "scrolled": true,
    "trusted": true
   },
   "outputs": [
    {
     "name": "stdout",
     "output_type": "stream",
     "text": [
      "\n",
      "==================================================\n",
      "Training model: xlm-roberta-base\n",
      "==================================================\n"
     ]
    },
    {
     "data": {
      "application/vnd.jupyter.widget-view+json": {
       "model_id": "8a486046733b476ca56c574469ba4387",
       "version_major": 2,
       "version_minor": 0
      },
      "text/plain": [
       "tokenizer_config.json:   0%|          | 0.00/25.0 [00:00<?, ?B/s]"
      ]
     },
     "metadata": {},
     "output_type": "display_data"
    },
    {
     "data": {
      "application/vnd.jupyter.widget-view+json": {
       "model_id": "83c8d10491f54821842be86c9e068edc",
       "version_major": 2,
       "version_minor": 0
      },
      "text/plain": [
       "config.json:   0%|          | 0.00/615 [00:00<?, ?B/s]"
      ]
     },
     "metadata": {},
     "output_type": "display_data"
    },
    {
     "data": {
      "application/vnd.jupyter.widget-view+json": {
       "model_id": "3b91eefe2aec49e0853d2ee00bde962f",
       "version_major": 2,
       "version_minor": 0
      },
      "text/plain": [
       "sentencepiece.bpe.model:   0%|          | 0.00/5.07M [00:00<?, ?B/s]"
      ]
     },
     "metadata": {},
     "output_type": "display_data"
    },
    {
     "data": {
      "application/vnd.jupyter.widget-view+json": {
       "model_id": "0f57b101be894424ba9f3a10951f89d3",
       "version_major": 2,
       "version_minor": 0
      },
      "text/plain": [
       "tokenizer.json:   0%|          | 0.00/9.10M [00:00<?, ?B/s]"
      ]
     },
     "metadata": {},
     "output_type": "display_data"
    },
    {
     "data": {
      "application/vnd.jupyter.widget-view+json": {
       "model_id": "5b8ade9fdfd543f3b772beef98b4c541",
       "version_major": 2,
       "version_minor": 0
      },
      "text/plain": [
       "model.safetensors:   0%|          | 0.00/1.12G [00:00<?, ?B/s]"
      ]
     },
     "metadata": {},
     "output_type": "display_data"
    },
    {
     "name": "stderr",
     "output_type": "stream",
     "text": [
      "Some weights of XLMRobertaForTokenClassification were not initialized from the model checkpoint at xlm-roberta-base and are newly initialized: ['classifier.bias', 'classifier.weight']\n",
      "You should probably TRAIN this model on a down-stream task to be able to use it for predictions and inference.\n"
     ]
    }
   ],
   "source": [
    "print(f\"\\n{'='*50}\")\n",
    "print(f\"Training model: {MODEL_NAME}\")\n",
    "print(f\"{'='*50}\")\n",
    "\n",
    "# Load tokenizer and model\n",
    "tokenizer = AutoTokenizer.from_pretrained(MODEL_NAME)\n",
    "model = AutoModelForTokenClassification.from_pretrained(\n",
    "    MODEL_NAME, \n",
    "    num_labels=len(NER_TAG),\n",
    "    id2label=id2label,\n",
    "    label2id=label2id\n",
    ")\n"
   ]
  },
  {
   "cell_type": "code",
   "execution_count": 28,
   "metadata": {
    "execution": {
     "iopub.execute_input": "2025-05-16T16:42:22.298969Z",
     "iopub.status.busy": "2025-05-16T16:42:22.298644Z",
     "iopub.status.idle": "2025-05-16T16:42:22.305679Z",
     "shell.execute_reply": "2025-05-16T16:42:22.305049Z",
     "shell.execute_reply.started": "2025-05-16T16:42:22.298937Z"
    },
    "trusted": true
   },
   "outputs": [],
   "source": [
    "# Setup optimizer and scheduler\n",
    "optimizer = AdamW(model.parameters(), lr=config[\"learning_rate\"])\n",
    "total_steps = len(dataloaders[\"train\"]) * config[\"epochs\"]\n",
    "scheduler = get_linear_schedule_with_warmup(\n",
    "    optimizer,\n",
    "    num_warmup_steps=config[\"warmup_steps\"],\n",
    "    num_training_steps=total_steps\n",
    ")\n"
   ]
  },
  {
   "cell_type": "code",
   "execution_count": 29,
   "metadata": {
    "execution": {
     "iopub.execute_input": "2025-05-16T16:42:22.307048Z",
     "iopub.status.busy": "2025-05-16T16:42:22.306846Z",
     "iopub.status.idle": "2025-05-16T16:44:17.684415Z",
     "shell.execute_reply": "2025-05-16T16:44:17.683412Z",
     "shell.execute_reply.started": "2025-05-16T16:42:22.307033Z"
    },
    "trusted": true
   },
   "outputs": [
    {
     "name": "stdout",
     "output_type": "stream",
     "text": [
      "Training on cuda\n",
      "\n",
      "Epoch 1/5\n"
     ]
    },
    {
     "name": "stderr",
     "output_type": "stream",
     "text": [
      "Training: 100%|██████████| 92/92 [00:21<00:00,  4.36it/s, loss=0.608]\n"
     ]
    },
    {
     "name": "stdout",
     "output_type": "stream",
     "text": [
      "Average training loss: 1.4260\n"
     ]
    },
    {
     "name": "stderr",
     "output_type": "stream",
     "text": [
      "Evaluating: 100%|██████████| 23/23 [00:01<00:00, 18.15it/s]\n",
      "/usr/local/lib/python3.11/dist-packages/seqeval/metrics/v1.py:57: UndefinedMetricWarning: Precision is ill-defined and being set to 0.0 due to no predicted samples. Use `zero_division` parameter to control this behavior.\n",
      "  _warn_prf(average, modifier, msg_start, len(result))\n"
     ]
    },
    {
     "name": "stdout",
     "output_type": "stream",
     "text": [
      "Validation Metrics: Precision=0.0000, Recall=0.0000, F1=0.0000, Exact Match= 0.3106\n",
      "\n",
      "Epoch 2/5\n"
     ]
    },
    {
     "name": "stderr",
     "output_type": "stream",
     "text": [
      "Training: 100%|██████████| 92/92 [00:21<00:00,  4.37it/s, loss=0.542]\n"
     ]
    },
    {
     "name": "stdout",
     "output_type": "stream",
     "text": [
      "Average training loss: 0.6660\n"
     ]
    },
    {
     "name": "stderr",
     "output_type": "stream",
     "text": [
      "Evaluating: 100%|██████████| 23/23 [00:01<00:00, 18.18it/s]\n"
     ]
    },
    {
     "name": "stdout",
     "output_type": "stream",
     "text": [
      "Validation Metrics: Precision=0.0000, Recall=0.0000, F1=0.0000, Exact Match= 0.3106\n",
      "\n",
      "Epoch 3/5\n"
     ]
    },
    {
     "name": "stderr",
     "output_type": "stream",
     "text": [
      "Training: 100%|██████████| 92/92 [00:21<00:00,  4.37it/s, loss=0.815]\n"
     ]
    },
    {
     "name": "stdout",
     "output_type": "stream",
     "text": [
      "Average training loss: 0.6504\n"
     ]
    },
    {
     "name": "stderr",
     "output_type": "stream",
     "text": [
      "Evaluating: 100%|██████████| 23/23 [00:01<00:00, 18.18it/s]\n"
     ]
    },
    {
     "name": "stdout",
     "output_type": "stream",
     "text": [
      "Validation Metrics: Precision=0.0000, Recall=0.0000, F1=0.0000, Exact Match= 0.3106\n",
      "\n",
      "Epoch 4/5\n"
     ]
    },
    {
     "name": "stderr",
     "output_type": "stream",
     "text": [
      "Training: 100%|██████████| 92/92 [00:21<00:00,  4.38it/s, loss=0.461]\n"
     ]
    },
    {
     "name": "stdout",
     "output_type": "stream",
     "text": [
      "Average training loss: 0.6274\n"
     ]
    },
    {
     "name": "stderr",
     "output_type": "stream",
     "text": [
      "Evaluating: 100%|██████████| 23/23 [00:01<00:00, 18.20it/s]\n"
     ]
    },
    {
     "name": "stdout",
     "output_type": "stream",
     "text": [
      "Validation Metrics: Precision=0.0000, Recall=0.0000, F1=0.0000, Exact Match= 0.3106\n",
      "\n",
      "Epoch 5/5\n"
     ]
    },
    {
     "name": "stderr",
     "output_type": "stream",
     "text": [
      "Training: 100%|██████████| 92/92 [00:21<00:00,  4.37it/s, loss=0.614]\n"
     ]
    },
    {
     "name": "stdout",
     "output_type": "stream",
     "text": [
      "Average training loss: 0.5867\n"
     ]
    },
    {
     "name": "stderr",
     "output_type": "stream",
     "text": [
      "Evaluating: 100%|██████████| 23/23 [00:01<00:00, 18.09it/s]\n"
     ]
    },
    {
     "name": "stdout",
     "output_type": "stream",
     "text": [
      "New best F1: 0.0071 - Saving model\n",
      "Validation Metrics: Precision=0.1765, Recall=0.0036, F1=0.0071, Exact Match= 0.3106\n"
     ]
    }
   ],
   "source": [
    "# Train and evaluate\n",
    "train_model(model, dataloaders, optimizer, scheduler, config, MODEL_NAME)\n"
   ]
  },
  {
   "cell_type": "code",
   "execution_count": 30,
   "metadata": {
    "execution": {
     "iopub.execute_input": "2025-05-16T16:44:17.686248Z",
     "iopub.status.busy": "2025-05-16T16:44:17.685869Z",
     "iopub.status.idle": "2025-05-16T16:44:18.682481Z",
     "shell.execute_reply": "2025-05-16T16:44:18.681885Z",
     "shell.execute_reply.started": "2025-05-16T16:44:17.686215Z"
    },
    "trusted": true
   },
   "outputs": [],
   "source": [
    "# Load best model\n",
    "best_model_path = f\"models/best_model_{MODEL_NAME.replace('/', '_')}.pt\"\n",
    "if os.path.exists(best_model_path):\n",
    "    model.load_state_dict(torch.load(best_model_path))\n"
   ]
  },
  {
   "cell_type": "code",
   "execution_count": 31,
   "metadata": {
    "execution": {
     "iopub.execute_input": "2025-05-16T16:44:18.683693Z",
     "iopub.status.busy": "2025-05-16T16:44:18.683329Z",
     "iopub.status.idle": "2025-05-16T16:44:20.514891Z",
     "shell.execute_reply": "2025-05-16T16:44:20.514196Z",
     "shell.execute_reply.started": "2025-05-16T16:44:18.683674Z"
    },
    "trusted": true
   },
   "outputs": [
    {
     "name": "stdout",
     "output_type": "stream",
     "text": [
      "Evaluating on test set...\n"
     ]
    },
    {
     "name": "stderr",
     "output_type": "stream",
     "text": [
      "Evaluating: 100%|██████████| 32/32 [00:01<00:00, 18.13it/s]"
     ]
    },
    {
     "name": "stdout",
     "output_type": "stream",
     "text": [
      "Test Metrics:\n",
      "Precision=0.1400\n",
      "Recall=0.0051\n",
      "F1=0.0098\n",
      "Exact Match=0.1670\n"
     ]
    },
    {
     "name": "stderr",
     "output_type": "stream",
     "text": [
      "\n"
     ]
    }
   ],
   "source": [
    "# Evaluate on test set\n",
    "print(\"Evaluating on test set...\")\n",
    "test_metrics = evaluate_model(model, dataloaders[\"test\"], config)\n",
    "print(f\"Test Metrics:\\nPrecision={test_metrics['precision']:.4f}\\nRecall={test_metrics['recall']:.4f}\\nF1={test_metrics['f1']:.4f}\\nExact Match={test_metrics['exact_match']:.4f}\")\n"
   ]
  },
  {
   "cell_type": "code",
   "execution_count": 32,
   "metadata": {
    "execution": {
     "iopub.execute_input": "2025-05-16T16:44:20.516261Z",
     "iopub.status.busy": "2025-05-16T16:44:20.515926Z",
     "iopub.status.idle": "2025-05-16T16:44:20.563939Z",
     "shell.execute_reply": "2025-05-16T16:44:20.563211Z",
     "shell.execute_reply.started": "2025-05-16T16:44:20.516242Z"
    },
    "trusted": true
   },
   "outputs": [
    {
     "name": "stdout",
     "output_type": "stream",
     "text": [
      "\n",
      "Example predictions:\n",
      "\n",
      "Text: Presiden Joko Widodo mengunjungi Universitas Indonesia di Depok.\n",
      "Entities:\n",
      "  - Presiden (ORG)\n",
      "  - Widodo (ORG)\n",
      "\n",
      "Text: Bank BRI meluncurkan program baru di Jakarta Selatan.\n",
      "Entities:\n",
      "  - di (ORG)\n",
      "\n",
      "Text: Gubernur DKI Jakarta Anies Baswedan meresmikan MRT Jakarta.\n",
      "Entities:\n"
     ]
    }
   ],
   "source": [
    "# Demo predictions\n",
    "print(\"\\nExample predictions:\")\n",
    "sample_texts = [\n",
    "    \"Presiden Joko Widodo mengunjungi Universitas Indonesia di Depok.\",\n",
    "    \"Bank BRI meluncurkan program baru di Jakarta Selatan.\",\n",
    "    \"Gubernur DKI Jakarta Anies Baswedan meresmikan MRT Jakarta.\"\n",
    "]\n",
    "\n",
    "for text in sample_texts:\n",
    "    entities = predict_entities(text, model, tokenizer, config)\n",
    "    \n",
    "    print(f\"\\nText: {text}\")\n",
    "    print(\"Entities:\")\n",
    "    \n",
    "    for entity in entities:\n",
    "        print(f\"  - {entity['text']} ({entity['label']})\")\n"
   ]
  },
  {
   "cell_type": "markdown",
   "metadata": {},
   "source": [
    "### cahya/xlm-roberta-base-indonesian-NER\n"
   ]
  },
  {
   "cell_type": "code",
   "execution_count": 33,
   "metadata": {
    "execution": {
     "iopub.execute_input": "2025-05-16T16:44:20.564983Z",
     "iopub.status.busy": "2025-05-16T16:44:20.564689Z",
     "iopub.status.idle": "2025-05-16T16:44:21.913751Z",
     "shell.execute_reply": "2025-05-16T16:44:21.912580Z",
     "shell.execute_reply.started": "2025-05-16T16:44:20.564962Z"
    },
    "trusted": true
   },
   "outputs": [
    {
     "data": {
      "text/plain": [
       "'cahya/xlm-roberta-base-indonesian-NER'"
      ]
     },
     "execution_count": 33,
     "metadata": {},
     "output_type": "execute_result"
    }
   ],
   "source": [
    "MODEL_NAME = config[\"models\"][2]\n",
    "MODEL_NAME"
   ]
  },
  {
   "cell_type": "code",
   "execution_count": 34,
   "metadata": {
    "execution": {
     "iopub.execute_input": "2025-05-16T16:44:21.915027Z",
     "iopub.status.busy": "2025-05-16T16:44:21.914558Z",
     "iopub.status.idle": "2025-05-16T16:44:40.548595Z",
     "shell.execute_reply": "2025-05-16T16:44:40.548093Z",
     "shell.execute_reply.started": "2025-05-16T16:44:21.915005Z"
    },
    "trusted": true
   },
   "outputs": [
    {
     "name": "stdout",
     "output_type": "stream",
     "text": [
      "\n",
      "==================================================\n",
      "Training model: cahya/xlm-roberta-base-indonesian-NER\n",
      "==================================================\n"
     ]
    },
    {
     "data": {
      "application/vnd.jupyter.widget-view+json": {
       "model_id": "7f4594d3ecea4261afd8247da6a06419",
       "version_major": 2,
       "version_minor": 0
      },
      "text/plain": [
       "tokenizer_config.json:   0%|          | 0.00/49.0 [00:00<?, ?B/s]"
      ]
     },
     "metadata": {},
     "output_type": "display_data"
    },
    {
     "data": {
      "application/vnd.jupyter.widget-view+json": {
       "model_id": "4e39a8605afd459bbfcdeb8fcd7fc961",
       "version_major": 2,
       "version_minor": 0
      },
      "text/plain": [
       "config.json:   0%|          | 0.00/2.05k [00:00<?, ?B/s]"
      ]
     },
     "metadata": {},
     "output_type": "display_data"
    },
    {
     "data": {
      "application/vnd.jupyter.widget-view+json": {
       "model_id": "a13d383e075b4b3ba124f39c237e7597",
       "version_major": 2,
       "version_minor": 0
      },
      "text/plain": [
       "sentencepiece.bpe.model:   0%|          | 0.00/5.07M [00:00<?, ?B/s]"
      ]
     },
     "metadata": {},
     "output_type": "display_data"
    },
    {
     "data": {
      "application/vnd.jupyter.widget-view+json": {
       "model_id": "091018ab73ef4fdf998ba97695bf6969",
       "version_major": 2,
       "version_minor": 0
      },
      "text/plain": [
       "special_tokens_map.json:   0%|          | 0.00/150 [00:00<?, ?B/s]"
      ]
     },
     "metadata": {},
     "output_type": "display_data"
    },
    {
     "data": {
      "application/vnd.jupyter.widget-view+json": {
       "model_id": "ca827906972f42f9959662ef87c061e2",
       "version_major": 2,
       "version_minor": 0
      },
      "text/plain": [
       "model.safetensors:   0%|          | 0.00/1.11G [00:00<?, ?B/s]"
      ]
     },
     "metadata": {},
     "output_type": "display_data"
    },
    {
     "name": "stderr",
     "output_type": "stream",
     "text": [
      "Some weights of the model checkpoint at cahya/xlm-roberta-base-indonesian-NER were not used when initializing XLMRobertaForTokenClassification: ['roberta.pooler.dense.bias', 'roberta.pooler.dense.weight']\n",
      "- This IS expected if you are initializing XLMRobertaForTokenClassification from the checkpoint of a model trained on another task or with another architecture (e.g. initializing a BertForSequenceClassification model from a BertForPreTraining model).\n",
      "- This IS NOT expected if you are initializing XLMRobertaForTokenClassification from the checkpoint of a model that you expect to be exactly identical (initializing a BertForSequenceClassification model from a BertForSequenceClassification model).\n",
      "Some weights of XLMRobertaForTokenClassification were not initialized from the model checkpoint at cahya/xlm-roberta-base-indonesian-NER and are newly initialized because the shapes did not match:\n",
      "- classifier.bias: found shape torch.Size([39]) in the checkpoint and torch.Size([7]) in the model instantiated\n",
      "- classifier.weight: found shape torch.Size([39, 768]) in the checkpoint and torch.Size([7, 768]) in the model instantiated\n",
      "You should probably TRAIN this model on a down-stream task to be able to use it for predictions and inference.\n"
     ]
    }
   ],
   "source": [
    "print(f\"\\n{'='*50}\")\n",
    "print(f\"Training model: {MODEL_NAME}\")\n",
    "print(f\"{'='*50}\")\n",
    "\n",
    "# Load tokenizer and model\n",
    "tokenizer = AutoTokenizer.from_pretrained(MODEL_NAME)\n",
    "\n",
    "custom_config = AutoConfig.from_pretrained(\n",
    "    MODEL_NAME,\n",
    "    num_labels=len(NER_TAG),\n",
    "    id2label=id2label,\n",
    "    label2id=label2id\n",
    ")\n",
    "\n",
    "# Load model\n",
    "model = AutoModelForTokenClassification.from_pretrained(\n",
    "    MODEL_NAME,\n",
    "    config=custom_config,\n",
    "    ignore_mismatched_sizes=True\n",
    ")\n"
   ]
  },
  {
   "cell_type": "code",
   "execution_count": 35,
   "metadata": {
    "execution": {
     "iopub.execute_input": "2025-05-16T16:44:40.549510Z",
     "iopub.status.busy": "2025-05-16T16:44:40.549313Z",
     "iopub.status.idle": "2025-05-16T16:44:40.556474Z",
     "shell.execute_reply": "2025-05-16T16:44:40.555868Z",
     "shell.execute_reply.started": "2025-05-16T16:44:40.549494Z"
    },
    "trusted": true
   },
   "outputs": [],
   "source": [
    "# Setup optimizer and scheduler\n",
    "optimizer = AdamW(model.parameters(), lr=config[\"learning_rate\"])\n",
    "total_steps = len(dataloaders[\"train\"]) * config[\"epochs\"]\n",
    "scheduler = get_linear_schedule_with_warmup(\n",
    "    optimizer,\n",
    "    num_warmup_steps=config[\"warmup_steps\"],\n",
    "    num_training_steps=total_steps\n",
    ")\n"
   ]
  },
  {
   "cell_type": "code",
   "execution_count": 36,
   "metadata": {
    "execution": {
     "iopub.execute_input": "2025-05-16T16:44:40.557526Z",
     "iopub.status.busy": "2025-05-16T16:44:40.557287Z",
     "iopub.status.idle": "2025-05-16T16:46:32.698405Z",
     "shell.execute_reply": "2025-05-16T16:46:32.697791Z",
     "shell.execute_reply.started": "2025-05-16T16:44:40.557503Z"
    },
    "scrolled": true,
    "trusted": true
   },
   "outputs": [
    {
     "name": "stdout",
     "output_type": "stream",
     "text": [
      "Training on cuda\n",
      "\n",
      "Epoch 1/5\n"
     ]
    },
    {
     "name": "stderr",
     "output_type": "stream",
     "text": [
      "Training: 100%|██████████| 92/92 [00:21<00:00,  4.37it/s, loss=0.718]\n"
     ]
    },
    {
     "name": "stdout",
     "output_type": "stream",
     "text": [
      "Average training loss: 1.2160\n"
     ]
    },
    {
     "name": "stderr",
     "output_type": "stream",
     "text": [
      "Evaluating: 100%|██████████| 23/23 [00:01<00:00, 18.21it/s]\n"
     ]
    },
    {
     "name": "stdout",
     "output_type": "stream",
     "text": [
      "Validation Metrics: Precision=0.0000, Recall=0.0000, F1=0.0000, Exact Match= 0.3106\n",
      "\n",
      "Epoch 2/5\n"
     ]
    },
    {
     "name": "stderr",
     "output_type": "stream",
     "text": [
      "Training: 100%|██████████| 92/92 [00:21<00:00,  4.37it/s, loss=0.878]\n"
     ]
    },
    {
     "name": "stdout",
     "output_type": "stream",
     "text": [
      "Average training loss: 0.6771\n"
     ]
    },
    {
     "name": "stderr",
     "output_type": "stream",
     "text": [
      "Evaluating: 100%|██████████| 23/23 [00:01<00:00, 18.27it/s]\n"
     ]
    },
    {
     "name": "stdout",
     "output_type": "stream",
     "text": [
      "Validation Metrics: Precision=0.0000, Recall=0.0000, F1=0.0000, Exact Match= 0.3106\n",
      "\n",
      "Epoch 3/5\n"
     ]
    },
    {
     "name": "stderr",
     "output_type": "stream",
     "text": [
      "Training: 100%|██████████| 92/92 [00:21<00:00,  4.37it/s, loss=0.949]\n"
     ]
    },
    {
     "name": "stdout",
     "output_type": "stream",
     "text": [
      "Average training loss: 0.6565\n"
     ]
    },
    {
     "name": "stderr",
     "output_type": "stream",
     "text": [
      "Evaluating: 100%|██████████| 23/23 [00:01<00:00, 18.23it/s]\n"
     ]
    },
    {
     "name": "stdout",
     "output_type": "stream",
     "text": [
      "Validation Metrics: Precision=0.0000, Recall=0.0000, F1=0.0000, Exact Match= 0.3106\n",
      "\n",
      "Epoch 4/5\n"
     ]
    },
    {
     "name": "stderr",
     "output_type": "stream",
     "text": [
      "Training: 100%|██████████| 92/92 [00:21<00:00,  4.37it/s, loss=0.557]\n"
     ]
    },
    {
     "name": "stdout",
     "output_type": "stream",
     "text": [
      "Average training loss: 0.6380\n"
     ]
    },
    {
     "name": "stderr",
     "output_type": "stream",
     "text": [
      "Evaluating: 100%|██████████| 23/23 [00:01<00:00, 18.19it/s]\n"
     ]
    },
    {
     "name": "stdout",
     "output_type": "stream",
     "text": [
      "Validation Metrics: Precision=0.0000, Recall=0.0000, F1=0.0000, Exact Match= 0.3106\n",
      "\n",
      "Epoch 5/5\n"
     ]
    },
    {
     "name": "stderr",
     "output_type": "stream",
     "text": [
      "Training: 100%|██████████| 92/92 [00:21<00:00,  4.37it/s, loss=0.507]\n"
     ]
    },
    {
     "name": "stdout",
     "output_type": "stream",
     "text": [
      "Average training loss: 0.5995\n"
     ]
    },
    {
     "name": "stderr",
     "output_type": "stream",
     "text": [
      "Evaluating: 100%|██████████| 23/23 [00:01<00:00, 18.20it/s]\n"
     ]
    },
    {
     "name": "stdout",
     "output_type": "stream",
     "text": [
      "Validation Metrics: Precision=0.0000, Recall=0.0000, F1=0.0000, Exact Match= 0.3106\n"
     ]
    }
   ],
   "source": [
    "# Train and evaluate\n",
    "train_model(model, dataloaders, optimizer, scheduler, config, MODEL_NAME)\n"
   ]
  },
  {
   "cell_type": "code",
   "execution_count": 37,
   "metadata": {
    "execution": {
     "iopub.execute_input": "2025-05-16T16:46:32.699627Z",
     "iopub.status.busy": "2025-05-16T16:46:32.699434Z",
     "iopub.status.idle": "2025-05-16T16:46:32.703778Z",
     "shell.execute_reply": "2025-05-16T16:46:32.703017Z",
     "shell.execute_reply.started": "2025-05-16T16:46:32.699613Z"
    },
    "trusted": true
   },
   "outputs": [],
   "source": [
    "# Load best model\n",
    "best_model_path = f\"models/best_model_{MODEL_NAME}.pt\"\n",
    "if os.path.exists(best_model_path):\n",
    "    model.load_state_dict(torch.load(best_model_path))\n"
   ]
  },
  {
   "cell_type": "code",
   "execution_count": 38,
   "metadata": {
    "execution": {
     "iopub.execute_input": "2025-05-16T16:46:32.704865Z",
     "iopub.status.busy": "2025-05-16T16:46:32.704613Z",
     "iopub.status.idle": "2025-05-16T16:46:34.537535Z",
     "shell.execute_reply": "2025-05-16T16:46:34.536802Z",
     "shell.execute_reply.started": "2025-05-16T16:46:32.704844Z"
    },
    "trusted": true
   },
   "outputs": [
    {
     "name": "stdout",
     "output_type": "stream",
     "text": [
      "Evaluating on test set...\n"
     ]
    },
    {
     "name": "stderr",
     "output_type": "stream",
     "text": [
      "Evaluating: 100%|██████████| 32/32 [00:01<00:00, 18.28it/s]"
     ]
    },
    {
     "name": "stdout",
     "output_type": "stream",
     "text": [
      "Test Metrics:\n",
      "Precision=0.0000\n",
      "Recall=0.0000\n",
      "F1=0.0000\n",
      "Exact Match=0.1670\n"
     ]
    },
    {
     "name": "stderr",
     "output_type": "stream",
     "text": [
      "\n"
     ]
    }
   ],
   "source": [
    "# Evaluate on test set\n",
    "print(\"Evaluating on test set...\")\n",
    "test_metrics = evaluate_model(model, dataloaders[\"test\"], config)\n",
    "print(f\"Test Metrics:\\nPrecision={test_metrics['precision']:.4f}\\nRecall={test_metrics['recall']:.4f}\\nF1={test_metrics['f1']:.4f}\\nExact Match={test_metrics['exact_match']:.4f}\")"
   ]
  },
  {
   "cell_type": "code",
   "execution_count": 39,
   "metadata": {
    "execution": {
     "iopub.execute_input": "2025-05-16T16:46:34.538540Z",
     "iopub.status.busy": "2025-05-16T16:46:34.538299Z",
     "iopub.status.idle": "2025-05-16T16:46:34.584262Z",
     "shell.execute_reply": "2025-05-16T16:46:34.583499Z",
     "shell.execute_reply.started": "2025-05-16T16:46:34.538523Z"
    },
    "trusted": true
   },
   "outputs": [
    {
     "name": "stdout",
     "output_type": "stream",
     "text": [
      "\n",
      "Example predictions:\n",
      "\n",
      "Text: Presiden Joko Widodo mengunjungi Universitas Indonesia di Depok.\n",
      "Entities:\n",
      "  - Joko (LOC)\n",
      "  - Universitas (I-ORG)\n",
      "\n",
      "Text: Bank BRI meluncurkan program baru di Jakarta Selatan.\n",
      "Entities:\n",
      "\n",
      "Text: Gubernur DKI Jakarta Anies Baswedan meresmikan MRT Jakarta.\n",
      "Entities:\n",
      "  - Anies (LOC)\n"
     ]
    }
   ],
   "source": [
    "# Demo predictions\n",
    "print(\"\\nExample predictions:\")\n",
    "sample_texts = [\n",
    "    \"Presiden Joko Widodo mengunjungi Universitas Indonesia di Depok.\",\n",
    "    \"Bank BRI meluncurkan program baru di Jakarta Selatan.\",\n",
    "    \"Gubernur DKI Jakarta Anies Baswedan meresmikan MRT Jakarta.\"\n",
    "]\n",
    "\n",
    "for text in sample_texts:\n",
    "    entities = predict_entities(text, model, tokenizer, config)\n",
    "    \n",
    "    print(f\"\\nText: {text}\")\n",
    "    print(\"Entities:\")\n",
    "    \n",
    "    for entity in entities:\n",
    "        print(f\"  - {entity['text']} ({entity['label']})\")\n"
   ]
  },
  {
   "cell_type": "markdown",
   "metadata": {},
   "source": [
    "## Hyper Parameter Tuning\n"
   ]
  },
  {
   "cell_type": "code",
   "execution_count": 40,
   "metadata": {
    "execution": {
     "iopub.execute_input": "2025-05-16T16:46:34.585401Z",
     "iopub.status.busy": "2025-05-16T16:46:34.585106Z",
     "iopub.status.idle": "2025-05-16T16:46:34.595776Z",
     "shell.execute_reply": "2025-05-16T16:46:34.595120Z",
     "shell.execute_reply.started": "2025-05-16T16:46:34.585378Z"
    },
    "trusted": true
   },
   "outputs": [],
   "source": [
    "best_scores = {}\n",
    "\n",
    "def hyperparameter_tuning(base_config, search_space):\n",
    "    keys, values = zip(*search_space.items())\n",
    "    experiments = [dict(zip(keys, v)) for v in product(*values)]\n",
    "\n",
    "    for i, params in enumerate(experiments):\n",
    "        print(f\"\\n======== Running Experiment {i+1}/{len(experiments)} ========\")\n",
    "        config = base_config.copy()\n",
    "        config.update(params)\n",
    "\n",
    "        for MODEL_NAME in config[\"models\"]:\n",
    "        # for MODEL_NAME in [\"cahya/xlm-roberta-base-indonesian-NER\"]:\n",
    "            print(f\"\\n{'='*50}\")\n",
    "            print(f\"Training model: {MODEL_NAME} with params: {params}\")\n",
    "            print(f\"{'='*50}\")\n",
    "\n",
    "            tokenizer = AutoTokenizer.from_pretrained(MODEL_NAME)\n",
    "\n",
    "            if MODEL_NAME == 'cahya/xlm-roberta-base-indonesian-NER':\n",
    "                # Load tokenizer and model\n",
    "                custom_config = AutoConfig.from_pretrained(\n",
    "                    MODEL_NAME,\n",
    "                    num_labels=len(NER_TAG),\n",
    "                    id2label=id2label,\n",
    "                    label2id=label2id\n",
    "                )\n",
    "                \n",
    "                # Load model\n",
    "                model = AutoModelForTokenClassification.from_pretrained(\n",
    "                    MODEL_NAME,\n",
    "                    config=custom_config,\n",
    "                    ignore_mismatched_sizes=True\n",
    "                )\n",
    "\n",
    "\n",
    "            else:\n",
    "                model = AutoModelForTokenClassification.from_pretrained(\n",
    "                    MODEL_NAME, \n",
    "                    num_labels=len(NER_TAG),\n",
    "                    id2label=id2label,\n",
    "                    label2id=label2id\n",
    "                )\n",
    "                \n",
    "            model.to(config[\"device\"])\n",
    "\n",
    "            tokenized_datasets = prepare_datasets(dataset, tokenizer, config)\n",
    "            dataloaders = create_dataloaders(tokenized_datasets, config)\n",
    "\n",
    "            optimizer = AdamW(model.parameters(), lr=config[\"learning_rate\"])\n",
    "            total_steps = len(dataloaders[\"train\"]) * config[\"epochs\"]\n",
    "            scheduler = get_linear_schedule_with_warmup(\n",
    "                optimizer,\n",
    "                num_warmup_steps=config[\"warmup_steps\"],\n",
    "                num_training_steps=total_steps\n",
    "            )\n",
    "\n",
    "            train_model(model, dataloaders, optimizer, scheduler, config, MODEL_NAME)\n",
    "\n",
    "            model_type = model.config.model_type\n",
    "            exp_name = f\"{model_type}_lr{config['learning_rate']}_bs{config['batch_size']}_ep{config['epochs']}\"\n",
    "            model_path = f\"models/{exp_name}.pt\"\n",
    "            os.makedirs(\"models\", exist_ok=True)\n",
    "            torch.save(model.state_dict(), model_path)\n",
    "\n",
    "            model.load_state_dict(torch.load(model_path))\n",
    "            print(f\"\\nEvaluating {exp_name} on test set...\")\n",
    "            test_metrics = evaluate_model(model, dataloaders[\"test\"], config)\n",
    "            print(f\"Metrics: Precision={test_metrics['precision']:.4f}, Recall={test_metrics['recall']:.4f}, F1={test_metrics['f1']:.4f}, Exact Match={test_metrics['exact_match']:.4f}\")\n",
    "\n",
    "            current_best = best_scores.get(model_type, {\"f1\": 0})\n",
    "            \n",
    "            if test_metrics[\"f1\"] > current_best[\"f1\"]:\n",
    "                best_model_path = f\"models/best_{model_type}.pt\"\n",
    "                torch.save(model.state_dict(), best_model_path)\n",
    "\n",
    "                save_dir = f\"saved_models/{MODEL_NAME.replace('/', '_')}\"\n",
    "                os.makedirs(save_dir, exist_ok=True)\n",
    "                model.save_pretrained(save_dir)\n",
    "                tokenizer.save_pretrained(save_dir)\n",
    "            \n",
    "                with open(os.path.join(save_dir, \"label2id.json\"), \"w\") as f:\n",
    "                    json.dump(label2id, f)\n",
    "                with open(os.path.join(save_dir, \"id2label.json\"), \"w\") as f:\n",
    "                    json.dump(id2label, f)\n",
    "\n",
    "                best_scores[model_type] = {\"f1\": test_metrics[\"f1\"], \"path\": best_model_path, \"params\": params}\n",
    "                print(f\"New best model saved for {model_type} at {best_model_path}\")\n"
   ]
  },
  {
   "cell_type": "code",
   "execution_count": 41,
   "metadata": {
    "execution": {
     "iopub.execute_input": "2025-05-16T16:46:34.596693Z",
     "iopub.status.busy": "2025-05-16T16:46:34.596503Z",
     "iopub.status.idle": "2025-05-16T18:18:24.166812Z",
     "shell.execute_reply": "2025-05-16T18:18:24.165710Z",
     "shell.execute_reply.started": "2025-05-16T16:46:34.596679Z"
    },
    "scrolled": true,
    "trusted": true
   },
   "outputs": [
    {
     "name": "stdout",
     "output_type": "stream",
     "text": [
      "\n",
      "======== Running Experiment 1/32 ========\n",
      "\n",
      "==================================================\n",
      "Training model: indobenchmark/indobert-base-p1 with params: {'learning_rate': 0.0001, 'batch_size': 16, 'epochs': 3}\n",
      "==================================================\n"
     ]
    },
    {
     "name": "stderr",
     "output_type": "stream",
     "text": [
      "Some weights of BertForTokenClassification were not initialized from the model checkpoint at indobenchmark/indobert-base-p1 and are newly initialized: ['classifier.bias', 'classifier.weight']\n",
      "You should probably TRAIN this model on a down-stream task to be able to use it for predictions and inference.\n"
     ]
    },
    {
     "name": "stdout",
     "output_type": "stream",
     "text": [
      "Preparing train dataset...\n",
      "Preparing test dataset...\n",
      "Preparing dev dataset...\n",
      "Training on cuda\n",
      "\n",
      "Epoch 1/3\n"
     ]
    },
    {
     "name": "stderr",
     "output_type": "stream",
     "text": [
      "Training: 100%|██████████| 92/92 [00:18<00:00,  4.92it/s, loss=0.296] \n"
     ]
    },
    {
     "name": "stdout",
     "output_type": "stream",
     "text": [
      "Average training loss: 0.7052\n"
     ]
    },
    {
     "name": "stderr",
     "output_type": "stream",
     "text": [
      "Evaluating: 100%|██████████| 23/23 [00:01<00:00, 18.31it/s]\n"
     ]
    },
    {
     "name": "stdout",
     "output_type": "stream",
     "text": [
      "New best F1: 0.5669 - Saving model\n",
      "Validation Metrics: Precision=0.5663, Recall=0.5676, F1=0.5669, Exact Match= 0.5014\n",
      "\n",
      "Epoch 2/3\n"
     ]
    },
    {
     "name": "stderr",
     "output_type": "stream",
     "text": [
      "Training: 100%|██████████| 92/92 [00:18<00:00,  4.93it/s, loss=0.131] \n"
     ]
    },
    {
     "name": "stdout",
     "output_type": "stream",
     "text": [
      "Average training loss: 0.1364\n"
     ]
    },
    {
     "name": "stderr",
     "output_type": "stream",
     "text": [
      "Evaluating: 100%|██████████| 23/23 [00:01<00:00, 18.17it/s]\n"
     ]
    },
    {
     "name": "stdout",
     "output_type": "stream",
     "text": [
      "New best F1: 0.7503 - Saving model\n",
      "Validation Metrics: Precision=0.7289, Recall=0.7729, F1=0.7503, Exact Match= 0.6594\n",
      "\n",
      "Epoch 3/3\n"
     ]
    },
    {
     "name": "stderr",
     "output_type": "stream",
     "text": [
      "Training: 100%|██████████| 92/92 [00:18<00:00,  4.93it/s, loss=0.0458] \n"
     ]
    },
    {
     "name": "stdout",
     "output_type": "stream",
     "text": [
      "Average training loss: 0.0608\n"
     ]
    },
    {
     "name": "stderr",
     "output_type": "stream",
     "text": [
      "Evaluating: 100%|██████████| 23/23 [00:01<00:00, 18.29it/s]\n"
     ]
    },
    {
     "name": "stdout",
     "output_type": "stream",
     "text": [
      "New best F1: 0.7857 - Saving model\n",
      "Validation Metrics: Precision=0.7900, Recall=0.7814, F1=0.7857, Exact Match= 0.6757\n",
      "\n",
      "Evaluating bert_lr0.0001_bs16_ep3 on test set...\n"
     ]
    },
    {
     "name": "stderr",
     "output_type": "stream",
     "text": [
      "Evaluating: 100%|██████████| 32/32 [00:01<00:00, 18.20it/s]\n"
     ]
    },
    {
     "name": "stdout",
     "output_type": "stream",
     "text": [
      "Metrics: Precision=0.8478, Recall=0.7822, F1=0.8137, Exact Match=0.6719\n",
      "New best model saved for bert at models/best_bert.pt\n",
      "\n",
      "==================================================\n",
      "Training model: xlm-roberta-base with params: {'learning_rate': 0.0001, 'batch_size': 16, 'epochs': 3}\n",
      "==================================================\n"
     ]
    },
    {
     "name": "stderr",
     "output_type": "stream",
     "text": [
      "Some weights of XLMRobertaForTokenClassification were not initialized from the model checkpoint at xlm-roberta-base and are newly initialized: ['classifier.bias', 'classifier.weight']\n",
      "You should probably TRAIN this model on a down-stream task to be able to use it for predictions and inference.\n"
     ]
    },
    {
     "name": "stdout",
     "output_type": "stream",
     "text": [
      "Preparing train dataset...\n",
      "Preparing test dataset...\n",
      "Preparing dev dataset...\n",
      "Training on cuda\n",
      "\n",
      "Epoch 1/3\n"
     ]
    },
    {
     "name": "stderr",
     "output_type": "stream",
     "text": [
      "Training: 100%|██████████| 92/92 [00:21<00:00,  4.38it/s, loss=0.224]\n"
     ]
    },
    {
     "name": "stdout",
     "output_type": "stream",
     "text": [
      "Average training loss: 1.1040\n"
     ]
    },
    {
     "name": "stderr",
     "output_type": "stream",
     "text": [
      "Evaluating: 100%|██████████| 23/23 [00:01<00:00, 18.19it/s]\n"
     ]
    },
    {
     "name": "stdout",
     "output_type": "stream",
     "text": [
      "New best F1: 0.1256 - Saving model\n",
      "Validation Metrics: Precision=0.1469, Recall=0.1098, F1=0.1256, Exact Match= 0.2861\n",
      "\n",
      "Epoch 2/3\n"
     ]
    },
    {
     "name": "stderr",
     "output_type": "stream",
     "text": [
      "Training: 100%|██████████| 92/92 [00:21<00:00,  4.38it/s, loss=0.0923]\n"
     ]
    },
    {
     "name": "stdout",
     "output_type": "stream",
     "text": [
      "Average training loss: 0.2432\n"
     ]
    },
    {
     "name": "stderr",
     "output_type": "stream",
     "text": [
      "Evaluating: 100%|██████████| 23/23 [00:01<00:00, 18.19it/s]\n"
     ]
    },
    {
     "name": "stdout",
     "output_type": "stream",
     "text": [
      "New best F1: 0.7317 - Saving model\n",
      "Validation Metrics: Precision=0.6934, Recall=0.7744, F1=0.7317, Exact Match= 0.6540\n",
      "\n",
      "Epoch 3/3\n"
     ]
    },
    {
     "name": "stderr",
     "output_type": "stream",
     "text": [
      "Training: 100%|██████████| 92/92 [00:21<00:00,  4.37it/s, loss=0.0528]\n"
     ]
    },
    {
     "name": "stdout",
     "output_type": "stream",
     "text": [
      "Average training loss: 0.1078\n"
     ]
    },
    {
     "name": "stderr",
     "output_type": "stream",
     "text": [
      "Evaluating: 100%|██████████| 23/23 [00:01<00:00, 18.21it/s]\n"
     ]
    },
    {
     "name": "stdout",
     "output_type": "stream",
     "text": [
      "New best F1: 0.8331 - Saving model\n",
      "Validation Metrics: Precision=0.8556, Recall=0.8117, F1=0.8331, Exact Match= 0.7057\n",
      "\n",
      "Evaluating xlm-roberta_lr0.0001_bs16_ep3 on test set...\n"
     ]
    },
    {
     "name": "stderr",
     "output_type": "stream",
     "text": [
      "Evaluating: 100%|██████████| 32/32 [00:01<00:00, 18.23it/s]\n"
     ]
    },
    {
     "name": "stdout",
     "output_type": "stream",
     "text": [
      "Metrics: Precision=0.9005, Recall=0.8876, F1=0.8940, Exact Match=0.7642\n",
      "New best model saved for xlm-roberta at models/best_xlm-roberta.pt\n",
      "\n",
      "==================================================\n",
      "Training model: cahya/xlm-roberta-base-indonesian-NER with params: {'learning_rate': 0.0001, 'batch_size': 16, 'epochs': 3}\n",
      "==================================================\n"
     ]
    },
    {
     "name": "stderr",
     "output_type": "stream",
     "text": [
      "Some weights of the model checkpoint at cahya/xlm-roberta-base-indonesian-NER were not used when initializing XLMRobertaForTokenClassification: ['roberta.pooler.dense.bias', 'roberta.pooler.dense.weight']\n",
      "- This IS expected if you are initializing XLMRobertaForTokenClassification from the checkpoint of a model trained on another task or with another architecture (e.g. initializing a BertForSequenceClassification model from a BertForPreTraining model).\n",
      "- This IS NOT expected if you are initializing XLMRobertaForTokenClassification from the checkpoint of a model that you expect to be exactly identical (initializing a BertForSequenceClassification model from a BertForSequenceClassification model).\n",
      "Some weights of XLMRobertaForTokenClassification were not initialized from the model checkpoint at cahya/xlm-roberta-base-indonesian-NER and are newly initialized because the shapes did not match:\n",
      "- classifier.bias: found shape torch.Size([39]) in the checkpoint and torch.Size([7]) in the model instantiated\n",
      "- classifier.weight: found shape torch.Size([39, 768]) in the checkpoint and torch.Size([7, 768]) in the model instantiated\n",
      "You should probably TRAIN this model on a down-stream task to be able to use it for predictions and inference.\n"
     ]
    },
    {
     "name": "stdout",
     "output_type": "stream",
     "text": [
      "Preparing train dataset...\n",
      "Preparing test dataset...\n",
      "Preparing dev dataset...\n",
      "Training on cuda\n",
      "\n",
      "Epoch 1/3\n"
     ]
    },
    {
     "name": "stderr",
     "output_type": "stream",
     "text": [
      "Training: 100%|██████████| 92/92 [00:21<00:00,  4.37it/s, loss=0.0882]\n"
     ]
    },
    {
     "name": "stdout",
     "output_type": "stream",
     "text": [
      "Average training loss: 0.7437\n"
     ]
    },
    {
     "name": "stderr",
     "output_type": "stream",
     "text": [
      "Evaluating: 100%|██████████| 23/23 [00:01<00:00, 18.18it/s]\n"
     ]
    },
    {
     "name": "stdout",
     "output_type": "stream",
     "text": [
      "New best F1: 0.6998 - Saving model\n",
      "Validation Metrics: Precision=0.6604, Recall=0.7442, F1=0.6998, Exact Match= 0.5749\n",
      "\n",
      "Epoch 2/3\n"
     ]
    },
    {
     "name": "stderr",
     "output_type": "stream",
     "text": [
      "Training: 100%|██████████| 92/92 [00:21<00:00,  4.38it/s, loss=0.129] \n"
     ]
    },
    {
     "name": "stdout",
     "output_type": "stream",
     "text": [
      "Average training loss: 0.1185\n"
     ]
    },
    {
     "name": "stderr",
     "output_type": "stream",
     "text": [
      "Evaluating: 100%|██████████| 23/23 [00:01<00:00, 18.21it/s]\n"
     ]
    },
    {
     "name": "stdout",
     "output_type": "stream",
     "text": [
      "New best F1: 0.8695 - Saving model\n",
      "Validation Metrics: Precision=0.8669, Recall=0.8721, F1=0.8695, Exact Match= 0.7711\n",
      "\n",
      "Epoch 3/3\n"
     ]
    },
    {
     "name": "stderr",
     "output_type": "stream",
     "text": [
      "Training: 100%|██████████| 92/92 [00:21<00:00,  4.38it/s, loss=0.0555]\n"
     ]
    },
    {
     "name": "stdout",
     "output_type": "stream",
     "text": [
      "Average training loss: 0.0666\n"
     ]
    },
    {
     "name": "stderr",
     "output_type": "stream",
     "text": [
      "Evaluating: 100%|██████████| 23/23 [00:01<00:00, 18.17it/s]\n"
     ]
    },
    {
     "name": "stdout",
     "output_type": "stream",
     "text": [
      "New best F1: 0.8719 - Saving model\n",
      "Validation Metrics: Precision=0.8768, Recall=0.8671, F1=0.8719, Exact Match= 0.7711\n",
      "\n",
      "Evaluating xlm-roberta_lr0.0001_bs16_ep3 on test set...\n"
     ]
    },
    {
     "name": "stderr",
     "output_type": "stream",
     "text": [
      "Evaluating: 100%|██████████| 32/32 [00:01<00:00, 18.27it/s]\n"
     ]
    },
    {
     "name": "stdout",
     "output_type": "stream",
     "text": [
      "Metrics: Precision=0.8984, Recall=0.8882, F1=0.8933, Exact Match=0.7721\n",
      "\n",
      "======== Running Experiment 2/32 ========\n",
      "\n",
      "==================================================\n",
      "Training model: indobenchmark/indobert-base-p1 with params: {'learning_rate': 0.0001, 'batch_size': 16, 'epochs': 5}\n",
      "==================================================\n"
     ]
    },
    {
     "name": "stderr",
     "output_type": "stream",
     "text": [
      "Some weights of BertForTokenClassification were not initialized from the model checkpoint at indobenchmark/indobert-base-p1 and are newly initialized: ['classifier.bias', 'classifier.weight']\n",
      "You should probably TRAIN this model on a down-stream task to be able to use it for predictions and inference.\n"
     ]
    },
    {
     "name": "stdout",
     "output_type": "stream",
     "text": [
      "Preparing train dataset...\n",
      "Preparing test dataset...\n",
      "Preparing dev dataset...\n",
      "Training on cuda\n",
      "\n",
      "Epoch 1/5\n"
     ]
    },
    {
     "name": "stderr",
     "output_type": "stream",
     "text": [
      "Training: 100%|██████████| 92/92 [00:18<00:00,  4.93it/s, loss=0.24] \n"
     ]
    },
    {
     "name": "stdout",
     "output_type": "stream",
     "text": [
      "Average training loss: 0.7467\n"
     ]
    },
    {
     "name": "stderr",
     "output_type": "stream",
     "text": [
      "Evaluating: 100%|██████████| 23/23 [00:01<00:00, 18.25it/s]\n"
     ]
    },
    {
     "name": "stdout",
     "output_type": "stream",
     "text": [
      "New best F1: 0.5759 - Saving model\n",
      "Validation Metrics: Precision=0.5964, Recall=0.5568, F1=0.5759, Exact Match= 0.4850\n",
      "\n",
      "Epoch 2/5\n"
     ]
    },
    {
     "name": "stderr",
     "output_type": "stream",
     "text": [
      "Training: 100%|██████████| 92/92 [00:18<00:00,  4.93it/s, loss=0.0181]\n"
     ]
    },
    {
     "name": "stdout",
     "output_type": "stream",
     "text": [
      "Average training loss: 0.1402\n"
     ]
    },
    {
     "name": "stderr",
     "output_type": "stream",
     "text": [
      "Evaluating: 100%|██████████| 23/23 [00:01<00:00, 18.34it/s]\n"
     ]
    },
    {
     "name": "stdout",
     "output_type": "stream",
     "text": [
      "New best F1: 0.7939 - Saving model\n",
      "Validation Metrics: Precision=0.7968, Recall=0.7911, F1=0.7939, Exact Match= 0.6948\n",
      "\n",
      "Epoch 3/5\n"
     ]
    },
    {
     "name": "stderr",
     "output_type": "stream",
     "text": [
      "Training: 100%|██████████| 92/92 [00:18<00:00,  4.93it/s, loss=0.0499]\n"
     ]
    },
    {
     "name": "stdout",
     "output_type": "stream",
     "text": [
      "Average training loss: 0.0633\n"
     ]
    },
    {
     "name": "stderr",
     "output_type": "stream",
     "text": [
      "Evaluating: 100%|██████████| 23/23 [00:01<00:00, 18.31it/s]\n"
     ]
    },
    {
     "name": "stdout",
     "output_type": "stream",
     "text": [
      "New best F1: 0.8182 - Saving model\n",
      "Validation Metrics: Precision=0.7725, Recall=0.8696, F1=0.8182, Exact Match= 0.7221\n",
      "\n",
      "Epoch 4/5\n"
     ]
    },
    {
     "name": "stderr",
     "output_type": "stream",
     "text": [
      "Training: 100%|██████████| 92/92 [00:18<00:00,  4.93it/s, loss=0.00115]\n"
     ]
    },
    {
     "name": "stdout",
     "output_type": "stream",
     "text": [
      "Average training loss: 0.0349\n"
     ]
    },
    {
     "name": "stderr",
     "output_type": "stream",
     "text": [
      "Evaluating: 100%|██████████| 23/23 [00:01<00:00, 18.28it/s]\n"
     ]
    },
    {
     "name": "stdout",
     "output_type": "stream",
     "text": [
      "New best F1: 0.8390 - Saving model\n",
      "Validation Metrics: Precision=0.8169, Recall=0.8623, F1=0.8390, Exact Match= 0.7193\n",
      "\n",
      "Epoch 5/5\n"
     ]
    },
    {
     "name": "stderr",
     "output_type": "stream",
     "text": [
      "Training: 100%|██████████| 92/92 [00:18<00:00,  4.93it/s, loss=0.0373] \n"
     ]
    },
    {
     "name": "stdout",
     "output_type": "stream",
     "text": [
      "Average training loss: 0.0348\n"
     ]
    },
    {
     "name": "stderr",
     "output_type": "stream",
     "text": [
      "Evaluating: 100%|██████████| 23/23 [00:01<00:00, 18.31it/s]\n"
     ]
    },
    {
     "name": "stdout",
     "output_type": "stream",
     "text": [
      "Validation Metrics: Precision=0.7908, Recall=0.8309, F1=0.8104, Exact Match= 0.7221\n",
      "\n",
      "Evaluating bert_lr0.0001_bs16_ep5 on test set...\n"
     ]
    },
    {
     "name": "stderr",
     "output_type": "stream",
     "text": [
      "Evaluating: 100%|██████████| 32/32 [00:01<00:00, 18.19it/s]\n"
     ]
    },
    {
     "name": "stdout",
     "output_type": "stream",
     "text": [
      "Metrics: Precision=0.8818, Recall=0.8907, F1=0.8862, Exact Match=0.7485\n",
      "New best model saved for bert at models/best_bert.pt\n",
      "\n",
      "==================================================\n",
      "Training model: xlm-roberta-base with params: {'learning_rate': 0.0001, 'batch_size': 16, 'epochs': 5}\n",
      "==================================================\n"
     ]
    },
    {
     "name": "stderr",
     "output_type": "stream",
     "text": [
      "Some weights of XLMRobertaForTokenClassification were not initialized from the model checkpoint at xlm-roberta-base and are newly initialized: ['classifier.bias', 'classifier.weight']\n",
      "You should probably TRAIN this model on a down-stream task to be able to use it for predictions and inference.\n"
     ]
    },
    {
     "name": "stdout",
     "output_type": "stream",
     "text": [
      "Preparing train dataset...\n",
      "Preparing test dataset...\n",
      "Preparing dev dataset...\n",
      "Training on cuda\n",
      "\n",
      "Epoch 1/5\n"
     ]
    },
    {
     "name": "stderr",
     "output_type": "stream",
     "text": [
      "Training: 100%|██████████| 92/92 [00:21<00:00,  4.37it/s, loss=0.274]\n"
     ]
    },
    {
     "name": "stdout",
     "output_type": "stream",
     "text": [
      "Average training loss: 1.1851\n"
     ]
    },
    {
     "name": "stderr",
     "output_type": "stream",
     "text": [
      "Evaluating: 100%|██████████| 23/23 [00:01<00:00, 18.20it/s]\n"
     ]
    },
    {
     "name": "stdout",
     "output_type": "stream",
     "text": [
      "New best F1: 0.0099 - Saving model\n",
      "Validation Metrics: Precision=0.2941, Recall=0.0050, F1=0.0099, Exact Match= 0.3106\n",
      "\n",
      "Epoch 2/5\n"
     ]
    },
    {
     "name": "stderr",
     "output_type": "stream",
     "text": [
      "Training: 100%|██████████| 92/92 [00:21<00:00,  4.38it/s, loss=0.0907]\n"
     ]
    },
    {
     "name": "stdout",
     "output_type": "stream",
     "text": [
      "Average training loss: 0.2466\n"
     ]
    },
    {
     "name": "stderr",
     "output_type": "stream",
     "text": [
      "Evaluating: 100%|██████████| 23/23 [00:01<00:00, 18.24it/s]\n"
     ]
    },
    {
     "name": "stdout",
     "output_type": "stream",
     "text": [
      "New best F1: 0.7293 - Saving model\n",
      "Validation Metrics: Precision=0.7315, Recall=0.7271, F1=0.7293, Exact Match= 0.6240\n",
      "\n",
      "Epoch 3/5\n"
     ]
    },
    {
     "name": "stderr",
     "output_type": "stream",
     "text": [
      "Training: 100%|██████████| 92/92 [00:21<00:00,  4.37it/s, loss=0.0891]\n"
     ]
    },
    {
     "name": "stdout",
     "output_type": "stream",
     "text": [
      "Average training loss: 0.0985\n"
     ]
    },
    {
     "name": "stderr",
     "output_type": "stream",
     "text": [
      "Evaluating: 100%|██████████| 23/23 [00:01<00:00, 18.13it/s]\n"
     ]
    },
    {
     "name": "stdout",
     "output_type": "stream",
     "text": [
      "New best F1: 0.8629 - Saving model\n",
      "Validation Metrics: Precision=0.8285, Recall=0.9003, F1=0.8629, Exact Match= 0.7466\n",
      "\n",
      "Epoch 4/5\n"
     ]
    },
    {
     "name": "stderr",
     "output_type": "stream",
     "text": [
      "Training: 100%|██████████| 92/92 [00:21<00:00,  4.38it/s, loss=0.0378]\n"
     ]
    },
    {
     "name": "stdout",
     "output_type": "stream",
     "text": [
      "Average training loss: 0.0644\n"
     ]
    },
    {
     "name": "stderr",
     "output_type": "stream",
     "text": [
      "Evaluating: 100%|██████████| 23/23 [00:01<00:00, 18.20it/s]\n"
     ]
    },
    {
     "name": "stdout",
     "output_type": "stream",
     "text": [
      "New best F1: 0.8800 - Saving model\n",
      "Validation Metrics: Precision=0.8890, Recall=0.8711, F1=0.8800, Exact Match= 0.7766\n",
      "\n",
      "Epoch 5/5\n"
     ]
    },
    {
     "name": "stderr",
     "output_type": "stream",
     "text": [
      "Training: 100%|██████████| 92/92 [00:21<00:00,  4.37it/s, loss=0.0138] \n"
     ]
    },
    {
     "name": "stdout",
     "output_type": "stream",
     "text": [
      "Average training loss: 0.0564\n"
     ]
    },
    {
     "name": "stderr",
     "output_type": "stream",
     "text": [
      "Evaluating: 100%|██████████| 23/23 [00:01<00:00, 18.17it/s]\n"
     ]
    },
    {
     "name": "stdout",
     "output_type": "stream",
     "text": [
      "New best F1: 0.8868 - Saving model\n",
      "Validation Metrics: Precision=0.8904, Recall=0.8832, F1=0.8868, Exact Match= 0.7657\n",
      "\n",
      "Evaluating xlm-roberta_lr0.0001_bs16_ep5 on test set...\n"
     ]
    },
    {
     "name": "stderr",
     "output_type": "stream",
     "text": [
      "Evaluating: 100%|██████████| 32/32 [00:01<00:00, 18.19it/s]\n"
     ]
    },
    {
     "name": "stdout",
     "output_type": "stream",
     "text": [
      "Metrics: Precision=0.8884, Recall=0.8990, F1=0.8937, Exact Match=0.7623\n",
      "\n",
      "==================================================\n",
      "Training model: cahya/xlm-roberta-base-indonesian-NER with params: {'learning_rate': 0.0001, 'batch_size': 16, 'epochs': 5}\n",
      "==================================================\n"
     ]
    },
    {
     "name": "stderr",
     "output_type": "stream",
     "text": [
      "Some weights of the model checkpoint at cahya/xlm-roberta-base-indonesian-NER were not used when initializing XLMRobertaForTokenClassification: ['roberta.pooler.dense.bias', 'roberta.pooler.dense.weight']\n",
      "- This IS expected if you are initializing XLMRobertaForTokenClassification from the checkpoint of a model trained on another task or with another architecture (e.g. initializing a BertForSequenceClassification model from a BertForPreTraining model).\n",
      "- This IS NOT expected if you are initializing XLMRobertaForTokenClassification from the checkpoint of a model that you expect to be exactly identical (initializing a BertForSequenceClassification model from a BertForSequenceClassification model).\n",
      "Some weights of XLMRobertaForTokenClassification were not initialized from the model checkpoint at cahya/xlm-roberta-base-indonesian-NER and are newly initialized because the shapes did not match:\n",
      "- classifier.bias: found shape torch.Size([39]) in the checkpoint and torch.Size([7]) in the model instantiated\n",
      "- classifier.weight: found shape torch.Size([39, 768]) in the checkpoint and torch.Size([7, 768]) in the model instantiated\n",
      "You should probably TRAIN this model on a down-stream task to be able to use it for predictions and inference.\n"
     ]
    },
    {
     "name": "stdout",
     "output_type": "stream",
     "text": [
      "Preparing train dataset...\n",
      "Preparing test dataset...\n",
      "Preparing dev dataset...\n",
      "Training on cuda\n",
      "\n",
      "Epoch 1/5\n"
     ]
    },
    {
     "name": "stderr",
     "output_type": "stream",
     "text": [
      "Training: 100%|██████████| 92/92 [00:21<00:00,  4.37it/s, loss=0.307]\n"
     ]
    },
    {
     "name": "stdout",
     "output_type": "stream",
     "text": [
      "Average training loss: 0.7896\n"
     ]
    },
    {
     "name": "stderr",
     "output_type": "stream",
     "text": [
      "Evaluating: 100%|██████████| 23/23 [00:01<00:00, 18.18it/s]\n"
     ]
    },
    {
     "name": "stdout",
     "output_type": "stream",
     "text": [
      "New best F1: 0.7082 - Saving model\n",
      "Validation Metrics: Precision=0.7016, Recall=0.7150, F1=0.7082, Exact Match= 0.6131\n",
      "\n",
      "Epoch 2/5\n"
     ]
    },
    {
     "name": "stderr",
     "output_type": "stream",
     "text": [
      "Training: 100%|██████████| 92/92 [00:21<00:00,  4.37it/s, loss=0.109] \n"
     ]
    },
    {
     "name": "stdout",
     "output_type": "stream",
     "text": [
      "Average training loss: 0.1295\n"
     ]
    },
    {
     "name": "stderr",
     "output_type": "stream",
     "text": [
      "Evaluating: 100%|██████████| 23/23 [00:01<00:00, 18.20it/s]\n"
     ]
    },
    {
     "name": "stdout",
     "output_type": "stream",
     "text": [
      "New best F1: 0.8547 - Saving model\n",
      "Validation Metrics: Precision=0.8534, Recall=0.8560, F1=0.8547, Exact Match= 0.7139\n",
      "\n",
      "Epoch 3/5\n"
     ]
    },
    {
     "name": "stderr",
     "output_type": "stream",
     "text": [
      "Training: 100%|██████████| 92/92 [00:21<00:00,  4.38it/s, loss=0.00344]\n"
     ]
    },
    {
     "name": "stdout",
     "output_type": "stream",
     "text": [
      "Average training loss: 0.0705\n"
     ]
    },
    {
     "name": "stderr",
     "output_type": "stream",
     "text": [
      "Evaluating: 100%|██████████| 23/23 [00:01<00:00, 18.22it/s]\n"
     ]
    },
    {
     "name": "stdout",
     "output_type": "stream",
     "text": [
      "New best F1: 0.8996 - Saving model\n",
      "Validation Metrics: Precision=0.8881, Recall=0.9114, F1=0.8996, Exact Match= 0.8065\n",
      "\n",
      "Epoch 4/5\n"
     ]
    },
    {
     "name": "stderr",
     "output_type": "stream",
     "text": [
      "Training: 100%|██████████| 92/92 [00:21<00:00,  4.37it/s, loss=0.0357] \n"
     ]
    },
    {
     "name": "stdout",
     "output_type": "stream",
     "text": [
      "Average training loss: 0.0486\n"
     ]
    },
    {
     "name": "stderr",
     "output_type": "stream",
     "text": [
      "Evaluating: 100%|██████████| 23/23 [00:01<00:00, 18.21it/s]\n"
     ]
    },
    {
     "name": "stdout",
     "output_type": "stream",
     "text": [
      "Validation Metrics: Precision=0.8547, Recall=0.9003, F1=0.8769, Exact Match= 0.7711\n",
      "\n",
      "Epoch 5/5\n"
     ]
    },
    {
     "name": "stderr",
     "output_type": "stream",
     "text": [
      "Training: 100%|██████████| 92/92 [00:21<00:00,  4.38it/s, loss=0.103]  \n"
     ]
    },
    {
     "name": "stdout",
     "output_type": "stream",
     "text": [
      "Average training loss: 0.0687\n"
     ]
    },
    {
     "name": "stderr",
     "output_type": "stream",
     "text": [
      "Evaluating: 100%|██████████| 23/23 [00:01<00:00, 18.15it/s]\n"
     ]
    },
    {
     "name": "stdout",
     "output_type": "stream",
     "text": [
      "Validation Metrics: Precision=0.8345, Recall=0.8479, F1=0.8412, Exact Match= 0.6621\n",
      "\n",
      "Evaluating xlm-roberta_lr0.0001_bs16_ep5 on test set...\n"
     ]
    },
    {
     "name": "stderr",
     "output_type": "stream",
     "text": [
      "Evaluating: 100%|██████████| 32/32 [00:01<00:00, 18.13it/s]\n"
     ]
    },
    {
     "name": "stdout",
     "output_type": "stream",
     "text": [
      "Metrics: Precision=0.8746, Recall=0.8391, F1=0.8565, Exact Match=0.6817\n",
      "\n",
      "======== Running Experiment 3/32 ========\n",
      "\n",
      "==================================================\n",
      "Training model: indobenchmark/indobert-base-p1 with params: {'learning_rate': 0.0001, 'batch_size': 16, 'epochs': 10}\n",
      "==================================================\n"
     ]
    },
    {
     "name": "stderr",
     "output_type": "stream",
     "text": [
      "Some weights of BertForTokenClassification were not initialized from the model checkpoint at indobenchmark/indobert-base-p1 and are newly initialized: ['classifier.bias', 'classifier.weight']\n",
      "You should probably TRAIN this model on a down-stream task to be able to use it for predictions and inference.\n"
     ]
    },
    {
     "name": "stdout",
     "output_type": "stream",
     "text": [
      "Preparing train dataset...\n",
      "Preparing test dataset...\n",
      "Preparing dev dataset...\n",
      "Training on cuda\n",
      "\n",
      "Epoch 1/10\n"
     ]
    },
    {
     "name": "stderr",
     "output_type": "stream",
     "text": [
      "Training: 100%|██████████| 92/92 [00:18<00:00,  4.92it/s, loss=0.134]\n"
     ]
    },
    {
     "name": "stdout",
     "output_type": "stream",
     "text": [
      "Average training loss: 0.6755\n"
     ]
    },
    {
     "name": "stderr",
     "output_type": "stream",
     "text": [
      "Evaluating: 100%|██████████| 23/23 [00:01<00:00, 18.27it/s]\n"
     ]
    },
    {
     "name": "stdout",
     "output_type": "stream",
     "text": [
      "New best F1: 0.5532 - Saving model\n",
      "Validation Metrics: Precision=0.5673, Recall=0.5399, F1=0.5532, Exact Match= 0.4986\n",
      "\n",
      "Epoch 2/10\n"
     ]
    },
    {
     "name": "stderr",
     "output_type": "stream",
     "text": [
      "Training: 100%|██████████| 92/92 [00:18<00:00,  4.92it/s, loss=0.0953]\n"
     ]
    },
    {
     "name": "stdout",
     "output_type": "stream",
     "text": [
      "Average training loss: 0.1301\n"
     ]
    },
    {
     "name": "stderr",
     "output_type": "stream",
     "text": [
      "Evaluating: 100%|██████████| 23/23 [00:01<00:00, 18.25it/s]\n"
     ]
    },
    {
     "name": "stdout",
     "output_type": "stream",
     "text": [
      "New best F1: 0.7783 - Saving model\n",
      "Validation Metrics: Precision=0.7255, Recall=0.8394, F1=0.7783, Exact Match= 0.6894\n",
      "\n",
      "Epoch 3/10\n"
     ]
    },
    {
     "name": "stderr",
     "output_type": "stream",
     "text": [
      "Training: 100%|██████████| 92/92 [00:18<00:00,  4.92it/s, loss=0.136] \n"
     ]
    },
    {
     "name": "stdout",
     "output_type": "stream",
     "text": [
      "Average training loss: 0.0585\n"
     ]
    },
    {
     "name": "stderr",
     "output_type": "stream",
     "text": [
      "Evaluating: 100%|██████████| 23/23 [00:01<00:00, 18.28it/s]\n"
     ]
    },
    {
     "name": "stdout",
     "output_type": "stream",
     "text": [
      "New best F1: 0.8135 - Saving model\n",
      "Validation Metrics: Precision=0.8106, Recall=0.8164, F1=0.8135, Exact Match= 0.6812\n",
      "\n",
      "Epoch 4/10\n"
     ]
    },
    {
     "name": "stderr",
     "output_type": "stream",
     "text": [
      "Training: 100%|██████████| 92/92 [00:18<00:00,  4.92it/s, loss=0.024]  \n"
     ]
    },
    {
     "name": "stdout",
     "output_type": "stream",
     "text": [
      "Average training loss: 0.0447\n"
     ]
    },
    {
     "name": "stderr",
     "output_type": "stream",
     "text": [
      "Evaluating: 100%|██████████| 23/23 [00:01<00:00, 18.27it/s]\n"
     ]
    },
    {
     "name": "stdout",
     "output_type": "stream",
     "text": [
      "Validation Metrics: Precision=0.6685, Recall=0.7428, F1=0.7037, Exact Match= 0.5886\n",
      "\n",
      "Epoch 5/10\n"
     ]
    },
    {
     "name": "stderr",
     "output_type": "stream",
     "text": [
      "Training: 100%|██████████| 92/92 [00:18<00:00,  4.94it/s, loss=0.113]  \n"
     ]
    },
    {
     "name": "stdout",
     "output_type": "stream",
     "text": [
      "Average training loss: 0.0410\n"
     ]
    },
    {
     "name": "stderr",
     "output_type": "stream",
     "text": [
      "Evaluating: 100%|██████████| 23/23 [00:01<00:00, 18.26it/s]\n"
     ]
    },
    {
     "name": "stdout",
     "output_type": "stream",
     "text": [
      "Validation Metrics: Precision=0.8017, Recall=0.8152, F1=0.8084, Exact Match= 0.6785\n",
      "\n",
      "Epoch 6/10\n"
     ]
    },
    {
     "name": "stderr",
     "output_type": "stream",
     "text": [
      "Training: 100%|██████████| 92/92 [00:18<00:00,  4.94it/s, loss=0.025]  \n"
     ]
    },
    {
     "name": "stdout",
     "output_type": "stream",
     "text": [
      "Average training loss: 0.0415\n"
     ]
    },
    {
     "name": "stderr",
     "output_type": "stream",
     "text": [
      "Evaluating: 100%|██████████| 23/23 [00:01<00:00, 18.37it/s]\n"
     ]
    },
    {
     "name": "stdout",
     "output_type": "stream",
     "text": [
      "Validation Metrics: Precision=0.7805, Recall=0.8200, F1=0.7998, Exact Match= 0.6921\n",
      "\n",
      "Epoch 7/10\n"
     ]
    },
    {
     "name": "stderr",
     "output_type": "stream",
     "text": [
      "Training: 100%|██████████| 92/92 [00:18<00:00,  4.94it/s, loss=0.025]  \n"
     ]
    },
    {
     "name": "stdout",
     "output_type": "stream",
     "text": [
      "Average training loss: 0.0277\n"
     ]
    },
    {
     "name": "stderr",
     "output_type": "stream",
     "text": [
      "Evaluating: 100%|██████████| 23/23 [00:01<00:00, 18.36it/s]\n"
     ]
    },
    {
     "name": "stdout",
     "output_type": "stream",
     "text": [
      "Validation Metrics: Precision=0.7965, Recall=0.8176, F1=0.8069, Exact Match= 0.7330\n",
      "\n",
      "Epoch 8/10\n"
     ]
    },
    {
     "name": "stderr",
     "output_type": "stream",
     "text": [
      "Training: 100%|██████████| 92/92 [00:18<00:00,  4.94it/s, loss=0.0326]  \n"
     ]
    },
    {
     "name": "stdout",
     "output_type": "stream",
     "text": [
      "Average training loss: 0.0109\n"
     ]
    },
    {
     "name": "stderr",
     "output_type": "stream",
     "text": [
      "Evaluating: 100%|██████████| 23/23 [00:01<00:00, 18.33it/s]\n"
     ]
    },
    {
     "name": "stdout",
     "output_type": "stream",
     "text": [
      "New best F1: 0.8255 - Saving model\n",
      "Validation Metrics: Precision=0.8065, Recall=0.8454, F1=0.8255, Exact Match= 0.7493\n",
      "\n",
      "Epoch 9/10\n"
     ]
    },
    {
     "name": "stderr",
     "output_type": "stream",
     "text": [
      "Training: 100%|██████████| 92/92 [00:18<00:00,  4.94it/s, loss=0.000462]\n"
     ]
    },
    {
     "name": "stdout",
     "output_type": "stream",
     "text": [
      "Average training loss: 0.0027\n"
     ]
    },
    {
     "name": "stderr",
     "output_type": "stream",
     "text": [
      "Evaluating: 100%|██████████| 23/23 [00:01<00:00, 18.33it/s]\n"
     ]
    },
    {
     "name": "stdout",
     "output_type": "stream",
     "text": [
      "New best F1: 0.8364 - Saving model\n",
      "Validation Metrics: Precision=0.8100, Recall=0.8647, F1=0.8364, Exact Match= 0.7684\n",
      "\n",
      "Epoch 10/10\n"
     ]
    },
    {
     "name": "stderr",
     "output_type": "stream",
     "text": [
      "Training: 100%|██████████| 92/92 [00:18<00:00,  4.94it/s, loss=0.00207] \n"
     ]
    },
    {
     "name": "stdout",
     "output_type": "stream",
     "text": [
      "Average training loss: 0.0013\n"
     ]
    },
    {
     "name": "stderr",
     "output_type": "stream",
     "text": [
      "Evaluating: 100%|██████████| 23/23 [00:01<00:00, 18.36it/s]\n"
     ]
    },
    {
     "name": "stdout",
     "output_type": "stream",
     "text": [
      "Validation Metrics: Precision=0.8137, Recall=0.8599, F1=0.8362, Exact Match= 0.7602\n",
      "\n",
      "Evaluating bert_lr0.0001_bs16_ep10 on test set...\n"
     ]
    },
    {
     "name": "stderr",
     "output_type": "stream",
     "text": [
      "Evaluating: 100%|██████████| 32/32 [00:01<00:00, 18.38it/s]\n"
     ]
    },
    {
     "name": "stdout",
     "output_type": "stream",
     "text": [
      "Metrics: Precision=0.9008, Recall=0.9067, F1=0.9037, Exact Match=0.7937\n",
      "New best model saved for bert at models/best_bert.pt\n",
      "\n",
      "==================================================\n",
      "Training model: xlm-roberta-base with params: {'learning_rate': 0.0001, 'batch_size': 16, 'epochs': 10}\n",
      "==================================================\n"
     ]
    },
    {
     "name": "stderr",
     "output_type": "stream",
     "text": [
      "Some weights of XLMRobertaForTokenClassification were not initialized from the model checkpoint at xlm-roberta-base and are newly initialized: ['classifier.bias', 'classifier.weight']\n",
      "You should probably TRAIN this model on a down-stream task to be able to use it for predictions and inference.\n"
     ]
    },
    {
     "name": "stdout",
     "output_type": "stream",
     "text": [
      "Preparing train dataset...\n",
      "Preparing test dataset...\n",
      "Preparing dev dataset...\n",
      "Training on cuda\n",
      "\n",
      "Epoch 1/10\n"
     ]
    },
    {
     "name": "stderr",
     "output_type": "stream",
     "text": [
      "Training: 100%|██████████| 92/92 [00:20<00:00,  4.38it/s, loss=0.309]\n"
     ]
    },
    {
     "name": "stdout",
     "output_type": "stream",
     "text": [
      "Average training loss: 0.9219\n"
     ]
    },
    {
     "name": "stderr",
     "output_type": "stream",
     "text": [
      "Evaluating: 100%|██████████| 23/23 [00:01<00:00, 18.19it/s]\n"
     ]
    },
    {
     "name": "stdout",
     "output_type": "stream",
     "text": [
      "New best F1: 0.3226 - Saving model\n",
      "Validation Metrics: Precision=0.3945, Recall=0.2729, F1=0.3226, Exact Match= 0.3515\n",
      "\n",
      "Epoch 2/10\n"
     ]
    },
    {
     "name": "stderr",
     "output_type": "stream",
     "text": [
      "Training: 100%|██████████| 92/92 [00:20<00:00,  4.39it/s, loss=0.0216]\n"
     ]
    },
    {
     "name": "stdout",
     "output_type": "stream",
     "text": [
      "Average training loss: 0.2140\n"
     ]
    },
    {
     "name": "stderr",
     "output_type": "stream",
     "text": [
      "Evaluating: 100%|██████████| 23/23 [00:01<00:00, 18.21it/s]\n"
     ]
    },
    {
     "name": "stdout",
     "output_type": "stream",
     "text": [
      "New best F1: 0.8141 - Saving model\n",
      "Validation Metrics: Precision=0.7712, Recall=0.8620, F1=0.8141, Exact Match= 0.6785\n",
      "\n",
      "Epoch 3/10\n"
     ]
    },
    {
     "name": "stderr",
     "output_type": "stream",
     "text": [
      "Training: 100%|██████████| 92/92 [00:21<00:00,  4.38it/s, loss=0.128] \n"
     ]
    },
    {
     "name": "stdout",
     "output_type": "stream",
     "text": [
      "Average training loss: 0.0890\n"
     ]
    },
    {
     "name": "stderr",
     "output_type": "stream",
     "text": [
      "Evaluating: 100%|██████████| 23/23 [00:01<00:00, 18.29it/s]\n"
     ]
    },
    {
     "name": "stdout",
     "output_type": "stream",
     "text": [
      "New best F1: 0.8495 - Saving model\n",
      "Validation Metrics: Precision=0.8201, Recall=0.8812, F1=0.8495, Exact Match= 0.7112\n",
      "\n",
      "Epoch 4/10\n"
     ]
    },
    {
     "name": "stderr",
     "output_type": "stream",
     "text": [
      "Training: 100%|██████████| 92/92 [00:20<00:00,  4.38it/s, loss=0.0437] \n"
     ]
    },
    {
     "name": "stdout",
     "output_type": "stream",
     "text": [
      "Average training loss: 0.0684\n"
     ]
    },
    {
     "name": "stderr",
     "output_type": "stream",
     "text": [
      "Evaluating: 100%|██████████| 23/23 [00:01<00:00, 18.26it/s]\n"
     ]
    },
    {
     "name": "stdout",
     "output_type": "stream",
     "text": [
      "New best F1: 0.8611 - Saving model\n",
      "Validation Metrics: Precision=0.8400, Recall=0.8832, F1=0.8611, Exact Match= 0.7439\n",
      "\n",
      "Epoch 5/10\n"
     ]
    },
    {
     "name": "stderr",
     "output_type": "stream",
     "text": [
      "Training: 100%|██████████| 92/92 [00:21<00:00,  4.38it/s, loss=0.0576]\n"
     ]
    },
    {
     "name": "stdout",
     "output_type": "stream",
     "text": [
      "Average training loss: 0.0613\n"
     ]
    },
    {
     "name": "stderr",
     "output_type": "stream",
     "text": [
      "Evaluating: 100%|██████████| 23/23 [00:01<00:00, 18.26it/s]\n"
     ]
    },
    {
     "name": "stdout",
     "output_type": "stream",
     "text": [
      "New best F1: 0.8783 - Saving model\n",
      "Validation Metrics: Precision=0.8501, Recall=0.9084, F1=0.8783, Exact Match= 0.7575\n",
      "\n",
      "Epoch 6/10\n"
     ]
    },
    {
     "name": "stderr",
     "output_type": "stream",
     "text": [
      "Training: 100%|██████████| 92/92 [00:20<00:00,  4.38it/s, loss=0.0267] \n"
     ]
    },
    {
     "name": "stdout",
     "output_type": "stream",
     "text": [
      "Average training loss: 0.0538\n"
     ]
    },
    {
     "name": "stderr",
     "output_type": "stream",
     "text": [
      "Evaluating: 100%|██████████| 23/23 [00:01<00:00, 18.26it/s]\n"
     ]
    },
    {
     "name": "stdout",
     "output_type": "stream",
     "text": [
      "New best F1: 0.8943 - Saving model\n",
      "Validation Metrics: Precision=0.8696, Recall=0.9204, F1=0.8943, Exact Match= 0.8120\n",
      "\n",
      "Epoch 7/10\n"
     ]
    },
    {
     "name": "stderr",
     "output_type": "stream",
     "text": [
      "Training: 100%|██████████| 92/92 [00:20<00:00,  4.38it/s, loss=0.0265] \n"
     ]
    },
    {
     "name": "stdout",
     "output_type": "stream",
     "text": [
      "Average training loss: 0.0363\n"
     ]
    },
    {
     "name": "stderr",
     "output_type": "stream",
     "text": [
      "Evaluating: 100%|██████████| 23/23 [00:01<00:00, 18.19it/s]\n"
     ]
    },
    {
     "name": "stdout",
     "output_type": "stream",
     "text": [
      "Validation Metrics: Precision=0.8436, Recall=0.8963, F1=0.8691, Exact Match= 0.7684\n",
      "\n",
      "Epoch 8/10\n"
     ]
    },
    {
     "name": "stderr",
     "output_type": "stream",
     "text": [
      "Training: 100%|██████████| 92/92 [00:20<00:00,  4.38it/s, loss=0.00611]\n"
     ]
    },
    {
     "name": "stdout",
     "output_type": "stream",
     "text": [
      "Average training loss: 0.0176\n"
     ]
    },
    {
     "name": "stderr",
     "output_type": "stream",
     "text": [
      "Evaluating: 100%|██████████| 23/23 [00:01<00:00, 18.24it/s]\n"
     ]
    },
    {
     "name": "stdout",
     "output_type": "stream",
     "text": [
      "New best F1: 0.8987 - Saving model\n",
      "Validation Metrics: Precision=0.8864, Recall=0.9114, F1=0.8987, Exact Match= 0.8147\n",
      "\n",
      "Epoch 9/10\n"
     ]
    },
    {
     "name": "stderr",
     "output_type": "stream",
     "text": [
      "Training: 100%|██████████| 92/92 [00:21<00:00,  4.38it/s, loss=0.00111] \n"
     ]
    },
    {
     "name": "stdout",
     "output_type": "stream",
     "text": [
      "Average training loss: 0.0097\n"
     ]
    },
    {
     "name": "stderr",
     "output_type": "stream",
     "text": [
      "Evaluating: 100%|██████████| 23/23 [00:01<00:00, 18.29it/s]\n"
     ]
    },
    {
     "name": "stdout",
     "output_type": "stream",
     "text": [
      "New best F1: 0.9028 - Saving model\n",
      "Validation Metrics: Precision=0.8849, Recall=0.9215, F1=0.9028, Exact Match= 0.8147\n",
      "\n",
      "Epoch 10/10\n"
     ]
    },
    {
     "name": "stderr",
     "output_type": "stream",
     "text": [
      "Training: 100%|██████████| 92/92 [00:20<00:00,  4.38it/s, loss=0.0108]  \n"
     ]
    },
    {
     "name": "stdout",
     "output_type": "stream",
     "text": [
      "Average training loss: 0.0055\n"
     ]
    },
    {
     "name": "stderr",
     "output_type": "stream",
     "text": [
      "Evaluating: 100%|██████████| 23/23 [00:01<00:00, 18.27it/s]\n"
     ]
    },
    {
     "name": "stdout",
     "output_type": "stream",
     "text": [
      "New best F1: 0.9076 - Saving model\n",
      "Validation Metrics: Precision=0.8913, Recall=0.9245, F1=0.9076, Exact Match= 0.8229\n",
      "\n",
      "Evaluating xlm-roberta_lr0.0001_bs16_ep10 on test set...\n"
     ]
    },
    {
     "name": "stderr",
     "output_type": "stream",
     "text": [
      "Evaluating: 100%|██████████| 32/32 [00:01<00:00, 18.00it/s]\n"
     ]
    },
    {
     "name": "stdout",
     "output_type": "stream",
     "text": [
      "Metrics: Precision=0.9252, Recall=0.9310, F1=0.9281, Exact Match=0.8193\n",
      "New best model saved for xlm-roberta at models/best_xlm-roberta.pt\n",
      "\n",
      "==================================================\n",
      "Training model: cahya/xlm-roberta-base-indonesian-NER with params: {'learning_rate': 0.0001, 'batch_size': 16, 'epochs': 10}\n",
      "==================================================\n"
     ]
    },
    {
     "name": "stderr",
     "output_type": "stream",
     "text": [
      "Some weights of the model checkpoint at cahya/xlm-roberta-base-indonesian-NER were not used when initializing XLMRobertaForTokenClassification: ['roberta.pooler.dense.bias', 'roberta.pooler.dense.weight']\n",
      "- This IS expected if you are initializing XLMRobertaForTokenClassification from the checkpoint of a model trained on another task or with another architecture (e.g. initializing a BertForSequenceClassification model from a BertForPreTraining model).\n",
      "- This IS NOT expected if you are initializing XLMRobertaForTokenClassification from the checkpoint of a model that you expect to be exactly identical (initializing a BertForSequenceClassification model from a BertForSequenceClassification model).\n",
      "Some weights of XLMRobertaForTokenClassification were not initialized from the model checkpoint at cahya/xlm-roberta-base-indonesian-NER and are newly initialized because the shapes did not match:\n",
      "- classifier.bias: found shape torch.Size([39]) in the checkpoint and torch.Size([7]) in the model instantiated\n",
      "- classifier.weight: found shape torch.Size([39, 768]) in the checkpoint and torch.Size([7, 768]) in the model instantiated\n",
      "You should probably TRAIN this model on a down-stream task to be able to use it for predictions and inference.\n"
     ]
    },
    {
     "name": "stdout",
     "output_type": "stream",
     "text": [
      "Preparing train dataset...\n",
      "Preparing test dataset...\n",
      "Preparing dev dataset...\n",
      "Training on cuda\n",
      "\n",
      "Epoch 1/10\n"
     ]
    },
    {
     "name": "stderr",
     "output_type": "stream",
     "text": [
      "Training: 100%|██████████| 92/92 [00:20<00:00,  4.39it/s, loss=0.208]\n"
     ]
    },
    {
     "name": "stdout",
     "output_type": "stream",
     "text": [
      "Average training loss: 0.6067\n"
     ]
    },
    {
     "name": "stderr",
     "output_type": "stream",
     "text": [
      "Evaluating: 100%|██████████| 23/23 [00:01<00:00, 18.29it/s]\n"
     ]
    },
    {
     "name": "stdout",
     "output_type": "stream",
     "text": [
      "New best F1: 0.7182 - Saving model\n",
      "Validation Metrics: Precision=0.6939, Recall=0.7442, F1=0.7182, Exact Match= 0.5804\n",
      "\n",
      "Epoch 2/10\n"
     ]
    },
    {
     "name": "stderr",
     "output_type": "stream",
     "text": [
      "Training: 100%|██████████| 92/92 [00:20<00:00,  4.38it/s, loss=0.266] \n"
     ]
    },
    {
     "name": "stdout",
     "output_type": "stream",
     "text": [
      "Average training loss: 0.1186\n"
     ]
    },
    {
     "name": "stderr",
     "output_type": "stream",
     "text": [
      "Evaluating: 100%|██████████| 23/23 [00:01<00:00, 18.24it/s]\n"
     ]
    },
    {
     "name": "stdout",
     "output_type": "stream",
     "text": [
      "New best F1: 0.8671 - Saving model\n",
      "Validation Metrics: Precision=0.8363, Recall=0.9003, F1=0.8671, Exact Match= 0.7384\n",
      "\n",
      "Epoch 3/10\n"
     ]
    },
    {
     "name": "stderr",
     "output_type": "stream",
     "text": [
      "Training: 100%|██████████| 92/92 [00:20<00:00,  4.39it/s, loss=0.103]  \n"
     ]
    },
    {
     "name": "stdout",
     "output_type": "stream",
     "text": [
      "Average training loss: 0.0747\n"
     ]
    },
    {
     "name": "stderr",
     "output_type": "stream",
     "text": [
      "Evaluating: 100%|██████████| 23/23 [00:01<00:00, 18.21it/s]\n"
     ]
    },
    {
     "name": "stdout",
     "output_type": "stream",
     "text": [
      "New best F1: 0.8807 - Saving model\n",
      "Validation Metrics: Precision=0.8628, Recall=0.8993, F1=0.8807, Exact Match= 0.7875\n",
      "\n",
      "Epoch 4/10\n"
     ]
    },
    {
     "name": "stderr",
     "output_type": "stream",
     "text": [
      "Training: 100%|██████████| 92/92 [00:20<00:00,  4.39it/s, loss=0.0397] \n"
     ]
    },
    {
     "name": "stdout",
     "output_type": "stream",
     "text": [
      "Average training loss: 0.0552\n"
     ]
    },
    {
     "name": "stderr",
     "output_type": "stream",
     "text": [
      "Evaluating: 100%|██████████| 23/23 [00:01<00:00, 18.28it/s]\n"
     ]
    },
    {
     "name": "stdout",
     "output_type": "stream",
     "text": [
      "New best F1: 0.8856 - Saving model\n",
      "Validation Metrics: Precision=0.8751, Recall=0.8963, F1=0.8856, Exact Match= 0.7902\n",
      "\n",
      "Epoch 5/10\n"
     ]
    },
    {
     "name": "stderr",
     "output_type": "stream",
     "text": [
      "Training: 100%|██████████| 92/92 [00:20<00:00,  4.39it/s, loss=0.00513]\n"
     ]
    },
    {
     "name": "stdout",
     "output_type": "stream",
     "text": [
      "Average training loss: 0.0550\n"
     ]
    },
    {
     "name": "stderr",
     "output_type": "stream",
     "text": [
      "Evaluating: 100%|██████████| 23/23 [00:01<00:00, 18.16it/s]\n"
     ]
    },
    {
     "name": "stdout",
     "output_type": "stream",
     "text": [
      "New best F1: 0.8971 - Saving model\n",
      "Validation Metrics: Precision=0.9031, Recall=0.8912, F1=0.8971, Exact Match= 0.7793\n",
      "\n",
      "Epoch 6/10\n"
     ]
    },
    {
     "name": "stderr",
     "output_type": "stream",
     "text": [
      "Training: 100%|██████████| 92/92 [00:21<00:00,  4.37it/s, loss=0.0918] \n"
     ]
    },
    {
     "name": "stdout",
     "output_type": "stream",
     "text": [
      "Average training loss: 0.0537\n"
     ]
    },
    {
     "name": "stderr",
     "output_type": "stream",
     "text": [
      "Evaluating: 100%|██████████| 23/23 [00:01<00:00, 18.24it/s]\n"
     ]
    },
    {
     "name": "stdout",
     "output_type": "stream",
     "text": [
      "Validation Metrics: Precision=0.7991, Recall=0.8892, F1=0.8418, Exact Match= 0.7112\n",
      "\n",
      "Epoch 7/10\n"
     ]
    },
    {
     "name": "stderr",
     "output_type": "stream",
     "text": [
      "Training: 100%|██████████| 92/92 [00:20<00:00,  4.38it/s, loss=0.0559] \n"
     ]
    },
    {
     "name": "stdout",
     "output_type": "stream",
     "text": [
      "Average training loss: 0.0306\n"
     ]
    },
    {
     "name": "stderr",
     "output_type": "stream",
     "text": [
      "Evaluating: 100%|██████████| 23/23 [00:01<00:00, 18.23it/s]\n"
     ]
    },
    {
     "name": "stdout",
     "output_type": "stream",
     "text": [
      "Validation Metrics: Precision=0.8475, Recall=0.9063, F1=0.8759, Exact Match= 0.7602\n",
      "\n",
      "Epoch 8/10\n"
     ]
    },
    {
     "name": "stderr",
     "output_type": "stream",
     "text": [
      "Training: 100%|██████████| 92/92 [00:21<00:00,  4.38it/s, loss=0.00567]\n"
     ]
    },
    {
     "name": "stdout",
     "output_type": "stream",
     "text": [
      "Average training loss: 0.0159\n"
     ]
    },
    {
     "name": "stderr",
     "output_type": "stream",
     "text": [
      "Evaluating: 100%|██████████| 23/23 [00:01<00:00, 18.21it/s]\n"
     ]
    },
    {
     "name": "stdout",
     "output_type": "stream",
     "text": [
      "New best F1: 0.9005 - Saving model\n",
      "Validation Metrics: Precision=0.8852, Recall=0.9164, F1=0.9005, Exact Match= 0.8011\n",
      "\n",
      "Epoch 9/10\n"
     ]
    },
    {
     "name": "stderr",
     "output_type": "stream",
     "text": [
      "Training: 100%|██████████| 92/92 [00:21<00:00,  4.38it/s, loss=0.0995]  \n"
     ]
    },
    {
     "name": "stdout",
     "output_type": "stream",
     "text": [
      "Average training loss: 0.0107\n"
     ]
    },
    {
     "name": "stderr",
     "output_type": "stream",
     "text": [
      "Evaluating: 100%|██████████| 23/23 [00:01<00:00, 18.13it/s]\n"
     ]
    },
    {
     "name": "stdout",
     "output_type": "stream",
     "text": [
      "New best F1: 0.9037 - Saving model\n",
      "Validation Metrics: Precision=0.8866, Recall=0.9215, F1=0.9037, Exact Match= 0.8120\n",
      "\n",
      "Epoch 10/10\n"
     ]
    },
    {
     "name": "stderr",
     "output_type": "stream",
     "text": [
      "Training: 100%|██████████| 92/92 [00:21<00:00,  4.38it/s, loss=0.0013]  \n"
     ]
    },
    {
     "name": "stdout",
     "output_type": "stream",
     "text": [
      "Average training loss: 0.0064\n"
     ]
    },
    {
     "name": "stderr",
     "output_type": "stream",
     "text": [
      "Evaluating: 100%|██████████| 23/23 [00:01<00:00, 18.22it/s]\n"
     ]
    },
    {
     "name": "stdout",
     "output_type": "stream",
     "text": [
      "New best F1: 0.9056 - Saving model\n",
      "Validation Metrics: Precision=0.8893, Recall=0.9225, F1=0.9056, Exact Match= 0.8120\n",
      "\n",
      "Evaluating xlm-roberta_lr0.0001_bs16_ep10 on test set...\n"
     ]
    },
    {
     "name": "stderr",
     "output_type": "stream",
     "text": [
      "Evaluating: 100%|██████████| 32/32 [00:01<00:00, 17.88it/s]\n"
     ]
    },
    {
     "name": "stdout",
     "output_type": "stream",
     "text": [
      "Metrics: Precision=0.9167, Recall=0.9412, F1=0.9288, Exact Match=0.8389\n",
      "New best model saved for xlm-roberta at models/best_xlm-roberta.pt\n",
      "\n",
      "======== Running Experiment 4/32 ========\n",
      "\n",
      "==================================================\n",
      "Training model: indobenchmark/indobert-base-p1 with params: {'learning_rate': 0.0001, 'batch_size': 16, 'epochs': 20}\n",
      "==================================================\n"
     ]
    },
    {
     "name": "stderr",
     "output_type": "stream",
     "text": [
      "Some weights of BertForTokenClassification were not initialized from the model checkpoint at indobenchmark/indobert-base-p1 and are newly initialized: ['classifier.bias', 'classifier.weight']\n",
      "You should probably TRAIN this model on a down-stream task to be able to use it for predictions and inference.\n"
     ]
    },
    {
     "name": "stdout",
     "output_type": "stream",
     "text": [
      "Preparing train dataset...\n",
      "Preparing test dataset...\n",
      "Preparing dev dataset...\n",
      "Training on cuda\n",
      "\n",
      "Epoch 1/20\n"
     ]
    },
    {
     "name": "stderr",
     "output_type": "stream",
     "text": [
      "Training: 100%|██████████| 92/92 [00:18<00:00,  4.93it/s, loss=0.106]\n"
     ]
    },
    {
     "name": "stdout",
     "output_type": "stream",
     "text": [
      "Average training loss: 0.8077\n"
     ]
    },
    {
     "name": "stderr",
     "output_type": "stream",
     "text": [
      "Evaluating: 100%|██████████| 23/23 [00:01<00:00, 18.22it/s]\n"
     ]
    },
    {
     "name": "stdout",
     "output_type": "stream",
     "text": [
      "New best F1: 0.5809 - Saving model\n",
      "Validation Metrics: Precision=0.5809, Recall=0.5809, F1=0.5809, Exact Match= 0.4959\n",
      "\n",
      "Epoch 2/20\n"
     ]
    },
    {
     "name": "stderr",
     "output_type": "stream",
     "text": [
      "Training: 100%|██████████| 92/92 [00:18<00:00,  4.94it/s, loss=0.134] \n"
     ]
    },
    {
     "name": "stdout",
     "output_type": "stream",
     "text": [
      "Average training loss: 0.1441\n"
     ]
    },
    {
     "name": "stderr",
     "output_type": "stream",
     "text": [
      "Evaluating: 100%|██████████| 23/23 [00:01<00:00, 18.30it/s]\n"
     ]
    },
    {
     "name": "stdout",
     "output_type": "stream",
     "text": [
      "New best F1: 0.7995 - Saving model\n",
      "Validation Metrics: Precision=0.7901, Recall=0.8092, F1=0.7995, Exact Match= 0.7112\n",
      "\n",
      "Epoch 3/20\n"
     ]
    },
    {
     "name": "stderr",
     "output_type": "stream",
     "text": [
      "Training: 100%|██████████| 92/92 [00:18<00:00,  4.94it/s, loss=0.0579]\n"
     ]
    },
    {
     "name": "stdout",
     "output_type": "stream",
     "text": [
      "Average training loss: 0.0598\n"
     ]
    },
    {
     "name": "stderr",
     "output_type": "stream",
     "text": [
      "Evaluating: 100%|██████████| 23/23 [00:01<00:00, 18.33it/s]\n"
     ]
    },
    {
     "name": "stdout",
     "output_type": "stream",
     "text": [
      "New best F1: 0.8208 - Saving model\n",
      "Validation Metrics: Precision=0.8315, Recall=0.8104, F1=0.8208, Exact Match= 0.7221\n",
      "\n",
      "Epoch 4/20\n"
     ]
    },
    {
     "name": "stderr",
     "output_type": "stream",
     "text": [
      "Training: 100%|██████████| 92/92 [00:18<00:00,  4.94it/s, loss=0.0805] \n"
     ]
    },
    {
     "name": "stdout",
     "output_type": "stream",
     "text": [
      "Average training loss: 0.0587\n"
     ]
    },
    {
     "name": "stderr",
     "output_type": "stream",
     "text": [
      "Evaluating: 100%|██████████| 23/23 [00:01<00:00, 18.36it/s]\n"
     ]
    },
    {
     "name": "stdout",
     "output_type": "stream",
     "text": [
      "New best F1: 0.8273 - Saving model\n",
      "Validation Metrics: Precision=0.8002, Recall=0.8563, F1=0.8273, Exact Match= 0.7112\n",
      "\n",
      "Epoch 5/20\n"
     ]
    },
    {
     "name": "stderr",
     "output_type": "stream",
     "text": [
      "Training: 100%|██████████| 92/92 [00:18<00:00,  4.94it/s, loss=0.0277] \n"
     ]
    },
    {
     "name": "stdout",
     "output_type": "stream",
     "text": [
      "Average training loss: 0.0351\n"
     ]
    },
    {
     "name": "stderr",
     "output_type": "stream",
     "text": [
      "Evaluating: 100%|██████████| 23/23 [00:01<00:00, 18.34it/s]\n"
     ]
    },
    {
     "name": "stdout",
     "output_type": "stream",
     "text": [
      "Validation Metrics: Precision=0.7626, Recall=0.8768, F1=0.8157, Exact Match= 0.6894\n",
      "\n",
      "Epoch 6/20\n"
     ]
    },
    {
     "name": "stderr",
     "output_type": "stream",
     "text": [
      "Training: 100%|██████████| 92/92 [00:18<00:00,  4.94it/s, loss=0.0475]  \n"
     ]
    },
    {
     "name": "stdout",
     "output_type": "stream",
     "text": [
      "Average training loss: 0.0366\n"
     ]
    },
    {
     "name": "stderr",
     "output_type": "stream",
     "text": [
      "Evaluating: 100%|██████████| 23/23 [00:01<00:00, 18.34it/s]\n"
     ]
    },
    {
     "name": "stdout",
     "output_type": "stream",
     "text": [
      "Validation Metrics: Precision=0.7991, Recall=0.8164, F1=0.8076, Exact Match= 0.6894\n",
      "\n",
      "Epoch 7/20\n"
     ]
    },
    {
     "name": "stderr",
     "output_type": "stream",
     "text": [
      "Training: 100%|██████████| 92/92 [00:18<00:00,  4.94it/s, loss=0.0611] \n"
     ]
    },
    {
     "name": "stdout",
     "output_type": "stream",
     "text": [
      "Average training loss: 0.0322\n"
     ]
    },
    {
     "name": "stderr",
     "output_type": "stream",
     "text": [
      "Evaluating: 100%|██████████| 23/23 [00:01<00:00, 18.39it/s]\n"
     ]
    },
    {
     "name": "stdout",
     "output_type": "stream",
     "text": [
      "Validation Metrics: Precision=0.8216, Recall=0.8285, F1=0.8250, Exact Match= 0.7057\n",
      "\n",
      "Epoch 8/20\n"
     ]
    },
    {
     "name": "stderr",
     "output_type": "stream",
     "text": [
      "Training: 100%|██████████| 92/92 [00:18<00:00,  4.94it/s, loss=0.00372]\n"
     ]
    },
    {
     "name": "stdout",
     "output_type": "stream",
     "text": [
      "Average training loss: 0.0166\n"
     ]
    },
    {
     "name": "stderr",
     "output_type": "stream",
     "text": [
      "Evaluating: 100%|██████████| 23/23 [00:01<00:00, 18.39it/s]\n"
     ]
    },
    {
     "name": "stdout",
     "output_type": "stream",
     "text": [
      "Validation Metrics: Precision=0.7865, Recall=0.8140, F1=0.8000, Exact Match= 0.7057\n",
      "\n",
      "Epoch 9/20\n"
     ]
    },
    {
     "name": "stderr",
     "output_type": "stream",
     "text": [
      "Training: 100%|██████████| 92/92 [00:18<00:00,  4.94it/s, loss=0.00173] \n"
     ]
    },
    {
     "name": "stdout",
     "output_type": "stream",
     "text": [
      "Average training loss: 0.0145\n"
     ]
    },
    {
     "name": "stderr",
     "output_type": "stream",
     "text": [
      "Evaluating: 100%|██████████| 23/23 [00:01<00:00, 18.36it/s]\n"
     ]
    },
    {
     "name": "stdout",
     "output_type": "stream",
     "text": [
      "Validation Metrics: Precision=0.7877, Recall=0.8696, F1=0.8266, Exact Match= 0.6894\n",
      "\n",
      "Epoch 10/20\n"
     ]
    },
    {
     "name": "stderr",
     "output_type": "stream",
     "text": [
      "Training: 100%|██████████| 92/92 [00:18<00:00,  4.94it/s, loss=0.00503] \n"
     ]
    },
    {
     "name": "stdout",
     "output_type": "stream",
     "text": [
      "Average training loss: 0.0167\n"
     ]
    },
    {
     "name": "stderr",
     "output_type": "stream",
     "text": [
      "Evaluating: 100%|██████████| 23/23 [00:01<00:00, 18.36it/s]\n"
     ]
    },
    {
     "name": "stdout",
     "output_type": "stream",
     "text": [
      "Validation Metrics: Precision=0.7832, Recall=0.8466, F1=0.8137, Exact Match= 0.7248\n",
      "\n",
      "Epoch 11/20\n"
     ]
    },
    {
     "name": "stderr",
     "output_type": "stream",
     "text": [
      "Training: 100%|██████████| 92/92 [00:18<00:00,  4.94it/s, loss=0.0324]  \n"
     ]
    },
    {
     "name": "stdout",
     "output_type": "stream",
     "text": [
      "Average training loss: 0.0079\n"
     ]
    },
    {
     "name": "stderr",
     "output_type": "stream",
     "text": [
      "Evaluating: 100%|██████████| 23/23 [00:01<00:00, 18.38it/s]\n"
     ]
    },
    {
     "name": "stdout",
     "output_type": "stream",
     "text": [
      "Validation Metrics: Precision=0.7800, Recall=0.8563, F1=0.8164, Exact Match= 0.7248\n",
      "\n",
      "Epoch 12/20\n"
     ]
    },
    {
     "name": "stderr",
     "output_type": "stream",
     "text": [
      "Training: 100%|██████████| 92/92 [00:18<00:00,  4.94it/s, loss=0.000427]\n"
     ]
    },
    {
     "name": "stdout",
     "output_type": "stream",
     "text": [
      "Average training loss: 0.0061\n"
     ]
    },
    {
     "name": "stderr",
     "output_type": "stream",
     "text": [
      "Evaluating: 100%|██████████| 23/23 [00:01<00:00, 18.34it/s]\n"
     ]
    },
    {
     "name": "stdout",
     "output_type": "stream",
     "text": [
      "New best F1: 0.8390 - Saving model\n",
      "Validation Metrics: Precision=0.8410, Recall=0.8370, F1=0.8390, Exact Match= 0.7602\n",
      "\n",
      "Epoch 13/20\n"
     ]
    },
    {
     "name": "stderr",
     "output_type": "stream",
     "text": [
      "Training: 100%|██████████| 92/92 [00:18<00:00,  4.94it/s, loss=5.28e-5] \n"
     ]
    },
    {
     "name": "stdout",
     "output_type": "stream",
     "text": [
      "Average training loss: 0.0025\n"
     ]
    },
    {
     "name": "stderr",
     "output_type": "stream",
     "text": [
      "Evaluating: 100%|██████████| 23/23 [00:01<00:00, 18.35it/s]\n"
     ]
    },
    {
     "name": "stdout",
     "output_type": "stream",
     "text": [
      "Validation Metrics: Precision=0.8202, Recall=0.8430, F1=0.8314, Exact Match= 0.7548\n",
      "\n",
      "Epoch 14/20\n"
     ]
    },
    {
     "name": "stderr",
     "output_type": "stream",
     "text": [
      "Training: 100%|██████████| 92/92 [00:18<00:00,  4.94it/s, loss=0.000149]\n"
     ]
    },
    {
     "name": "stdout",
     "output_type": "stream",
     "text": [
      "Average training loss: 0.0022\n"
     ]
    },
    {
     "name": "stderr",
     "output_type": "stream",
     "text": [
      "Evaluating: 100%|██████████| 23/23 [00:01<00:00, 18.33it/s]\n"
     ]
    },
    {
     "name": "stdout",
     "output_type": "stream",
     "text": [
      "New best F1: 0.8398 - Saving model\n",
      "Validation Metrics: Precision=0.8195, Recall=0.8611, F1=0.8398, Exact Match= 0.7493\n",
      "\n",
      "Epoch 15/20\n"
     ]
    },
    {
     "name": "stderr",
     "output_type": "stream",
     "text": [
      "Training: 100%|██████████| 92/92 [00:18<00:00,  4.94it/s, loss=5.53e-5] \n"
     ]
    },
    {
     "name": "stdout",
     "output_type": "stream",
     "text": [
      "Average training loss: 0.0005\n"
     ]
    },
    {
     "name": "stderr",
     "output_type": "stream",
     "text": [
      "Evaluating: 100%|██████████| 23/23 [00:01<00:00, 18.35it/s]\n"
     ]
    },
    {
     "name": "stdout",
     "output_type": "stream",
     "text": [
      "New best F1: 0.8424 - Saving model\n",
      "Validation Metrics: Precision=0.8211, Recall=0.8647, F1=0.8424, Exact Match= 0.7684\n",
      "\n",
      "Epoch 16/20\n"
     ]
    },
    {
     "name": "stderr",
     "output_type": "stream",
     "text": [
      "Training: 100%|██████████| 92/92 [00:18<00:00,  4.94it/s, loss=0.000129]\n"
     ]
    },
    {
     "name": "stdout",
     "output_type": "stream",
     "text": [
      "Average training loss: 0.0005\n"
     ]
    },
    {
     "name": "stderr",
     "output_type": "stream",
     "text": [
      "Evaluating: 100%|██████████| 23/23 [00:01<00:00, 18.34it/s]\n"
     ]
    },
    {
     "name": "stdout",
     "output_type": "stream",
     "text": [
      "Validation Metrics: Precision=0.8202, Recall=0.8647, F1=0.8419, Exact Match= 0.7602\n",
      "\n",
      "Epoch 17/20\n"
     ]
    },
    {
     "name": "stderr",
     "output_type": "stream",
     "text": [
      "Training: 100%|██████████| 92/92 [00:18<00:00,  4.94it/s, loss=0.000358]\n"
     ]
    },
    {
     "name": "stdout",
     "output_type": "stream",
     "text": [
      "Average training loss: 0.0006\n"
     ]
    },
    {
     "name": "stderr",
     "output_type": "stream",
     "text": [
      "Evaluating: 100%|██████████| 23/23 [00:01<00:00, 18.35it/s]\n"
     ]
    },
    {
     "name": "stdout",
     "output_type": "stream",
     "text": [
      "Validation Metrics: Precision=0.8202, Recall=0.8539, F1=0.8367, Exact Match= 0.7575\n",
      "\n",
      "Epoch 18/20\n"
     ]
    },
    {
     "name": "stderr",
     "output_type": "stream",
     "text": [
      "Training: 100%|██████████| 92/92 [00:18<00:00,  4.94it/s, loss=9.94e-5] \n"
     ]
    },
    {
     "name": "stdout",
     "output_type": "stream",
     "text": [
      "Average training loss: 0.0006\n"
     ]
    },
    {
     "name": "stderr",
     "output_type": "stream",
     "text": [
      "Evaluating: 100%|██████████| 23/23 [00:01<00:00, 18.36it/s]\n"
     ]
    },
    {
     "name": "stdout",
     "output_type": "stream",
     "text": [
      "Validation Metrics: Precision=0.8154, Recall=0.8587, F1=0.8365, Exact Match= 0.7602\n",
      "\n",
      "Epoch 19/20\n"
     ]
    },
    {
     "name": "stderr",
     "output_type": "stream",
     "text": [
      "Training: 100%|██████████| 92/92 [00:18<00:00,  4.94it/s, loss=7.28e-5] \n"
     ]
    },
    {
     "name": "stdout",
     "output_type": "stream",
     "text": [
      "Average training loss: 0.0005\n"
     ]
    },
    {
     "name": "stderr",
     "output_type": "stream",
     "text": [
      "Evaluating: 100%|██████████| 23/23 [00:01<00:00, 18.38it/s]\n"
     ]
    },
    {
     "name": "stdout",
     "output_type": "stream",
     "text": [
      "Validation Metrics: Precision=0.8152, Recall=0.8575, F1=0.8358, Exact Match= 0.7602\n",
      "\n",
      "Epoch 20/20\n"
     ]
    },
    {
     "name": "stderr",
     "output_type": "stream",
     "text": [
      "Training: 100%|██████████| 92/92 [00:18<00:00,  4.94it/s, loss=4.33e-5] \n"
     ]
    },
    {
     "name": "stdout",
     "output_type": "stream",
     "text": [
      "Average training loss: 0.0003\n"
     ]
    },
    {
     "name": "stderr",
     "output_type": "stream",
     "text": [
      "Evaluating: 100%|██████████| 23/23 [00:01<00:00, 18.38it/s]\n"
     ]
    },
    {
     "name": "stdout",
     "output_type": "stream",
     "text": [
      "Validation Metrics: Precision=0.8191, Recall=0.8587, F1=0.8384, Exact Match= 0.7602\n",
      "\n",
      "Evaluating bert_lr0.0001_bs16_ep20 on test set...\n"
     ]
    },
    {
     "name": "stderr",
     "output_type": "stream",
     "text": [
      "Evaluating: 100%|██████████| 32/32 [00:01<00:00, 18.42it/s]\n"
     ]
    },
    {
     "name": "stdout",
     "output_type": "stream",
     "text": [
      "Metrics: Precision=0.8945, Recall=0.9023, F1=0.8984, Exact Match=0.8055\n",
      "\n",
      "==================================================\n",
      "Training model: xlm-roberta-base with params: {'learning_rate': 0.0001, 'batch_size': 16, 'epochs': 20}\n",
      "==================================================\n"
     ]
    },
    {
     "name": "stderr",
     "output_type": "stream",
     "text": [
      "Some weights of XLMRobertaForTokenClassification were not initialized from the model checkpoint at xlm-roberta-base and are newly initialized: ['classifier.bias', 'classifier.weight']\n",
      "You should probably TRAIN this model on a down-stream task to be able to use it for predictions and inference.\n"
     ]
    },
    {
     "name": "stdout",
     "output_type": "stream",
     "text": [
      "Preparing train dataset...\n",
      "Preparing test dataset...\n",
      "Preparing dev dataset...\n",
      "Training on cuda\n",
      "\n",
      "Epoch 1/20\n"
     ]
    },
    {
     "name": "stderr",
     "output_type": "stream",
     "text": [
      "Training: 100%|██████████| 92/92 [00:20<00:00,  4.39it/s, loss=0.0648]\n"
     ]
    },
    {
     "name": "stdout",
     "output_type": "stream",
     "text": [
      "Average training loss: 0.0592\n"
     ]
    },
    {
     "name": "stderr",
     "output_type": "stream",
     "text": [
      "Evaluating: 100%|██████████| 23/23 [00:01<00:00, 18.21it/s]\n"
     ]
    },
    {
     "name": "stdout",
     "output_type": "stream",
     "text": [
      "Validation Metrics: Precision=0.8045, Recall=0.9033, F1=0.8510, Exact Match= 0.7221\n",
      "\n",
      "Epoch 6/20\n"
     ]
    },
    {
     "name": "stderr",
     "output_type": "stream",
     "text": [
      "Training: 100%|██████████| 92/92 [00:20<00:00,  4.38it/s, loss=0.0751] \n"
     ]
    },
    {
     "name": "stdout",
     "output_type": "stream",
     "text": [
      "Average training loss: 0.0518\n"
     ]
    },
    {
     "name": "stderr",
     "output_type": "stream",
     "text": [
      "Evaluating: 100%|██████████| 23/23 [00:01<00:00, 18.17it/s]\n"
     ]
    },
    {
     "name": "stdout",
     "output_type": "stream",
     "text": [
      "Validation Metrics: Precision=0.8021, Recall=0.8288, F1=0.8153, Exact Match= 0.6921\n",
      "\n",
      "Epoch 7/20\n"
     ]
    },
    {
     "name": "stderr",
     "output_type": "stream",
     "text": [
      "Training: 100%|██████████| 92/92 [00:21<00:00,  4.38it/s, loss=0.0458] \n"
     ]
    },
    {
     "name": "stdout",
     "output_type": "stream",
     "text": [
      "Average training loss: 0.0459\n"
     ]
    },
    {
     "name": "stderr",
     "output_type": "stream",
     "text": [
      "Evaluating: 100%|██████████| 23/23 [00:01<00:00, 18.28it/s]\n"
     ]
    },
    {
     "name": "stdout",
     "output_type": "stream",
     "text": [
      "Validation Metrics: Precision=0.8068, Recall=0.9043, F1=0.8528, Exact Match= 0.7357\n",
      "\n",
      "Epoch 8/20\n"
     ]
    },
    {
     "name": "stderr",
     "output_type": "stream",
     "text": [
      "Training: 100%|██████████| 92/92 [00:21<00:00,  4.38it/s, loss=0.0283] \n"
     ]
    },
    {
     "name": "stdout",
     "output_type": "stream",
     "text": [
      "Average training loss: 0.0372\n"
     ]
    },
    {
     "name": "stderr",
     "output_type": "stream",
     "text": [
      "Evaluating: 100%|██████████| 23/23 [00:01<00:00, 18.19it/s]\n"
     ]
    },
    {
     "name": "stdout",
     "output_type": "stream",
     "text": [
      "New best F1: 0.8912 - Saving model\n",
      "Validation Metrics: Precision=0.8646, Recall=0.9194, F1=0.8912, Exact Match= 0.7738\n",
      "\n",
      "Epoch 9/20\n"
     ]
    },
    {
     "name": "stderr",
     "output_type": "stream",
     "text": [
      "Training: 100%|██████████| 92/92 [00:21<00:00,  4.37it/s, loss=0.0211] \n"
     ]
    },
    {
     "name": "stdout",
     "output_type": "stream",
     "text": [
      "Average training loss: 0.0316\n"
     ]
    },
    {
     "name": "stderr",
     "output_type": "stream",
     "text": [
      "Evaluating: 100%|██████████| 23/23 [00:01<00:00, 18.20it/s]\n"
     ]
    },
    {
     "name": "stdout",
     "output_type": "stream",
     "text": [
      "Validation Metrics: Precision=0.8610, Recall=0.8983, F1=0.8793, Exact Match= 0.7657\n",
      "\n",
      "Epoch 10/20\n"
     ]
    },
    {
     "name": "stderr",
     "output_type": "stream",
     "text": [
      "Training: 100%|██████████| 92/92 [00:21<00:00,  4.38it/s, loss=0.000921]\n"
     ]
    },
    {
     "name": "stdout",
     "output_type": "stream",
     "text": [
      "Average training loss: 0.0157\n"
     ]
    },
    {
     "name": "stderr",
     "output_type": "stream",
     "text": [
      "Evaluating: 100%|██████████| 23/23 [00:01<00:00, 18.12it/s]\n"
     ]
    },
    {
     "name": "stdout",
     "output_type": "stream",
     "text": [
      "New best F1: 0.8948 - Saving model\n",
      "Validation Metrics: Precision=0.8742, Recall=0.9164, F1=0.8948, Exact Match= 0.7766\n",
      "\n",
      "Epoch 11/20\n"
     ]
    },
    {
     "name": "stderr",
     "output_type": "stream",
     "text": [
      "Training: 100%|██████████| 92/92 [00:21<00:00,  4.37it/s, loss=0.0197]  \n"
     ]
    },
    {
     "name": "stdout",
     "output_type": "stream",
     "text": [
      "Average training loss: 0.0128\n"
     ]
    },
    {
     "name": "stderr",
     "output_type": "stream",
     "text": [
      "Evaluating: 100%|██████████| 23/23 [00:01<00:00, 18.09it/s]\n"
     ]
    },
    {
     "name": "stdout",
     "output_type": "stream",
     "text": [
      "New best F1: 0.8990 - Saving model\n",
      "Validation Metrics: Precision=0.8888, Recall=0.9094, F1=0.8990, Exact Match= 0.8120\n",
      "\n",
      "Epoch 12/20\n"
     ]
    },
    {
     "name": "stderr",
     "output_type": "stream",
     "text": [
      "Training: 100%|██████████| 92/92 [00:21<00:00,  4.37it/s, loss=0.00161] \n"
     ]
    },
    {
     "name": "stdout",
     "output_type": "stream",
     "text": [
      "Average training loss: 0.0048\n"
     ]
    },
    {
     "name": "stderr",
     "output_type": "stream",
     "text": [
      "Evaluating: 100%|██████████| 23/23 [00:01<00:00, 18.16it/s]\n"
     ]
    },
    {
     "name": "stdout",
     "output_type": "stream",
     "text": [
      "New best F1: 0.8991 - Saving model\n",
      "Validation Metrics: Precision=0.9009, Recall=0.8973, F1=0.8991, Exact Match= 0.8202\n",
      "\n",
      "Epoch 13/20\n"
     ]
    },
    {
     "name": "stderr",
     "output_type": "stream",
     "text": [
      "Training: 100%|██████████| 92/92 [00:21<00:00,  4.37it/s, loss=0.00277] \n"
     ]
    },
    {
     "name": "stdout",
     "output_type": "stream",
     "text": [
      "Average training loss: 0.0030\n"
     ]
    },
    {
     "name": "stderr",
     "output_type": "stream",
     "text": [
      "Evaluating: 100%|██████████| 23/23 [00:01<00:00, 18.15it/s]\n"
     ]
    },
    {
     "name": "stdout",
     "output_type": "stream",
     "text": [
      "New best F1: 0.9003 - Saving model\n",
      "Validation Metrics: Precision=0.9003, Recall=0.9003, F1=0.9003, Exact Match= 0.8065\n",
      "\n",
      "Epoch 14/20\n"
     ]
    },
    {
     "name": "stderr",
     "output_type": "stream",
     "text": [
      "Training: 100%|██████████| 92/92 [00:21<00:00,  4.37it/s, loss=0.00118] \n"
     ]
    },
    {
     "name": "stdout",
     "output_type": "stream",
     "text": [
      "Average training loss: 0.0025\n"
     ]
    },
    {
     "name": "stderr",
     "output_type": "stream",
     "text": [
      "Evaluating: 100%|██████████| 23/23 [00:01<00:00, 18.13it/s]\n"
     ]
    },
    {
     "name": "stdout",
     "output_type": "stream",
     "text": [
      "New best F1: 0.9109 - Saving model\n",
      "Validation Metrics: Precision=0.8958, Recall=0.9265, F1=0.9109, Exact Match= 0.8229\n",
      "\n",
      "Epoch 15/20\n"
     ]
    },
    {
     "name": "stderr",
     "output_type": "stream",
     "text": [
      "Training: 100%|██████████| 92/92 [00:21<00:00,  4.37it/s, loss=0.000277]\n"
     ]
    },
    {
     "name": "stdout",
     "output_type": "stream",
     "text": [
      "Average training loss: 0.0016\n"
     ]
    },
    {
     "name": "stderr",
     "output_type": "stream",
     "text": [
      "Evaluating: 100%|██████████| 23/23 [00:01<00:00, 18.14it/s]\n"
     ]
    },
    {
     "name": "stdout",
     "output_type": "stream",
     "text": [
      "New best F1: 0.9135 - Saving model\n",
      "Validation Metrics: Precision=0.9067, Recall=0.9204, F1=0.9135, Exact Match= 0.8174\n",
      "\n",
      "Epoch 16/20\n"
     ]
    },
    {
     "name": "stderr",
     "output_type": "stream",
     "text": [
      "Training: 100%|██████████| 92/92 [00:21<00:00,  4.37it/s, loss=0.00021] \n"
     ]
    },
    {
     "name": "stdout",
     "output_type": "stream",
     "text": [
      "Average training loss: 0.0015\n"
     ]
    },
    {
     "name": "stderr",
     "output_type": "stream",
     "text": [
      "Evaluating: 100%|██████████| 23/23 [00:01<00:00, 18.11it/s]\n"
     ]
    },
    {
     "name": "stdout",
     "output_type": "stream",
     "text": [
      "Validation Metrics: Precision=0.9014, Recall=0.9114, F1=0.9064, Exact Match= 0.8147\n",
      "\n",
      "Epoch 17/20\n"
     ]
    },
    {
     "name": "stderr",
     "output_type": "stream",
     "text": [
      "Training: 100%|██████████| 92/92 [00:21<00:00,  4.37it/s, loss=0.000166]\n"
     ]
    },
    {
     "name": "stdout",
     "output_type": "stream",
     "text": [
      "Average training loss: 0.0014\n"
     ]
    },
    {
     "name": "stderr",
     "output_type": "stream",
     "text": [
      "Evaluating: 100%|██████████| 23/23 [00:01<00:00, 18.05it/s]\n"
     ]
    },
    {
     "name": "stdout",
     "output_type": "stream",
     "text": [
      "Validation Metrics: Precision=0.8936, Recall=0.9215, F1=0.9073, Exact Match= 0.8202\n",
      "\n",
      "Epoch 18/20\n"
     ]
    },
    {
     "name": "stderr",
     "output_type": "stream",
     "text": [
      "Training: 100%|██████████| 92/92 [00:21<00:00,  4.37it/s, loss=0.000115]\n"
     ]
    },
    {
     "name": "stdout",
     "output_type": "stream",
     "text": [
      "Average training loss: 0.0008\n"
     ]
    },
    {
     "name": "stderr",
     "output_type": "stream",
     "text": [
      "Evaluating: 100%|██████████| 23/23 [00:01<00:00, 18.12it/s]\n"
     ]
    },
    {
     "name": "stdout",
     "output_type": "stream",
     "text": [
      "Validation Metrics: Precision=0.9023, Recall=0.9204, F1=0.9113, Exact Match= 0.8202\n",
      "\n",
      "Epoch 19/20\n"
     ]
    },
    {
     "name": "stderr",
     "output_type": "stream",
     "text": [
      "Training: 100%|██████████| 92/92 [00:21<00:00,  4.37it/s, loss=0.000334]\n"
     ]
    },
    {
     "name": "stdout",
     "output_type": "stream",
     "text": [
      "Average training loss: 0.0006\n"
     ]
    },
    {
     "name": "stderr",
     "output_type": "stream",
     "text": [
      "Evaluating: 100%|██████████| 23/23 [00:01<00:00, 18.13it/s]\n"
     ]
    },
    {
     "name": "stdout",
     "output_type": "stream",
     "text": [
      "Validation Metrics: Precision=0.9001, Recall=0.9164, F1=0.9082, Exact Match= 0.8229\n",
      "\n",
      "Epoch 20/20\n"
     ]
    },
    {
     "name": "stderr",
     "output_type": "stream",
     "text": [
      "Training: 100%|██████████| 92/92 [00:21<00:00,  4.37it/s, loss=0.000287]\n"
     ]
    },
    {
     "name": "stdout",
     "output_type": "stream",
     "text": [
      "Average training loss: 0.0010\n"
     ]
    },
    {
     "name": "stderr",
     "output_type": "stream",
     "text": [
      "Evaluating: 100%|██████████| 23/23 [00:01<00:00, 18.13it/s]\n"
     ]
    },
    {
     "name": "stdout",
     "output_type": "stream",
     "text": [
      "Validation Metrics: Precision=0.8949, Recall=0.9174, F1=0.9060, Exact Match= 0.8174\n",
      "\n",
      "Evaluating xlm-roberta_lr0.0001_bs16_ep20 on test set...\n"
     ]
    },
    {
     "name": "stderr",
     "output_type": "stream",
     "text": [
      "Evaluating: 100%|██████████| 32/32 [00:01<00:00, 18.15it/s]\n"
     ]
    },
    {
     "name": "stdout",
     "output_type": "stream",
     "text": [
      "Metrics: Precision=0.9205, Recall=0.9253, F1=0.9229, Exact Match=0.8134\n",
      "\n",
      "==================================================\n",
      "Training model: cahya/xlm-roberta-base-indonesian-NER with params: {'learning_rate': 0.0001, 'batch_size': 16, 'epochs': 20}\n",
      "==================================================\n"
     ]
    },
    {
     "name": "stderr",
     "output_type": "stream",
     "text": [
      "Some weights of the model checkpoint at cahya/xlm-roberta-base-indonesian-NER were not used when initializing XLMRobertaForTokenClassification: ['roberta.pooler.dense.bias', 'roberta.pooler.dense.weight']\n",
      "- This IS expected if you are initializing XLMRobertaForTokenClassification from the checkpoint of a model trained on another task or with another architecture (e.g. initializing a BertForSequenceClassification model from a BertForPreTraining model).\n",
      "- This IS NOT expected if you are initializing XLMRobertaForTokenClassification from the checkpoint of a model that you expect to be exactly identical (initializing a BertForSequenceClassification model from a BertForSequenceClassification model).\n",
      "Some weights of XLMRobertaForTokenClassification were not initialized from the model checkpoint at cahya/xlm-roberta-base-indonesian-NER and are newly initialized because the shapes did not match:\n",
      "- classifier.bias: found shape torch.Size([39]) in the checkpoint and torch.Size([7]) in the model instantiated\n",
      "- classifier.weight: found shape torch.Size([39, 768]) in the checkpoint and torch.Size([7, 768]) in the model instantiated\n",
      "You should probably TRAIN this model on a down-stream task to be able to use it for predictions and inference.\n"
     ]
    },
    {
     "name": "stdout",
     "output_type": "stream",
     "text": [
      "Preparing train dataset...\n",
      "Preparing test dataset...\n",
      "Preparing dev dataset...\n",
      "Training on cuda\n",
      "\n",
      "Epoch 1/20\n"
     ]
    },
    {
     "name": "stderr",
     "output_type": "stream",
     "text": [
      "Training: 100%|██████████| 92/92 [00:21<00:00,  4.37it/s, loss=0.166]\n"
     ]
    },
    {
     "name": "stdout",
     "output_type": "stream",
     "text": [
      "Average training loss: 0.6785\n"
     ]
    },
    {
     "name": "stderr",
     "output_type": "stream",
     "text": [
      "Evaluating: 100%|██████████| 23/23 [00:01<00:00, 18.13it/s]\n"
     ]
    },
    {
     "name": "stdout",
     "output_type": "stream",
     "text": [
      "New best F1: 0.7187 - Saving model\n",
      "Validation Metrics: Precision=0.6888, Recall=0.7513, F1=0.7187, Exact Match= 0.6104\n",
      "\n",
      "Epoch 2/20\n"
     ]
    },
    {
     "name": "stderr",
     "output_type": "stream",
     "text": [
      "Training: 100%|██████████| 92/92 [00:21<00:00,  4.37it/s, loss=0.184] \n"
     ]
    },
    {
     "name": "stdout",
     "output_type": "stream",
     "text": [
      "Average training loss: 0.1331\n"
     ]
    },
    {
     "name": "stderr",
     "output_type": "stream",
     "text": [
      "Evaluating: 100%|██████████| 23/23 [00:01<00:00, 18.13it/s]\n"
     ]
    },
    {
     "name": "stdout",
     "output_type": "stream",
     "text": [
      "New best F1: 0.8617 - Saving model\n",
      "Validation Metrics: Precision=0.8368, Recall=0.8882, F1=0.8617, Exact Match= 0.7330\n",
      "\n",
      "Epoch 3/20\n"
     ]
    },
    {
     "name": "stderr",
     "output_type": "stream",
     "text": [
      "Training: 100%|██████████| 92/92 [00:21<00:00,  4.37it/s, loss=0.0553] \n"
     ]
    },
    {
     "name": "stdout",
     "output_type": "stream",
     "text": [
      "Average training loss: 0.0710\n"
     ]
    },
    {
     "name": "stderr",
     "output_type": "stream",
     "text": [
      "Evaluating: 100%|██████████| 23/23 [00:01<00:00, 18.13it/s]\n"
     ]
    },
    {
     "name": "stdout",
     "output_type": "stream",
     "text": [
      "New best F1: 0.8791 - Saving model\n",
      "Validation Metrics: Precision=0.8490, Recall=0.9114, F1=0.8791, Exact Match= 0.7548\n",
      "\n",
      "Epoch 4/20\n"
     ]
    },
    {
     "name": "stderr",
     "output_type": "stream",
     "text": [
      "Training: 100%|██████████| 92/92 [00:21<00:00,  4.37it/s, loss=0.0668] \n"
     ]
    },
    {
     "name": "stdout",
     "output_type": "stream",
     "text": [
      "Average training loss: 0.0537\n"
     ]
    },
    {
     "name": "stderr",
     "output_type": "stream",
     "text": [
      "Evaluating: 100%|██████████| 23/23 [00:01<00:00, 18.10it/s]\n"
     ]
    },
    {
     "name": "stdout",
     "output_type": "stream",
     "text": [
      "Validation Metrics: Precision=0.8512, Recall=0.8872, F1=0.8688, Exact Match= 0.7711\n",
      "\n",
      "Epoch 5/20\n"
     ]
    },
    {
     "name": "stderr",
     "output_type": "stream",
     "text": [
      "Training: 100%|██████████| 92/92 [00:21<00:00,  4.37it/s, loss=0.036] \n"
     ]
    },
    {
     "name": "stdout",
     "output_type": "stream",
     "text": [
      "Average training loss: 0.0654\n"
     ]
    },
    {
     "name": "stderr",
     "output_type": "stream",
     "text": [
      "Evaluating: 100%|██████████| 23/23 [00:01<00:00, 18.12it/s]\n"
     ]
    },
    {
     "name": "stdout",
     "output_type": "stream",
     "text": [
      "Validation Metrics: Precision=0.8343, Recall=0.9074, F1=0.8693, Exact Match= 0.7302\n",
      "\n",
      "Epoch 6/20\n"
     ]
    },
    {
     "name": "stderr",
     "output_type": "stream",
     "text": [
      "Training: 100%|██████████| 92/92 [00:21<00:00,  4.37it/s, loss=0.0662] \n"
     ]
    },
    {
     "name": "stdout",
     "output_type": "stream",
     "text": [
      "Average training loss: 0.0768\n"
     ]
    },
    {
     "name": "stderr",
     "output_type": "stream",
     "text": [
      "Evaluating: 100%|██████████| 23/23 [00:01<00:00, 18.11it/s]\n"
     ]
    },
    {
     "name": "stdout",
     "output_type": "stream",
     "text": [
      "Validation Metrics: Precision=0.8552, Recall=0.8983, F1=0.8762, Exact Match= 0.7684\n",
      "\n",
      "Epoch 7/20\n"
     ]
    },
    {
     "name": "stderr",
     "output_type": "stream",
     "text": [
      "Training: 100%|██████████| 92/92 [00:21<00:00,  4.37it/s, loss=0.0038] \n"
     ]
    },
    {
     "name": "stdout",
     "output_type": "stream",
     "text": [
      "Average training loss: 0.0612\n"
     ]
    },
    {
     "name": "stderr",
     "output_type": "stream",
     "text": [
      "Evaluating: 100%|██████████| 23/23 [00:01<00:00, 18.07it/s]\n"
     ]
    },
    {
     "name": "stdout",
     "output_type": "stream",
     "text": [
      "New best F1: 0.8830 - Saving model\n",
      "Validation Metrics: Precision=0.8663, Recall=0.9003, F1=0.8830, Exact Match= 0.7629\n",
      "\n",
      "Epoch 8/20\n"
     ]
    },
    {
     "name": "stderr",
     "output_type": "stream",
     "text": [
      "Training: 100%|██████████| 92/92 [00:21<00:00,  4.37it/s, loss=0.00925]\n"
     ]
    },
    {
     "name": "stdout",
     "output_type": "stream",
     "text": [
      "Average training loss: 0.0354\n"
     ]
    },
    {
     "name": "stderr",
     "output_type": "stream",
     "text": [
      "Evaluating: 100%|██████████| 23/23 [00:01<00:00, 18.13it/s]\n"
     ]
    },
    {
     "name": "stdout",
     "output_type": "stream",
     "text": [
      "New best F1: 0.8957 - Saving model\n",
      "Validation Metrics: Precision=0.8881, Recall=0.9033, F1=0.8957, Exact Match= 0.7902\n",
      "\n",
      "Epoch 9/20\n"
     ]
    },
    {
     "name": "stderr",
     "output_type": "stream",
     "text": [
      "Training: 100%|██████████| 92/92 [00:21<00:00,  4.37it/s, loss=0.00964]\n"
     ]
    },
    {
     "name": "stdout",
     "output_type": "stream",
     "text": [
      "Average training loss: 0.0205\n"
     ]
    },
    {
     "name": "stderr",
     "output_type": "stream",
     "text": [
      "Evaluating: 100%|██████████| 23/23 [00:01<00:00, 18.10it/s]\n"
     ]
    },
    {
     "name": "stdout",
     "output_type": "stream",
     "text": [
      "Validation Metrics: Precision=0.8505, Recall=0.9164, F1=0.8822, Exact Match= 0.7711\n",
      "\n",
      "Epoch 10/20\n"
     ]
    },
    {
     "name": "stderr",
     "output_type": "stream",
     "text": [
      "Training: 100%|██████████| 92/92 [00:21<00:00,  4.37it/s, loss=0.0256]  \n"
     ]
    },
    {
     "name": "stdout",
     "output_type": "stream",
     "text": [
      "Average training loss: 0.0132\n"
     ]
    },
    {
     "name": "stderr",
     "output_type": "stream",
     "text": [
      "Evaluating: 100%|██████████| 23/23 [00:01<00:00, 18.09it/s]\n"
     ]
    },
    {
     "name": "stdout",
     "output_type": "stream",
     "text": [
      "New best F1: 0.9050 - Saving model\n",
      "Validation Metrics: Precision=0.8764, Recall=0.9355, F1=0.9050, Exact Match= 0.7984\n",
      "\n",
      "Epoch 11/20\n"
     ]
    },
    {
     "name": "stderr",
     "output_type": "stream",
     "text": [
      "Training: 100%|██████████| 92/92 [00:21<00:00,  4.36it/s, loss=0.0322]  \n"
     ]
    },
    {
     "name": "stdout",
     "output_type": "stream",
     "text": [
      "Average training loss: 0.0119\n"
     ]
    },
    {
     "name": "stderr",
     "output_type": "stream",
     "text": [
      "Evaluating: 100%|██████████| 23/23 [00:01<00:00, 18.13it/s]\n"
     ]
    },
    {
     "name": "stdout",
     "output_type": "stream",
     "text": [
      "New best F1: 0.9083 - Saving model\n",
      "Validation Metrics: Precision=0.8899, Recall=0.9275, F1=0.9083, Exact Match= 0.8147\n",
      "\n",
      "Epoch 12/20\n"
     ]
    },
    {
     "name": "stderr",
     "output_type": "stream",
     "text": [
      "Training: 100%|██████████| 92/92 [00:21<00:00,  4.37it/s, loss=0.00296] \n"
     ]
    },
    {
     "name": "stdout",
     "output_type": "stream",
     "text": [
      "Average training loss: 0.0057\n"
     ]
    },
    {
     "name": "stderr",
     "output_type": "stream",
     "text": [
      "Evaluating: 100%|██████████| 23/23 [00:01<00:00, 18.10it/s]\n"
     ]
    },
    {
     "name": "stdout",
     "output_type": "stream",
     "text": [
      "New best F1: 0.9141 - Saving model\n",
      "Validation Metrics: Precision=0.9020, Recall=0.9265, F1=0.9141, Exact Match= 0.8174\n",
      "\n",
      "Epoch 13/20\n"
     ]
    },
    {
     "name": "stderr",
     "output_type": "stream",
     "text": [
      "Training: 100%|██████████| 92/92 [00:21<00:00,  4.37it/s, loss=0.000237]\n"
     ]
    },
    {
     "name": "stdout",
     "output_type": "stream",
     "text": [
      "Average training loss: 0.0075\n"
     ]
    },
    {
     "name": "stderr",
     "output_type": "stream",
     "text": [
      "Evaluating: 100%|██████████| 23/23 [00:01<00:00, 18.11it/s]\n"
     ]
    },
    {
     "name": "stdout",
     "output_type": "stream",
     "text": [
      "Validation Metrics: Precision=0.8977, Recall=0.9275, F1=0.9123, Exact Match= 0.8256\n",
      "\n",
      "Epoch 14/20\n"
     ]
    },
    {
     "name": "stderr",
     "output_type": "stream",
     "text": [
      "Training: 100%|██████████| 92/92 [00:21<00:00,  4.37it/s, loss=0.00439] \n"
     ]
    },
    {
     "name": "stdout",
     "output_type": "stream",
     "text": [
      "Average training loss: 0.0063\n"
     ]
    },
    {
     "name": "stderr",
     "output_type": "stream",
     "text": [
      "Evaluating: 100%|██████████| 23/23 [00:01<00:00, 18.10it/s]\n"
     ]
    },
    {
     "name": "stdout",
     "output_type": "stream",
     "text": [
      "Validation Metrics: Precision=0.8808, Recall=0.9154, F1=0.8978, Exact Match= 0.8120\n",
      "\n",
      "Epoch 15/20\n"
     ]
    },
    {
     "name": "stderr",
     "output_type": "stream",
     "text": [
      "Training: 100%|██████████| 92/92 [00:21<00:00,  4.37it/s, loss=0.00196] \n"
     ]
    },
    {
     "name": "stdout",
     "output_type": "stream",
     "text": [
      "Average training loss: 0.0044\n"
     ]
    },
    {
     "name": "stderr",
     "output_type": "stream",
     "text": [
      "Evaluating: 100%|██████████| 23/23 [00:01<00:00, 18.08it/s]\n"
     ]
    },
    {
     "name": "stdout",
     "output_type": "stream",
     "text": [
      "New best F1: 0.9165 - Saving model\n",
      "Validation Metrics: Precision=0.9048, Recall=0.9285, F1=0.9165, Exact Match= 0.8311\n",
      "\n",
      "Epoch 16/20\n"
     ]
    },
    {
     "name": "stderr",
     "output_type": "stream",
     "text": [
      "Training: 100%|██████████| 92/92 [00:21<00:00,  4.37it/s, loss=0.00097] \n"
     ]
    },
    {
     "name": "stdout",
     "output_type": "stream",
     "text": [
      "Average training loss: 0.0035\n"
     ]
    },
    {
     "name": "stderr",
     "output_type": "stream",
     "text": [
      "Evaluating: 100%|██████████| 23/23 [00:01<00:00, 18.12it/s]\n"
     ]
    },
    {
     "name": "stdout",
     "output_type": "stream",
     "text": [
      "Validation Metrics: Precision=0.8930, Recall=0.9325, F1=0.9123, Exact Match= 0.8174\n",
      "\n",
      "Epoch 17/20\n"
     ]
    },
    {
     "name": "stderr",
     "output_type": "stream",
     "text": [
      "Training: 100%|██████████| 92/92 [00:21<00:00,  4.37it/s, loss=0.000228]\n"
     ]
    },
    {
     "name": "stdout",
     "output_type": "stream",
     "text": [
      "Average training loss: 0.0020\n"
     ]
    },
    {
     "name": "stderr",
     "output_type": "stream",
     "text": [
      "Evaluating: 100%|██████████| 23/23 [00:01<00:00, 18.15it/s]\n"
     ]
    },
    {
     "name": "stdout",
     "output_type": "stream",
     "text": [
      "Validation Metrics: Precision=0.8943, Recall=0.9285, F1=0.9111, Exact Match= 0.8229\n",
      "\n",
      "Epoch 18/20\n"
     ]
    },
    {
     "name": "stderr",
     "output_type": "stream",
     "text": [
      "Training: 100%|██████████| 92/92 [00:21<00:00,  4.37it/s, loss=0.00182] \n"
     ]
    },
    {
     "name": "stdout",
     "output_type": "stream",
     "text": [
      "Average training loss: 0.0016\n"
     ]
    },
    {
     "name": "stderr",
     "output_type": "stream",
     "text": [
      "Evaluating: 100%|██████████| 23/23 [00:01<00:00, 18.10it/s]\n"
     ]
    },
    {
     "name": "stdout",
     "output_type": "stream",
     "text": [
      "Validation Metrics: Precision=0.9010, Recall=0.9255, F1=0.9131, Exact Match= 0.8202\n",
      "\n",
      "Epoch 19/20\n"
     ]
    },
    {
     "name": "stderr",
     "output_type": "stream",
     "text": [
      "Training: 100%|██████████| 92/92 [00:21<00:00,  4.37it/s, loss=0.0003]  \n"
     ]
    },
    {
     "name": "stdout",
     "output_type": "stream",
     "text": [
      "Average training loss: 0.0010\n"
     ]
    },
    {
     "name": "stderr",
     "output_type": "stream",
     "text": [
      "Evaluating: 100%|██████████| 23/23 [00:01<00:00, 17.98it/s]\n"
     ]
    },
    {
     "name": "stdout",
     "output_type": "stream",
     "text": [
      "New best F1: 0.9190 - Saving model\n",
      "Validation Metrics: Precision=0.9126, Recall=0.9255, F1=0.9190, Exact Match= 0.8338\n",
      "\n",
      "Epoch 20/20\n"
     ]
    },
    {
     "name": "stderr",
     "output_type": "stream",
     "text": [
      "Training: 100%|██████████| 92/92 [00:21<00:00,  4.37it/s, loss=0.000258]\n"
     ]
    },
    {
     "name": "stdout",
     "output_type": "stream",
     "text": [
      "Average training loss: 0.0014\n"
     ]
    },
    {
     "name": "stderr",
     "output_type": "stream",
     "text": [
      "Evaluating: 100%|██████████| 23/23 [00:01<00:00, 18.16it/s]\n"
     ]
    },
    {
     "name": "stdout",
     "output_type": "stream",
     "text": [
      "New best F1: 0.9221 - Saving model\n",
      "Validation Metrics: Precision=0.9148, Recall=0.9295, F1=0.9221, Exact Match= 0.8338\n",
      "\n",
      "Evaluating xlm-roberta_lr0.0001_bs16_ep20 on test set...\n"
     ]
    },
    {
     "name": "stderr",
     "output_type": "stream",
     "text": [
      "Evaluating: 100%|██████████| 32/32 [00:01<00:00, 18.16it/s]\n"
     ]
    },
    {
     "name": "stdout",
     "output_type": "stream",
     "text": [
      "Metrics: Precision=0.9146, Recall=0.9281, F1=0.9213, Exact Match=0.8193\n",
      "\n",
      "======== Running Experiment 5/32 ========\n",
      "\n",
      "==================================================\n",
      "Training model: indobenchmark/indobert-base-p1 with params: {'learning_rate': 0.0001, 'batch_size': 32, 'epochs': 3}\n",
      "==================================================\n"
     ]
    },
    {
     "name": "stderr",
     "output_type": "stream",
     "text": [
      "Some weights of BertForTokenClassification were not initialized from the model checkpoint at indobenchmark/indobert-base-p1 and are newly initialized: ['classifier.bias', 'classifier.weight']\n",
      "You should probably TRAIN this model on a down-stream task to be able to use it for predictions and inference.\n"
     ]
    },
    {
     "name": "stdout",
     "output_type": "stream",
     "text": [
      "Preparing train dataset...\n",
      "Preparing test dataset...\n",
      "Preparing dev dataset...\n",
      "Training on cuda\n",
      "\n",
      "Epoch 1/3\n"
     ]
    },
    {
     "name": "stderr",
     "output_type": "stream",
     "text": [
      "Training: 100%|██████████| 46/46 [00:17<00:00,  2.60it/s, loss=0.375]\n"
     ]
    },
    {
     "name": "stdout",
     "output_type": "stream",
     "text": [
      "Average training loss: 1.0620\n"
     ]
    },
    {
     "name": "stderr",
     "output_type": "stream",
     "text": [
      "Evaluating: 100%|██████████| 12/12 [00:01<00:00,  9.65it/s]\n"
     ]
    },
    {
     "name": "stdout",
     "output_type": "stream",
     "text": [
      "New best F1: 0.1995 - Saving model\n",
      "Validation Metrics: Precision=0.3391, Recall=0.1413, F1=0.1995, Exact Match= 0.2916\n",
      "\n",
      "Epoch 2/3\n"
     ]
    },
    {
     "name": "stderr",
     "output_type": "stream",
     "text": [
      "Training: 100%|██████████| 46/46 [00:17<00:00,  2.62it/s, loss=0.118]\n"
     ]
    },
    {
     "name": "stdout",
     "output_type": "stream",
     "text": [
      "Average training loss: 0.2848\n"
     ]
    },
    {
     "name": "stderr",
     "output_type": "stream",
     "text": [
      "Evaluating: 100%|██████████| 12/12 [00:01<00:00,  9.66it/s]\n"
     ]
    },
    {
     "name": "stdout",
     "output_type": "stream",
     "text": [
      "New best F1: 0.6216 - Saving model\n",
      "Validation Metrics: Precision=0.6053, Recall=0.6389, F1=0.6216, Exact Match= 0.5341\n",
      "\n",
      "Epoch 3/3\n"
     ]
    },
    {
     "name": "stderr",
     "output_type": "stream",
     "text": [
      "Training: 100%|██████████| 46/46 [00:17<00:00,  2.62it/s, loss=0.133] \n"
     ]
    },
    {
     "name": "stdout",
     "output_type": "stream",
     "text": [
      "Average training loss: 0.1242\n"
     ]
    },
    {
     "name": "stderr",
     "output_type": "stream",
     "text": [
      "Evaluating: 100%|██████████| 12/12 [00:01<00:00,  9.64it/s]\n"
     ]
    },
    {
     "name": "stdout",
     "output_type": "stream",
     "text": [
      "New best F1: 0.7916 - Saving model\n",
      "Validation Metrics: Precision=0.7620, Recall=0.8237, F1=0.7916, Exact Match= 0.7084\n",
      "\n",
      "Evaluating bert_lr0.0001_bs32_ep3 on test set...\n"
     ]
    },
    {
     "name": "stderr",
     "output_type": "stream",
     "text": [
      "Evaluating: 100%|██████████| 16/16 [00:01<00:00,  9.27it/s]\n"
     ]
    },
    {
     "name": "stdout",
     "output_type": "stream",
     "text": [
      "Metrics: Precision=0.8668, Recall=0.8712, F1=0.8690, Exact Match=0.7191\n",
      "\n",
      "==================================================\n",
      "Training model: xlm-roberta-base with params: {'learning_rate': 0.0001, 'batch_size': 32, 'epochs': 3}\n",
      "==================================================\n"
     ]
    },
    {
     "name": "stderr",
     "output_type": "stream",
     "text": [
      "Some weights of XLMRobertaForTokenClassification were not initialized from the model checkpoint at xlm-roberta-base and are newly initialized: ['classifier.bias', 'classifier.weight']\n",
      "You should probably TRAIN this model on a down-stream task to be able to use it for predictions and inference.\n"
     ]
    },
    {
     "name": "stdout",
     "output_type": "stream",
     "text": [
      "Preparing train dataset...\n",
      "Preparing test dataset...\n",
      "Preparing dev dataset...\n",
      "Training on cuda\n",
      "\n",
      "Epoch 1/3\n"
     ]
    },
    {
     "name": "stderr",
     "output_type": "stream",
     "text": [
      "Training: 100%|██████████| 46/46 [00:18<00:00,  2.45it/s, loss=0.772]\n"
     ]
    },
    {
     "name": "stdout",
     "output_type": "stream",
     "text": [
      "Average training loss: 1.6374\n"
     ]
    },
    {
     "name": "stderr",
     "output_type": "stream",
     "text": [
      "Evaluating: 100%|██████████| 12/12 [00:01<00:00,  9.63it/s]\n"
     ]
    },
    {
     "name": "stdout",
     "output_type": "stream",
     "text": [
      "Validation Metrics: Precision=0.0000, Recall=0.0000, F1=0.0000, Exact Match= 0.3106\n",
      "\n",
      "Epoch 2/3\n"
     ]
    },
    {
     "name": "stderr",
     "output_type": "stream",
     "text": [
      "Training: 100%|██████████| 46/46 [00:18<00:00,  2.46it/s, loss=0.306]\n"
     ]
    },
    {
     "name": "stdout",
     "output_type": "stream",
     "text": [
      "Average training loss: 0.4787\n"
     ]
    },
    {
     "name": "stderr",
     "output_type": "stream",
     "text": [
      "Evaluating: 100%|██████████| 12/12 [00:01<00:00,  9.64it/s]\n"
     ]
    },
    {
     "name": "stdout",
     "output_type": "stream",
     "text": [
      "New best F1: 0.4459 - Saving model\n",
      "Validation Metrics: Precision=0.4498, Recall=0.4421, F1=0.4459, Exact Match= 0.3869\n",
      "\n",
      "Epoch 3/3\n"
     ]
    },
    {
     "name": "stderr",
     "output_type": "stream",
     "text": [
      "Training: 100%|██████████| 46/46 [00:18<00:00,  2.45it/s, loss=0.144] \n"
     ]
    },
    {
     "name": "stdout",
     "output_type": "stream",
     "text": [
      "Average training loss: 0.1992\n"
     ]
    },
    {
     "name": "stderr",
     "output_type": "stream",
     "text": [
      "Evaluating: 100%|██████████| 12/12 [00:01<00:00,  9.61it/s]\n"
     ]
    },
    {
     "name": "stdout",
     "output_type": "stream",
     "text": [
      "New best F1: 0.7497 - Saving model\n",
      "Validation Metrics: Precision=0.7453, Recall=0.7543, F1=0.7497, Exact Match= 0.6267\n",
      "\n",
      "Evaluating xlm-roberta_lr0.0001_bs32_ep3 on test set...\n"
     ]
    },
    {
     "name": "stderr",
     "output_type": "stream",
     "text": [
      "Evaluating: 100%|██████████| 16/16 [00:01<00:00,  9.22it/s]\n"
     ]
    },
    {
     "name": "stdout",
     "output_type": "stream",
     "text": [
      "Metrics: Precision=0.8021, Recall=0.8323, F1=0.8169, Exact Match=0.6346\n",
      "\n",
      "==================================================\n",
      "Training model: cahya/xlm-roberta-base-indonesian-NER with params: {'learning_rate': 0.0001, 'batch_size': 32, 'epochs': 3}\n",
      "==================================================\n"
     ]
    },
    {
     "name": "stderr",
     "output_type": "stream",
     "text": [
      "Some weights of the model checkpoint at cahya/xlm-roberta-base-indonesian-NER were not used when initializing XLMRobertaForTokenClassification: ['roberta.pooler.dense.bias', 'roberta.pooler.dense.weight']\n",
      "- This IS expected if you are initializing XLMRobertaForTokenClassification from the checkpoint of a model trained on another task or with another architecture (e.g. initializing a BertForSequenceClassification model from a BertForPreTraining model).\n",
      "- This IS NOT expected if you are initializing XLMRobertaForTokenClassification from the checkpoint of a model that you expect to be exactly identical (initializing a BertForSequenceClassification model from a BertForSequenceClassification model).\n",
      "Some weights of XLMRobertaForTokenClassification were not initialized from the model checkpoint at cahya/xlm-roberta-base-indonesian-NER and are newly initialized because the shapes did not match:\n",
      "- classifier.bias: found shape torch.Size([39]) in the checkpoint and torch.Size([7]) in the model instantiated\n",
      "- classifier.weight: found shape torch.Size([39, 768]) in the checkpoint and torch.Size([7, 768]) in the model instantiated\n",
      "You should probably TRAIN this model on a down-stream task to be able to use it for predictions and inference.\n"
     ]
    },
    {
     "name": "stdout",
     "output_type": "stream",
     "text": [
      "Preparing train dataset...\n",
      "Preparing test dataset...\n",
      "Preparing dev dataset...\n",
      "Training on cuda\n",
      "\n",
      "Epoch 1/3\n"
     ]
    },
    {
     "name": "stderr",
     "output_type": "stream",
     "text": [
      "Training: 100%|██████████| 46/46 [00:18<00:00,  2.45it/s, loss=0.401]\n"
     ]
    },
    {
     "name": "stdout",
     "output_type": "stream",
     "text": [
      "Average training loss: 1.1183\n"
     ]
    },
    {
     "name": "stderr",
     "output_type": "stream",
     "text": [
      "Evaluating: 100%|██████████| 12/12 [00:01<00:00,  9.64it/s]\n"
     ]
    },
    {
     "name": "stdout",
     "output_type": "stream",
     "text": [
      "New best F1: 0.3426 - Saving model\n",
      "Validation Metrics: Precision=0.7441, Recall=0.2226, F1=0.3426, Exact Match= 0.3488\n",
      "\n",
      "Epoch 2/3\n"
     ]
    },
    {
     "name": "stderr",
     "output_type": "stream",
     "text": [
      "Training: 100%|██████████| 46/46 [00:18<00:00,  2.45it/s, loss=0.163]\n"
     ]
    },
    {
     "name": "stdout",
     "output_type": "stream",
     "text": [
      "Average training loss: 0.2606\n"
     ]
    },
    {
     "name": "stderr",
     "output_type": "stream",
     "text": [
      "Evaluating: 100%|██████████| 12/12 [00:01<00:00,  9.65it/s]\n"
     ]
    },
    {
     "name": "stdout",
     "output_type": "stream",
     "text": [
      "New best F1: 0.6919 - Saving model\n",
      "Validation Metrics: Precision=0.6600, Recall=0.7271, F1=0.6919, Exact Match= 0.5940\n",
      "\n",
      "Epoch 3/3\n"
     ]
    },
    {
     "name": "stderr",
     "output_type": "stream",
     "text": [
      "Training: 100%|██████████| 46/46 [00:18<00:00,  2.45it/s, loss=0.159] \n"
     ]
    },
    {
     "name": "stdout",
     "output_type": "stream",
     "text": [
      "Average training loss: 0.1220\n"
     ]
    },
    {
     "name": "stderr",
     "output_type": "stream",
     "text": [
      "Evaluating: 100%|██████████| 12/12 [00:01<00:00,  9.65it/s]\n"
     ]
    },
    {
     "name": "stdout",
     "output_type": "stream",
     "text": [
      "New best F1: 0.8521 - Saving model\n",
      "Validation Metrics: Precision=0.8573, Recall=0.8469, F1=0.8521, Exact Match= 0.7657\n",
      "\n",
      "Evaluating xlm-roberta_lr0.0001_bs32_ep3 on test set...\n"
     ]
    },
    {
     "name": "stderr",
     "output_type": "stream",
     "text": [
      "Evaluating: 100%|██████████| 16/16 [00:01<00:00,  9.19it/s]\n"
     ]
    },
    {
     "name": "stdout",
     "output_type": "stream",
     "text": [
      "Metrics: Precision=0.8950, Recall=0.8853, F1=0.8902, Exact Match=0.7446\n",
      "\n",
      "======== Running Experiment 6/32 ========\n",
      "\n",
      "==================================================\n",
      "Training model: indobenchmark/indobert-base-p1 with params: {'learning_rate': 0.0001, 'batch_size': 32, 'epochs': 5}\n",
      "==================================================\n"
     ]
    },
    {
     "name": "stderr",
     "output_type": "stream",
     "text": [
      "Some weights of BertForTokenClassification were not initialized from the model checkpoint at indobenchmark/indobert-base-p1 and are newly initialized: ['classifier.bias', 'classifier.weight']\n",
      "You should probably TRAIN this model on a down-stream task to be able to use it for predictions and inference.\n"
     ]
    },
    {
     "name": "stdout",
     "output_type": "stream",
     "text": [
      "Preparing train dataset...\n",
      "Preparing test dataset...\n",
      "Preparing dev dataset...\n",
      "Training on cuda\n",
      "\n",
      "Epoch 1/5\n"
     ]
    },
    {
     "name": "stderr",
     "output_type": "stream",
     "text": [
      "Training: 100%|██████████| 46/46 [00:17<00:00,  2.62it/s, loss=0.534]\n"
     ]
    },
    {
     "name": "stdout",
     "output_type": "stream",
     "text": [
      "Average training loss: 1.1982\n"
     ]
    },
    {
     "name": "stderr",
     "output_type": "stream",
     "text": [
      "Evaluating: 100%|██████████| 12/12 [00:01<00:00,  9.68it/s]\n"
     ]
    },
    {
     "name": "stdout",
     "output_type": "stream",
     "text": [
      "New best F1: 0.1427 - Saving model\n",
      "Validation Metrics: Precision=0.3541, Recall=0.0894, F1=0.1427, Exact Match= 0.2997\n",
      "\n",
      "Epoch 2/5\n"
     ]
    },
    {
     "name": "stderr",
     "output_type": "stream",
     "text": [
      "Training: 100%|██████████| 46/46 [00:17<00:00,  2.62it/s, loss=0.244]\n"
     ]
    },
    {
     "name": "stdout",
     "output_type": "stream",
     "text": [
      "Average training loss: 0.2993\n"
     ]
    },
    {
     "name": "stderr",
     "output_type": "stream",
     "text": [
      "Evaluating: 100%|██████████| 12/12 [00:01<00:00,  9.66it/s]\n"
     ]
    },
    {
     "name": "stdout",
     "output_type": "stream",
     "text": [
      "New best F1: 0.6067 - Saving model\n",
      "Validation Metrics: Precision=0.5837, Recall=0.6316, F1=0.6067, Exact Match= 0.5422\n",
      "\n",
      "Epoch 3/5\n"
     ]
    },
    {
     "name": "stderr",
     "output_type": "stream",
     "text": [
      "Training: 100%|██████████| 46/46 [00:17<00:00,  2.62it/s, loss=0.0666]\n"
     ]
    },
    {
     "name": "stdout",
     "output_type": "stream",
     "text": [
      "Average training loss: 0.1260\n"
     ]
    },
    {
     "name": "stderr",
     "output_type": "stream",
     "text": [
      "Evaluating: 100%|██████████| 12/12 [00:01<00:00,  9.64it/s]\n"
     ]
    },
    {
     "name": "stdout",
     "output_type": "stream",
     "text": [
      "New best F1: 0.7679 - Saving model\n",
      "Validation Metrics: Precision=0.7854, Recall=0.7512, F1=0.7679, Exact Match= 0.6621\n",
      "\n",
      "Epoch 4/5\n"
     ]
    },
    {
     "name": "stderr",
     "output_type": "stream",
     "text": [
      "Training: 100%|██████████| 46/46 [00:17<00:00,  2.62it/s, loss=0.0653]\n"
     ]
    },
    {
     "name": "stdout",
     "output_type": "stream",
     "text": [
      "Average training loss: 0.0590\n"
     ]
    },
    {
     "name": "stderr",
     "output_type": "stream",
     "text": [
      "Evaluating: 100%|██████████| 12/12 [00:01<00:00,  9.64it/s]\n"
     ]
    },
    {
     "name": "stdout",
     "output_type": "stream",
     "text": [
      "New best F1: 0.8379 - Saving model\n",
      "Validation Metrics: Precision=0.8127, Recall=0.8647, F1=0.8379, Exact Match= 0.7629\n",
      "\n",
      "Epoch 5/5\n"
     ]
    },
    {
     "name": "stderr",
     "output_type": "stream",
     "text": [
      "Training: 100%|██████████| 46/46 [00:17<00:00,  2.62it/s, loss=0.00474]\n"
     ]
    },
    {
     "name": "stdout",
     "output_type": "stream",
     "text": [
      "Average training loss: 0.0313\n"
     ]
    },
    {
     "name": "stderr",
     "output_type": "stream",
     "text": [
      "Evaluating: 100%|██████████| 12/12 [00:01<00:00,  9.67it/s]\n"
     ]
    },
    {
     "name": "stdout",
     "output_type": "stream",
     "text": [
      "Validation Metrics: Precision=0.7996, Recall=0.8671, F1=0.8320, Exact Match= 0.7275\n",
      "\n",
      "Evaluating bert_lr0.0001_bs32_ep5 on test set...\n"
     ]
    },
    {
     "name": "stderr",
     "output_type": "stream",
     "text": [
      "Evaluating: 100%|██████████| 16/16 [00:01<00:00,  9.26it/s]\n"
     ]
    },
    {
     "name": "stdout",
     "output_type": "stream",
     "text": [
      "Metrics: Precision=0.9084, Recall=0.9327, F1=0.9204, Exact Match=0.8075\n",
      "New best model saved for bert at models/best_bert.pt\n",
      "\n",
      "==================================================\n",
      "Training model: xlm-roberta-base with params: {'learning_rate': 0.0001, 'batch_size': 32, 'epochs': 5}\n",
      "==================================================\n"
     ]
    },
    {
     "name": "stderr",
     "output_type": "stream",
     "text": [
      "Some weights of XLMRobertaForTokenClassification were not initialized from the model checkpoint at xlm-roberta-base and are newly initialized: ['classifier.bias', 'classifier.weight']\n",
      "You should probably TRAIN this model on a down-stream task to be able to use it for predictions and inference.\n"
     ]
    },
    {
     "name": "stdout",
     "output_type": "stream",
     "text": [
      "Preparing train dataset...\n",
      "Preparing test dataset...\n",
      "Preparing dev dataset...\n",
      "Training on cuda\n",
      "\n",
      "Epoch 1/5\n"
     ]
    },
    {
     "name": "stderr",
     "output_type": "stream",
     "text": [
      "Training: 100%|██████████| 46/46 [00:18<00:00,  2.45it/s, loss=0.519]\n"
     ]
    },
    {
     "name": "stdout",
     "output_type": "stream",
     "text": [
      "Average training loss: 1.5320\n"
     ]
    },
    {
     "name": "stderr",
     "output_type": "stream",
     "text": [
      "Evaluating: 100%|██████████| 12/12 [00:01<00:00,  9.63it/s]\n"
     ]
    },
    {
     "name": "stdout",
     "output_type": "stream",
     "text": [
      "Validation Metrics: Precision=0.0000, Recall=0.0000, F1=0.0000, Exact Match= 0.3106\n",
      "\n",
      "Epoch 2/5\n"
     ]
    },
    {
     "name": "stderr",
     "output_type": "stream",
     "text": [
      "Training: 100%|██████████| 46/46 [00:18<00:00,  2.46it/s, loss=0.243]\n"
     ]
    },
    {
     "name": "stdout",
     "output_type": "stream",
     "text": [
      "Average training loss: 0.4971\n"
     ]
    },
    {
     "name": "stderr",
     "output_type": "stream",
     "text": [
      "Evaluating: 100%|██████████| 12/12 [00:01<00:00,  9.65it/s]\n"
     ]
    },
    {
     "name": "stdout",
     "output_type": "stream",
     "text": [
      "New best F1: 0.3713 - Saving model\n",
      "Validation Metrics: Precision=0.3839, Recall=0.3595, F1=0.3713, Exact Match= 0.3787\n",
      "\n",
      "Epoch 3/5\n"
     ]
    },
    {
     "name": "stderr",
     "output_type": "stream",
     "text": [
      "Training: 100%|██████████| 46/46 [00:18<00:00,  2.45it/s, loss=0.119]\n"
     ]
    },
    {
     "name": "stdout",
     "output_type": "stream",
     "text": [
      "Average training loss: 0.2305\n"
     ]
    },
    {
     "name": "stderr",
     "output_type": "stream",
     "text": [
      "Evaluating: 100%|██████████| 12/12 [00:01<00:00,  9.64it/s]\n"
     ]
    },
    {
     "name": "stdout",
     "output_type": "stream",
     "text": [
      "New best F1: 0.6819 - Saving model\n",
      "Validation Metrics: Precision=0.6343, Recall=0.7372, F1=0.6819, Exact Match= 0.5531\n",
      "\n",
      "Epoch 4/5\n"
     ]
    },
    {
     "name": "stderr",
     "output_type": "stream",
     "text": [
      "Training: 100%|██████████| 46/46 [00:18<00:00,  2.46it/s, loss=0.102] \n"
     ]
    },
    {
     "name": "stdout",
     "output_type": "stream",
     "text": [
      "Average training loss: 0.1120\n"
     ]
    },
    {
     "name": "stderr",
     "output_type": "stream",
     "text": [
      "Evaluating: 100%|██████████| 12/12 [00:01<00:00,  9.63it/s]\n"
     ]
    },
    {
     "name": "stdout",
     "output_type": "stream",
     "text": [
      "New best F1: 0.8262 - Saving model\n",
      "Validation Metrics: Precision=0.7976, Recall=0.8570, F1=0.8262, Exact Match= 0.7003\n",
      "\n",
      "Epoch 5/5\n"
     ]
    },
    {
     "name": "stderr",
     "output_type": "stream",
     "text": [
      "Training: 100%|██████████| 46/46 [00:18<00:00,  2.45it/s, loss=0.0764]\n"
     ]
    },
    {
     "name": "stdout",
     "output_type": "stream",
     "text": [
      "Average training loss: 0.0646\n"
     ]
    },
    {
     "name": "stderr",
     "output_type": "stream",
     "text": [
      "Evaluating: 100%|██████████| 12/12 [00:01<00:00,  9.64it/s]\n"
     ]
    },
    {
     "name": "stdout",
     "output_type": "stream",
     "text": [
      "New best F1: 0.8573 - Saving model\n",
      "Validation Metrics: Precision=0.8439, Recall=0.8711, F1=0.8573, Exact Match= 0.7302\n",
      "\n",
      "Evaluating xlm-roberta_lr0.0001_bs32_ep5 on test set...\n"
     ]
    },
    {
     "name": "stderr",
     "output_type": "stream",
     "text": [
      "Evaluating: 100%|██████████| 16/16 [00:01<00:00,  9.22it/s]\n"
     ]
    },
    {
     "name": "stdout",
     "output_type": "stream",
     "text": [
      "Metrics: Precision=0.9087, Recall=0.9087, F1=0.9087, Exact Match=0.7917\n",
      "\n",
      "==================================================\n",
      "Training model: cahya/xlm-roberta-base-indonesian-NER with params: {'learning_rate': 0.0001, 'batch_size': 32, 'epochs': 5}\n",
      "==================================================\n"
     ]
    },
    {
     "name": "stderr",
     "output_type": "stream",
     "text": [
      "Some weights of the model checkpoint at cahya/xlm-roberta-base-indonesian-NER were not used when initializing XLMRobertaForTokenClassification: ['roberta.pooler.dense.bias', 'roberta.pooler.dense.weight']\n",
      "- This IS expected if you are initializing XLMRobertaForTokenClassification from the checkpoint of a model trained on another task or with another architecture (e.g. initializing a BertForSequenceClassification model from a BertForPreTraining model).\n",
      "- This IS NOT expected if you are initializing XLMRobertaForTokenClassification from the checkpoint of a model that you expect to be exactly identical (initializing a BertForSequenceClassification model from a BertForSequenceClassification model).\n",
      "Some weights of XLMRobertaForTokenClassification were not initialized from the model checkpoint at cahya/xlm-roberta-base-indonesian-NER and are newly initialized because the shapes did not match:\n",
      "- classifier.bias: found shape torch.Size([39]) in the checkpoint and torch.Size([7]) in the model instantiated\n",
      "- classifier.weight: found shape torch.Size([39, 768]) in the checkpoint and torch.Size([7, 768]) in the model instantiated\n",
      "You should probably TRAIN this model on a down-stream task to be able to use it for predictions and inference.\n"
     ]
    },
    {
     "name": "stdout",
     "output_type": "stream",
     "text": [
      "Preparing train dataset...\n",
      "Preparing test dataset...\n",
      "Preparing dev dataset...\n",
      "Training on cuda\n",
      "\n",
      "Epoch 1/5\n"
     ]
    },
    {
     "name": "stderr",
     "output_type": "stream",
     "text": [
      "Training: 100%|██████████| 46/46 [00:18<00:00,  2.46it/s, loss=0.473]\n"
     ]
    },
    {
     "name": "stdout",
     "output_type": "stream",
     "text": [
      "Average training loss: 1.2220\n"
     ]
    },
    {
     "name": "stderr",
     "output_type": "stream",
     "text": [
      "Evaluating: 100%|██████████| 12/12 [00:01<00:00,  9.64it/s]\n"
     ]
    },
    {
     "name": "stdout",
     "output_type": "stream",
     "text": [
      "New best F1: 0.3590 - Saving model\n",
      "Validation Metrics: Precision=0.4069, Recall=0.3212, F1=0.3590, Exact Match= 0.3869\n",
      "\n",
      "Epoch 2/5\n"
     ]
    },
    {
     "name": "stderr",
     "output_type": "stream",
     "text": [
      "Training: 100%|██████████| 46/46 [00:18<00:00,  2.45it/s, loss=0.14] \n"
     ]
    },
    {
     "name": "stdout",
     "output_type": "stream",
     "text": [
      "Average training loss: 0.2624\n"
     ]
    },
    {
     "name": "stderr",
     "output_type": "stream",
     "text": [
      "Evaluating: 100%|██████████| 12/12 [00:01<00:00,  9.65it/s]\n"
     ]
    },
    {
     "name": "stdout",
     "output_type": "stream",
     "text": [
      "New best F1: 0.6736 - Saving model\n",
      "Validation Metrics: Precision=0.6351, Recall=0.7170, F1=0.6736, Exact Match= 0.5477\n",
      "\n",
      "Epoch 3/5\n"
     ]
    },
    {
     "name": "stderr",
     "output_type": "stream",
     "text": [
      "Training: 100%|██████████| 46/46 [00:18<00:00,  2.46it/s, loss=0.0846]\n"
     ]
    },
    {
     "name": "stdout",
     "output_type": "stream",
     "text": [
      "Average training loss: 0.1241\n"
     ]
    },
    {
     "name": "stderr",
     "output_type": "stream",
     "text": [
      "Evaluating: 100%|██████████| 12/12 [00:01<00:00,  9.63it/s]\n"
     ]
    },
    {
     "name": "stdout",
     "output_type": "stream",
     "text": [
      "New best F1: 0.8412 - Saving model\n",
      "Validation Metrics: Precision=0.8268, Recall=0.8560, F1=0.8412, Exact Match= 0.7357\n",
      "\n",
      "Epoch 4/5\n"
     ]
    },
    {
     "name": "stderr",
     "output_type": "stream",
     "text": [
      "Training: 100%|██████████| 46/46 [00:18<00:00,  2.45it/s, loss=0.064] \n"
     ]
    },
    {
     "name": "stdout",
     "output_type": "stream",
     "text": [
      "Average training loss: 0.0731\n"
     ]
    },
    {
     "name": "stderr",
     "output_type": "stream",
     "text": [
      "Evaluating: 100%|██████████| 12/12 [00:01<00:00,  9.65it/s]\n"
     ]
    },
    {
     "name": "stdout",
     "output_type": "stream",
     "text": [
      "New best F1: 0.8819 - Saving model\n",
      "Validation Metrics: Precision=0.8805, Recall=0.8832, F1=0.8819, Exact Match= 0.7875\n",
      "\n",
      "Epoch 5/5\n"
     ]
    },
    {
     "name": "stderr",
     "output_type": "stream",
     "text": [
      "Training: 100%|██████████| 46/46 [00:18<00:00,  2.46it/s, loss=0.0372]\n"
     ]
    },
    {
     "name": "stdout",
     "output_type": "stream",
     "text": [
      "Average training loss: 0.0498\n"
     ]
    },
    {
     "name": "stderr",
     "output_type": "stream",
     "text": [
      "Evaluating: 100%|██████████| 12/12 [00:01<00:00,  9.64it/s]\n"
     ]
    },
    {
     "name": "stdout",
     "output_type": "stream",
     "text": [
      "New best F1: 0.8966 - Saving model\n",
      "Validation Metrics: Precision=0.8813, Recall=0.9124, F1=0.8966, Exact Match= 0.7847\n",
      "\n",
      "Evaluating xlm-roberta_lr0.0001_bs32_ep5 on test set...\n"
     ]
    },
    {
     "name": "stderr",
     "output_type": "stream",
     "text": [
      "Evaluating: 100%|██████████| 16/16 [00:01<00:00,  9.16it/s]\n"
     ]
    },
    {
     "name": "stdout",
     "output_type": "stream",
     "text": [
      "Metrics: Precision=0.9223, Recall=0.9213, F1=0.9218, Exact Match=0.8212\n",
      "\n",
      "======== Running Experiment 7/32 ========\n",
      "\n",
      "==================================================\n",
      "Training model: indobenchmark/indobert-base-p1 with params: {'learning_rate': 0.0001, 'batch_size': 32, 'epochs': 10}\n",
      "==================================================\n"
     ]
    },
    {
     "name": "stderr",
     "output_type": "stream",
     "text": [
      "Some weights of BertForTokenClassification were not initialized from the model checkpoint at indobenchmark/indobert-base-p1 and are newly initialized: ['classifier.bias', 'classifier.weight']\n",
      "You should probably TRAIN this model on a down-stream task to be able to use it for predictions and inference.\n"
     ]
    },
    {
     "name": "stdout",
     "output_type": "stream",
     "text": [
      "Preparing train dataset...\n",
      "Preparing test dataset...\n",
      "Preparing dev dataset...\n",
      "Training on cuda\n",
      "\n",
      "Epoch 1/10\n"
     ]
    },
    {
     "name": "stderr",
     "output_type": "stream",
     "text": [
      "Training: 100%|██████████| 46/46 [00:17<00:00,  2.62it/s, loss=0.45] \n"
     ]
    },
    {
     "name": "stdout",
     "output_type": "stream",
     "text": [
      "Average training loss: 1.1472\n"
     ]
    },
    {
     "name": "stderr",
     "output_type": "stream",
     "text": [
      "Evaluating: 100%|██████████| 12/12 [00:01<00:00,  9.68it/s]\n"
     ]
    },
    {
     "name": "stdout",
     "output_type": "stream",
     "text": [
      "New best F1: 0.1908 - Saving model\n",
      "Validation Metrics: Precision=0.3746, Recall=0.1280, F1=0.1908, Exact Match= 0.2970\n",
      "\n",
      "Epoch 2/10\n"
     ]
    },
    {
     "name": "stderr",
     "output_type": "stream",
     "text": [
      "Training: 100%|██████████| 46/46 [00:17<00:00,  2.62it/s, loss=0.216]\n"
     ]
    },
    {
     "name": "stdout",
     "output_type": "stream",
     "text": [
      "Average training loss: 0.3020\n"
     ]
    },
    {
     "name": "stderr",
     "output_type": "stream",
     "text": [
      "Evaluating: 100%|██████████| 12/12 [00:01<00:00,  9.65it/s]\n"
     ]
    },
    {
     "name": "stdout",
     "output_type": "stream",
     "text": [
      "New best F1: 0.5740 - Saving model\n",
      "Validation Metrics: Precision=0.5320, Recall=0.6232, F1=0.5740, Exact Match= 0.4959\n",
      "\n",
      "Epoch 3/10\n"
     ]
    },
    {
     "name": "stderr",
     "output_type": "stream",
     "text": [
      "Training: 100%|██████████| 46/46 [00:17<00:00,  2.62it/s, loss=0.15]  \n"
     ]
    },
    {
     "name": "stdout",
     "output_type": "stream",
     "text": [
      "Average training loss: 0.1290\n"
     ]
    },
    {
     "name": "stderr",
     "output_type": "stream",
     "text": [
      "Evaluating: 100%|██████████| 12/12 [00:01<00:00,  9.66it/s]\n"
     ]
    },
    {
     "name": "stdout",
     "output_type": "stream",
     "text": [
      "New best F1: 0.7814 - Saving model\n",
      "Validation Metrics: Precision=0.7462, Recall=0.8200, F1=0.7814, Exact Match= 0.6839\n",
      "\n",
      "Epoch 4/10\n"
     ]
    },
    {
     "name": "stderr",
     "output_type": "stream",
     "text": [
      "Training: 100%|██████████| 46/46 [00:17<00:00,  2.62it/s, loss=0.0445]\n"
     ]
    },
    {
     "name": "stdout",
     "output_type": "stream",
     "text": [
      "Average training loss: 0.0642\n"
     ]
    },
    {
     "name": "stderr",
     "output_type": "stream",
     "text": [
      "Evaluating: 100%|██████████| 12/12 [00:01<00:00,  9.65it/s]\n"
     ]
    },
    {
     "name": "stdout",
     "output_type": "stream",
     "text": [
      "New best F1: 0.8230 - Saving model\n",
      "Validation Metrics: Precision=0.7851, Recall=0.8647, F1=0.8230, Exact Match= 0.7193\n",
      "\n",
      "Epoch 5/10\n"
     ]
    },
    {
     "name": "stderr",
     "output_type": "stream",
     "text": [
      "Training: 100%|██████████| 46/46 [00:17<00:00,  2.62it/s, loss=0.0136] \n"
     ]
    },
    {
     "name": "stdout",
     "output_type": "stream",
     "text": [
      "Average training loss: 0.0353\n"
     ]
    },
    {
     "name": "stderr",
     "output_type": "stream",
     "text": [
      "Evaluating: 100%|██████████| 12/12 [00:01<00:00,  9.66it/s]\n"
     ]
    },
    {
     "name": "stdout",
     "output_type": "stream",
     "text": [
      "Validation Metrics: Precision=0.7822, Recall=0.8587, F1=0.8187, Exact Match= 0.6866\n",
      "\n",
      "Epoch 6/10\n"
     ]
    },
    {
     "name": "stderr",
     "output_type": "stream",
     "text": [
      "Training: 100%|██████████| 46/46 [00:17<00:00,  2.62it/s, loss=0.0242] \n"
     ]
    },
    {
     "name": "stdout",
     "output_type": "stream",
     "text": [
      "Average training loss: 0.0236\n"
     ]
    },
    {
     "name": "stderr",
     "output_type": "stream",
     "text": [
      "Evaluating: 100%|██████████| 12/12 [00:01<00:00,  9.67it/s]\n"
     ]
    },
    {
     "name": "stdout",
     "output_type": "stream",
     "text": [
      "New best F1: 0.8393 - Saving model\n",
      "Validation Metrics: Precision=0.8131, Recall=0.8671, F1=0.8393, Exact Match= 0.7575\n",
      "\n",
      "Epoch 7/10\n"
     ]
    },
    {
     "name": "stderr",
     "output_type": "stream",
     "text": [
      "Training: 100%|██████████| 46/46 [00:17<00:00,  2.62it/s, loss=0.0446] \n"
     ]
    },
    {
     "name": "stdout",
     "output_type": "stream",
     "text": [
      "Average training loss: 0.0125\n"
     ]
    },
    {
     "name": "stderr",
     "output_type": "stream",
     "text": [
      "Evaluating: 100%|██████████| 12/12 [00:01<00:00,  9.70it/s]\n"
     ]
    },
    {
     "name": "stdout",
     "output_type": "stream",
     "text": [
      "Validation Metrics: Precision=0.8119, Recall=0.8599, F1=0.8352, Exact Match= 0.7629\n",
      "\n",
      "Epoch 8/10\n"
     ]
    },
    {
     "name": "stderr",
     "output_type": "stream",
     "text": [
      "Training: 100%|██████████| 46/46 [00:17<00:00,  2.62it/s, loss=0.00546]\n"
     ]
    },
    {
     "name": "stdout",
     "output_type": "stream",
     "text": [
      "Average training loss: 0.0109\n"
     ]
    },
    {
     "name": "stderr",
     "output_type": "stream",
     "text": [
      "Evaluating: 100%|██████████| 12/12 [00:01<00:00,  9.69it/s]\n"
     ]
    },
    {
     "name": "stdout",
     "output_type": "stream",
     "text": [
      "Validation Metrics: Precision=0.8020, Recall=0.8756, F1=0.8372, Exact Match= 0.7548\n",
      "\n",
      "Epoch 9/10\n"
     ]
    },
    {
     "name": "stderr",
     "output_type": "stream",
     "text": [
      "Training: 100%|██████████| 46/46 [00:17<00:00,  2.62it/s, loss=0.00965]\n"
     ]
    },
    {
     "name": "stdout",
     "output_type": "stream",
     "text": [
      "Average training loss: 0.0109\n"
     ]
    },
    {
     "name": "stderr",
     "output_type": "stream",
     "text": [
      "Evaluating: 100%|██████████| 12/12 [00:01<00:00,  9.68it/s]\n"
     ]
    },
    {
     "name": "stdout",
     "output_type": "stream",
     "text": [
      "New best F1: 0.8472 - Saving model\n",
      "Validation Metrics: Precision=0.8407, Recall=0.8539, F1=0.8472, Exact Match= 0.7357\n",
      "\n",
      "Epoch 10/10\n"
     ]
    },
    {
     "name": "stderr",
     "output_type": "stream",
     "text": [
      "Training: 100%|██████████| 46/46 [00:17<00:00,  2.62it/s, loss=0.0198] \n"
     ]
    },
    {
     "name": "stdout",
     "output_type": "stream",
     "text": [
      "Average training loss: 0.0175\n"
     ]
    },
    {
     "name": "stderr",
     "output_type": "stream",
     "text": [
      "Evaluating: 100%|██████████| 12/12 [00:01<00:00,  9.69it/s]\n"
     ]
    },
    {
     "name": "stdout",
     "output_type": "stream",
     "text": [
      "Validation Metrics: Precision=0.7871, Recall=0.7814, F1=0.7842, Exact Match= 0.6975\n",
      "\n",
      "Evaluating bert_lr0.0001_bs32_ep10 on test set...\n"
     ]
    },
    {
     "name": "stderr",
     "output_type": "stream",
     "text": [
      "Evaluating: 100%|██████████| 16/16 [00:01<00:00,  9.25it/s]\n"
     ]
    },
    {
     "name": "stdout",
     "output_type": "stream",
     "text": [
      "Metrics: Precision=0.8797, Recall=0.8784, F1=0.8791, Exact Match=0.7485\n",
      "\n",
      "==================================================\n",
      "Training model: xlm-roberta-base with params: {'learning_rate': 0.0001, 'batch_size': 32, 'epochs': 10}\n",
      "==================================================\n"
     ]
    },
    {
     "name": "stderr",
     "output_type": "stream",
     "text": [
      "Some weights of XLMRobertaForTokenClassification were not initialized from the model checkpoint at xlm-roberta-base and are newly initialized: ['classifier.bias', 'classifier.weight']\n",
      "You should probably TRAIN this model on a down-stream task to be able to use it for predictions and inference.\n"
     ]
    },
    {
     "name": "stdout",
     "output_type": "stream",
     "text": [
      "Preparing train dataset...\n",
      "Preparing test dataset...\n",
      "Preparing dev dataset...\n",
      "Training on cuda\n",
      "\n",
      "Epoch 1/10\n"
     ]
    },
    {
     "name": "stderr",
     "output_type": "stream",
     "text": [
      "Training: 100%|██████████| 46/46 [00:18<00:00,  2.45it/s, loss=0.815]\n"
     ]
    },
    {
     "name": "stdout",
     "output_type": "stream",
     "text": [
      "Average training loss: 1.8504\n"
     ]
    },
    {
     "name": "stderr",
     "output_type": "stream",
     "text": [
      "Evaluating: 100%|██████████| 12/12 [00:01<00:00,  9.63it/s]\n"
     ]
    },
    {
     "name": "stdout",
     "output_type": "stream",
     "text": [
      "Validation Metrics: Precision=0.0000, Recall=0.0000, F1=0.0000, Exact Match= 0.3106\n",
      "\n",
      "Epoch 2/10\n"
     ]
    },
    {
     "name": "stderr",
     "output_type": "stream",
     "text": [
      "Training: 100%|██████████| 46/46 [00:18<00:00,  2.45it/s, loss=0.337]\n"
     ]
    },
    {
     "name": "stdout",
     "output_type": "stream",
     "text": [
      "Average training loss: 0.4690\n"
     ]
    },
    {
     "name": "stderr",
     "output_type": "stream",
     "text": [
      "Evaluating: 100%|██████████| 12/12 [00:01<00:00,  9.65it/s]\n"
     ]
    },
    {
     "name": "stdout",
     "output_type": "stream",
     "text": [
      "New best F1: 0.3012 - Saving model\n",
      "Validation Metrics: Precision=0.3194, Recall=0.2850, F1=0.3012, Exact Match= 0.3351\n",
      "\n",
      "Epoch 3/10\n"
     ]
    },
    {
     "name": "stderr",
     "output_type": "stream",
     "text": [
      "Training: 100%|██████████| 46/46 [00:18<00:00,  2.46it/s, loss=0.211]\n"
     ]
    },
    {
     "name": "stdout",
     "output_type": "stream",
     "text": [
      "Average training loss: 0.2453\n"
     ]
    },
    {
     "name": "stderr",
     "output_type": "stream",
     "text": [
      "Evaluating: 100%|██████████| 12/12 [00:01<00:00,  9.64it/s]\n"
     ]
    },
    {
     "name": "stdout",
     "output_type": "stream",
     "text": [
      "New best F1: 0.6705 - Saving model\n",
      "Validation Metrics: Precision=0.6410, Recall=0.7029, F1=0.6705, Exact Match= 0.5422\n",
      "\n",
      "Epoch 4/10\n"
     ]
    },
    {
     "name": "stderr",
     "output_type": "stream",
     "text": [
      "Training: 100%|██████████| 46/46 [00:18<00:00,  2.45it/s, loss=0.0937]\n"
     ]
    },
    {
     "name": "stdout",
     "output_type": "stream",
     "text": [
      "Average training loss: 0.1106\n"
     ]
    },
    {
     "name": "stderr",
     "output_type": "stream",
     "text": [
      "Evaluating: 100%|██████████| 12/12 [00:01<00:00,  9.64it/s]\n"
     ]
    },
    {
     "name": "stdout",
     "output_type": "stream",
     "text": [
      "New best F1: 0.8395 - Saving model\n",
      "Validation Metrics: Precision=0.8362, Recall=0.8429, F1=0.8395, Exact Match= 0.7084\n",
      "\n",
      "Epoch 5/10\n"
     ]
    },
    {
     "name": "stderr",
     "output_type": "stream",
     "text": [
      "Training: 100%|██████████| 46/46 [00:18<00:00,  2.46it/s, loss=0.0425]\n"
     ]
    },
    {
     "name": "stdout",
     "output_type": "stream",
     "text": [
      "Average training loss: 0.0660\n"
     ]
    },
    {
     "name": "stderr",
     "output_type": "stream",
     "text": [
      "Evaluating: 100%|██████████| 12/12 [00:01<00:00,  9.64it/s]\n"
     ]
    },
    {
     "name": "stdout",
     "output_type": "stream",
     "text": [
      "New best F1: 0.8741 - Saving model\n",
      "Validation Metrics: Precision=0.8780, Recall=0.8701, F1=0.8741, Exact Match= 0.7902\n",
      "\n",
      "Epoch 6/10\n"
     ]
    },
    {
     "name": "stderr",
     "output_type": "stream",
     "text": [
      "Training: 100%|██████████| 46/46 [00:18<00:00,  2.45it/s, loss=0.0691] \n"
     ]
    },
    {
     "name": "stdout",
     "output_type": "stream",
     "text": [
      "Average training loss: 0.0488\n"
     ]
    },
    {
     "name": "stderr",
     "output_type": "stream",
     "text": [
      "Evaluating: 100%|██████████| 12/12 [00:01<00:00,  9.65it/s]\n"
     ]
    },
    {
     "name": "stdout",
     "output_type": "stream",
     "text": [
      "New best F1: 0.8811 - Saving model\n",
      "Validation Metrics: Precision=0.8852, Recall=0.8771, F1=0.8811, Exact Match= 0.7793\n",
      "\n",
      "Epoch 7/10\n"
     ]
    },
    {
     "name": "stderr",
     "output_type": "stream",
     "text": [
      "Training: 100%|██████████| 46/46 [00:18<00:00,  2.46it/s, loss=0.0357] \n"
     ]
    },
    {
     "name": "stdout",
     "output_type": "stream",
     "text": [
      "Average training loss: 0.0321\n"
     ]
    },
    {
     "name": "stderr",
     "output_type": "stream",
     "text": [
      "Evaluating: 100%|██████████| 12/12 [00:01<00:00,  9.62it/s]\n"
     ]
    },
    {
     "name": "stdout",
     "output_type": "stream",
     "text": [
      "New best F1: 0.8898 - Saving model\n",
      "Validation Metrics: Precision=0.8814, Recall=0.8983, F1=0.8898, Exact Match= 0.7820\n",
      "\n",
      "Epoch 8/10\n"
     ]
    },
    {
     "name": "stderr",
     "output_type": "stream",
     "text": [
      "Training: 100%|██████████| 46/46 [00:18<00:00,  2.45it/s, loss=0.0354] \n"
     ]
    },
    {
     "name": "stdout",
     "output_type": "stream",
     "text": [
      "Average training loss: 0.0269\n"
     ]
    },
    {
     "name": "stderr",
     "output_type": "stream",
     "text": [
      "Evaluating: 100%|██████████| 12/12 [00:01<00:00,  9.65it/s]\n"
     ]
    },
    {
     "name": "stdout",
     "output_type": "stream",
     "text": [
      "New best F1: 0.8911 - Saving model\n",
      "Validation Metrics: Precision=0.9098, Recall=0.8731, F1=0.8911, Exact Match= 0.7847\n",
      "\n",
      "Epoch 9/10\n"
     ]
    },
    {
     "name": "stderr",
     "output_type": "stream",
     "text": [
      "Training: 100%|██████████| 46/46 [00:18<00:00,  2.45it/s, loss=0.0494] \n"
     ]
    },
    {
     "name": "stdout",
     "output_type": "stream",
     "text": [
      "Average training loss: 0.0288\n"
     ]
    },
    {
     "name": "stderr",
     "output_type": "stream",
     "text": [
      "Evaluating: 100%|██████████| 12/12 [00:01<00:00,  9.65it/s]\n"
     ]
    },
    {
     "name": "stdout",
     "output_type": "stream",
     "text": [
      "New best F1: 0.8951 - Saving model\n",
      "Validation Metrics: Precision=0.8880, Recall=0.9023, F1=0.8951, Exact Match= 0.7820\n",
      "\n",
      "Epoch 10/10\n"
     ]
    },
    {
     "name": "stderr",
     "output_type": "stream",
     "text": [
      "Training: 100%|██████████| 46/46 [00:18<00:00,  2.45it/s, loss=0.0558] \n"
     ]
    },
    {
     "name": "stdout",
     "output_type": "stream",
     "text": [
      "Average training loss: 0.0220\n"
     ]
    },
    {
     "name": "stderr",
     "output_type": "stream",
     "text": [
      "Evaluating: 100%|██████████| 12/12 [00:01<00:00,  9.65it/s]\n"
     ]
    },
    {
     "name": "stdout",
     "output_type": "stream",
     "text": [
      "Validation Metrics: Precision=0.8951, Recall=0.8761, F1=0.8855, Exact Match= 0.7738\n",
      "\n",
      "Evaluating xlm-roberta_lr0.0001_bs32_ep10 on test set...\n"
     ]
    },
    {
     "name": "stderr",
     "output_type": "stream",
     "text": [
      "Evaluating: 100%|██████████| 16/16 [00:01<00:00,  9.26it/s]\n"
     ]
    },
    {
     "name": "stdout",
     "output_type": "stream",
     "text": [
      "Metrics: Precision=0.9397, Recall=0.9161, F1=0.9278, Exact Match=0.8330\n",
      "\n",
      "==================================================\n",
      "Training model: cahya/xlm-roberta-base-indonesian-NER with params: {'learning_rate': 0.0001, 'batch_size': 32, 'epochs': 10}\n",
      "==================================================\n"
     ]
    },
    {
     "name": "stderr",
     "output_type": "stream",
     "text": [
      "Some weights of the model checkpoint at cahya/xlm-roberta-base-indonesian-NER were not used when initializing XLMRobertaForTokenClassification: ['roberta.pooler.dense.bias', 'roberta.pooler.dense.weight']\n",
      "- This IS expected if you are initializing XLMRobertaForTokenClassification from the checkpoint of a model trained on another task or with another architecture (e.g. initializing a BertForSequenceClassification model from a BertForPreTraining model).\n",
      "- This IS NOT expected if you are initializing XLMRobertaForTokenClassification from the checkpoint of a model that you expect to be exactly identical (initializing a BertForSequenceClassification model from a BertForSequenceClassification model).\n",
      "Some weights of XLMRobertaForTokenClassification were not initialized from the model checkpoint at cahya/xlm-roberta-base-indonesian-NER and are newly initialized because the shapes did not match:\n",
      "- classifier.bias: found shape torch.Size([39]) in the checkpoint and torch.Size([7]) in the model instantiated\n",
      "- classifier.weight: found shape torch.Size([39, 768]) in the checkpoint and torch.Size([7, 768]) in the model instantiated\n",
      "You should probably TRAIN this model on a down-stream task to be able to use it for predictions and inference.\n"
     ]
    },
    {
     "name": "stdout",
     "output_type": "stream",
     "text": [
      "Preparing train dataset...\n",
      "Preparing test dataset...\n",
      "Preparing dev dataset...\n",
      "Training on cuda\n",
      "\n",
      "Epoch 1/10\n"
     ]
    },
    {
     "name": "stderr",
     "output_type": "stream",
     "text": [
      "Training: 100%|██████████| 46/46 [00:18<00:00,  2.46it/s, loss=0.311]\n"
     ]
    },
    {
     "name": "stdout",
     "output_type": "stream",
     "text": [
      "Average training loss: 0.9437\n"
     ]
    },
    {
     "name": "stderr",
     "output_type": "stream",
     "text": [
      "Evaluating: 100%|██████████| 12/12 [00:01<00:00,  9.55it/s]\n"
     ]
    },
    {
     "name": "stdout",
     "output_type": "stream",
     "text": [
      "New best F1: 0.3711 - Saving model\n",
      "Validation Metrics: Precision=0.6755, Recall=0.2558, F1=0.3711, Exact Match= 0.3869\n",
      "\n",
      "Epoch 2/10\n"
     ]
    },
    {
     "name": "stderr",
     "output_type": "stream",
     "text": [
      "Training: 100%|██████████| 46/46 [00:18<00:00,  2.45it/s, loss=0.118]\n"
     ]
    },
    {
     "name": "stdout",
     "output_type": "stream",
     "text": [
      "Average training loss: 0.2378\n"
     ]
    },
    {
     "name": "stderr",
     "output_type": "stream",
     "text": [
      "Evaluating: 100%|██████████| 12/12 [00:01<00:00,  9.66it/s]\n"
     ]
    },
    {
     "name": "stdout",
     "output_type": "stream",
     "text": [
      "New best F1: 0.7202 - Saving model\n",
      "Validation Metrics: Precision=0.6924, Recall=0.7503, F1=0.7202, Exact Match= 0.5940\n",
      "\n",
      "Epoch 3/10\n"
     ]
    },
    {
     "name": "stderr",
     "output_type": "stream",
     "text": [
      "Training: 100%|██████████| 46/46 [00:18<00:00,  2.45it/s, loss=0.0662]\n"
     ]
    },
    {
     "name": "stdout",
     "output_type": "stream",
     "text": [
      "Average training loss: 0.1169\n"
     ]
    },
    {
     "name": "stderr",
     "output_type": "stream",
     "text": [
      "Evaluating: 100%|██████████| 12/12 [00:01<00:00,  9.63it/s]\n"
     ]
    },
    {
     "name": "stdout",
     "output_type": "stream",
     "text": [
      "New best F1: 0.8584 - Saving model\n",
      "Validation Metrics: Precision=0.8442, Recall=0.8731, F1=0.8584, Exact Match= 0.7302\n",
      "\n",
      "Epoch 4/10\n"
     ]
    },
    {
     "name": "stderr",
     "output_type": "stream",
     "text": [
      "Training: 100%|██████████| 46/46 [00:18<00:00,  2.45it/s, loss=0.0375]\n"
     ]
    },
    {
     "name": "stdout",
     "output_type": "stream",
     "text": [
      "Average training loss: 0.0696\n"
     ]
    },
    {
     "name": "stderr",
     "output_type": "stream",
     "text": [
      "Evaluating: 100%|██████████| 12/12 [00:01<00:00,  9.66it/s]\n"
     ]
    },
    {
     "name": "stdout",
     "output_type": "stream",
     "text": [
      "New best F1: 0.8807 - Saving model\n",
      "Validation Metrics: Precision=0.8557, Recall=0.9074, F1=0.8807, Exact Match= 0.7766\n",
      "\n",
      "Epoch 5/10\n"
     ]
    },
    {
     "name": "stderr",
     "output_type": "stream",
     "text": [
      "Training: 100%|██████████| 46/46 [00:18<00:00,  2.45it/s, loss=0.0876]\n"
     ]
    },
    {
     "name": "stdout",
     "output_type": "stream",
     "text": [
      "Average training loss: 0.0503\n"
     ]
    },
    {
     "name": "stderr",
     "output_type": "stream",
     "text": [
      "Evaluating: 100%|██████████| 12/12 [00:01<00:00,  9.65it/s]\n"
     ]
    },
    {
     "name": "stdout",
     "output_type": "stream",
     "text": [
      "New best F1: 0.8874 - Saving model\n",
      "Validation Metrics: Precision=0.8673, Recall=0.9084, F1=0.8874, Exact Match= 0.7875\n",
      "\n",
      "Epoch 6/10\n"
     ]
    },
    {
     "name": "stderr",
     "output_type": "stream",
     "text": [
      "Training: 100%|██████████| 46/46 [00:18<00:00,  2.45it/s, loss=0.0287]\n"
     ]
    },
    {
     "name": "stdout",
     "output_type": "stream",
     "text": [
      "Average training loss: 0.0382\n"
     ]
    },
    {
     "name": "stderr",
     "output_type": "stream",
     "text": [
      "Evaluating: 100%|██████████| 12/12 [00:01<00:00,  9.65it/s]\n"
     ]
    },
    {
     "name": "stdout",
     "output_type": "stream",
     "text": [
      "New best F1: 0.8895 - Saving model\n",
      "Validation Metrics: Precision=0.8642, Recall=0.9164, F1=0.8895, Exact Match= 0.7929\n",
      "\n",
      "Epoch 7/10\n"
     ]
    },
    {
     "name": "stderr",
     "output_type": "stream",
     "text": [
      "Training: 100%|██████████| 46/46 [00:18<00:00,  2.45it/s, loss=0.0512] \n"
     ]
    },
    {
     "name": "stdout",
     "output_type": "stream",
     "text": [
      "Average training loss: 0.0337\n"
     ]
    },
    {
     "name": "stderr",
     "output_type": "stream",
     "text": [
      "Evaluating: 100%|██████████| 12/12 [00:01<00:00,  9.61it/s]\n"
     ]
    },
    {
     "name": "stdout",
     "output_type": "stream",
     "text": [
      "New best F1: 0.8990 - Saving model\n",
      "Validation Metrics: Precision=0.8803, Recall=0.9184, F1=0.8990, Exact Match= 0.7984\n",
      "\n",
      "Epoch 8/10\n"
     ]
    },
    {
     "name": "stderr",
     "output_type": "stream",
     "text": [
      "Training: 100%|██████████| 46/46 [00:18<00:00,  2.45it/s, loss=0.00599]\n"
     ]
    },
    {
     "name": "stdout",
     "output_type": "stream",
     "text": [
      "Average training loss: 0.0259\n"
     ]
    },
    {
     "name": "stderr",
     "output_type": "stream",
     "text": [
      "Evaluating: 100%|██████████| 12/12 [00:01<00:00,  9.63it/s]\n"
     ]
    },
    {
     "name": "stdout",
     "output_type": "stream",
     "text": [
      "Validation Metrics: Precision=0.8217, Recall=0.9144, F1=0.8656, Exact Match= 0.7711\n",
      "\n",
      "Epoch 9/10\n"
     ]
    },
    {
     "name": "stderr",
     "output_type": "stream",
     "text": [
      "Training: 100%|██████████| 46/46 [00:18<00:00,  2.46it/s, loss=0.0312] \n"
     ]
    },
    {
     "name": "stdout",
     "output_type": "stream",
     "text": [
      "Average training loss: 0.0321\n"
     ]
    },
    {
     "name": "stderr",
     "output_type": "stream",
     "text": [
      "Evaluating: 100%|██████████| 12/12 [00:01<00:00,  9.64it/s]\n"
     ]
    },
    {
     "name": "stdout",
     "output_type": "stream",
     "text": [
      "Validation Metrics: Precision=0.8647, Recall=0.9013, F1=0.8826, Exact Match= 0.7875\n",
      "\n",
      "Epoch 10/10\n"
     ]
    },
    {
     "name": "stderr",
     "output_type": "stream",
     "text": [
      "Training: 100%|██████████| 46/46 [00:18<00:00,  2.46it/s, loss=0.0307]\n"
     ]
    },
    {
     "name": "stdout",
     "output_type": "stream",
     "text": [
      "Average training loss: 0.0467\n"
     ]
    },
    {
     "name": "stderr",
     "output_type": "stream",
     "text": [
      "Evaluating: 100%|██████████| 12/12 [00:01<00:00,  9.70it/s]\n"
     ]
    },
    {
     "name": "stdout",
     "output_type": "stream",
     "text": [
      "Validation Metrics: Precision=0.8671, Recall=0.8933, F1=0.8800, Exact Match= 0.7793\n",
      "\n",
      "Evaluating xlm-roberta_lr0.0001_bs32_ep10 on test set...\n"
     ]
    },
    {
     "name": "stderr",
     "output_type": "stream",
     "text": [
      "Evaluating: 100%|██████████| 16/16 [00:01<00:00,  9.13it/s]\n"
     ]
    },
    {
     "name": "stdout",
     "output_type": "stream",
     "text": [
      "Metrics: Precision=0.9100, Recall=0.9116, F1=0.9108, Exact Match=0.8035\n",
      "\n",
      "======== Running Experiment 8/32 ========\n",
      "\n",
      "==================================================\n",
      "Training model: indobenchmark/indobert-base-p1 with params: {'learning_rate': 0.0001, 'batch_size': 32, 'epochs': 20}\n",
      "==================================================\n"
     ]
    },
    {
     "name": "stderr",
     "output_type": "stream",
     "text": [
      "Some weights of BertForTokenClassification were not initialized from the model checkpoint at indobenchmark/indobert-base-p1 and are newly initialized: ['classifier.bias', 'classifier.weight']\n",
      "You should probably TRAIN this model on a down-stream task to be able to use it for predictions and inference.\n"
     ]
    },
    {
     "name": "stdout",
     "output_type": "stream",
     "text": [
      "Preparing train dataset...\n",
      "Preparing test dataset...\n",
      "Preparing dev dataset...\n",
      "Training on cuda\n",
      "\n",
      "Epoch 1/20\n"
     ]
    },
    {
     "name": "stderr",
     "output_type": "stream",
     "text": [
      "Training: 100%|██████████| 46/46 [00:17<00:00,  2.62it/s, loss=0.442]\n"
     ]
    },
    {
     "name": "stdout",
     "output_type": "stream",
     "text": [
      "Average training loss: 1.0945\n"
     ]
    },
    {
     "name": "stderr",
     "output_type": "stream",
     "text": [
      "Evaluating: 100%|██████████| 12/12 [00:01<00:00,  9.65it/s]\n"
     ]
    },
    {
     "name": "stdout",
     "output_type": "stream",
     "text": [
      "New best F1: 0.2058 - Saving model\n",
      "Validation Metrics: Precision=0.3550, Recall=0.1449, F1=0.2058, Exact Match= 0.3161\n",
      "\n",
      "Epoch 2/20\n"
     ]
    },
    {
     "name": "stderr",
     "output_type": "stream",
     "text": [
      "Training: 100%|██████████| 46/46 [00:17<00:00,  2.62it/s, loss=0.165]\n"
     ]
    },
    {
     "name": "stdout",
     "output_type": "stream",
     "text": [
      "Average training loss: 0.3033\n"
     ]
    },
    {
     "name": "stderr",
     "output_type": "stream",
     "text": [
      "Evaluating: 100%|██████████| 12/12 [00:01<00:00,  9.64it/s]\n"
     ]
    },
    {
     "name": "stdout",
     "output_type": "stream",
     "text": [
      "New best F1: 0.6053 - Saving model\n",
      "Validation Metrics: Precision=0.5951, Recall=0.6159, F1=0.6053, Exact Match= 0.5150\n",
      "\n",
      "Epoch 3/20\n"
     ]
    },
    {
     "name": "stderr",
     "output_type": "stream",
     "text": [
      "Training: 100%|██████████| 46/46 [00:17<00:00,  2.62it/s, loss=0.108] \n"
     ]
    },
    {
     "name": "stdout",
     "output_type": "stream",
     "text": [
      "Average training loss: 0.1286\n"
     ]
    },
    {
     "name": "stderr",
     "output_type": "stream",
     "text": [
      "Evaluating: 100%|██████████| 12/12 [00:01<00:00,  9.64it/s]\n"
     ]
    },
    {
     "name": "stdout",
     "output_type": "stream",
     "text": [
      "New best F1: 0.7669 - Saving model\n",
      "Validation Metrics: Precision=0.7730, Recall=0.7609, F1=0.7669, Exact Match= 0.6757\n",
      "\n",
      "Epoch 4/20\n"
     ]
    },
    {
     "name": "stderr",
     "output_type": "stream",
     "text": [
      "Training: 100%|██████████| 46/46 [00:17<00:00,  2.62it/s, loss=0.0808]\n"
     ]
    },
    {
     "name": "stdout",
     "output_type": "stream",
     "text": [
      "Average training loss: 0.0594\n"
     ]
    },
    {
     "name": "stderr",
     "output_type": "stream",
     "text": [
      "Evaluating: 100%|██████████| 12/12 [00:01<00:00,  9.64it/s]\n"
     ]
    },
    {
     "name": "stdout",
     "output_type": "stream",
     "text": [
      "New best F1: 0.7753 - Saving model\n",
      "Validation Metrics: Precision=0.7929, Recall=0.7585, F1=0.7753, Exact Match= 0.7003\n",
      "\n",
      "Epoch 5/20\n"
     ]
    },
    {
     "name": "stderr",
     "output_type": "stream",
     "text": [
      "Training: 100%|██████████| 46/46 [00:17<00:00,  2.62it/s, loss=0.0309]\n"
     ]
    },
    {
     "name": "stdout",
     "output_type": "stream",
     "text": [
      "Average training loss: 0.0336\n"
     ]
    },
    {
     "name": "stderr",
     "output_type": "stream",
     "text": [
      "Evaluating: 100%|██████████| 12/12 [00:01<00:00,  9.66it/s]\n"
     ]
    },
    {
     "name": "stdout",
     "output_type": "stream",
     "text": [
      "New best F1: 0.8478 - Saving model\n",
      "Validation Metrics: Precision=0.8349, Recall=0.8611, F1=0.8478, Exact Match= 0.7575\n",
      "\n",
      "Epoch 6/20\n"
     ]
    },
    {
     "name": "stderr",
     "output_type": "stream",
     "text": [
      "Training: 100%|██████████| 46/46 [00:17<00:00,  2.62it/s, loss=0.0187] \n"
     ]
    },
    {
     "name": "stdout",
     "output_type": "stream",
     "text": [
      "Average training loss: 0.0241\n"
     ]
    },
    {
     "name": "stderr",
     "output_type": "stream",
     "text": [
      "Evaluating: 100%|██████████| 12/12 [00:01<00:00,  9.66it/s]\n"
     ]
    },
    {
     "name": "stdout",
     "output_type": "stream",
     "text": [
      "New best F1: 0.8510 - Saving model\n",
      "Validation Metrics: Precision=0.8245, Recall=0.8792, F1=0.8510, Exact Match= 0.7493\n",
      "\n",
      "Epoch 7/20\n"
     ]
    },
    {
     "name": "stderr",
     "output_type": "stream",
     "text": [
      "Training: 100%|██████████| 46/46 [00:17<00:00,  2.62it/s, loss=0.0109] \n"
     ]
    },
    {
     "name": "stdout",
     "output_type": "stream",
     "text": [
      "Average training loss: 0.0188\n"
     ]
    },
    {
     "name": "stderr",
     "output_type": "stream",
     "text": [
      "Evaluating: 100%|██████████| 12/12 [00:01<00:00,  9.65it/s]\n"
     ]
    },
    {
     "name": "stdout",
     "output_type": "stream",
     "text": [
      "Validation Metrics: Precision=0.8181, Recall=0.8744, F1=0.8453, Exact Match= 0.7520\n",
      "\n",
      "Epoch 8/20\n"
     ]
    },
    {
     "name": "stderr",
     "output_type": "stream",
     "text": [
      "Training: 100%|██████████| 46/46 [00:17<00:00,  2.62it/s, loss=0.012]  \n"
     ]
    },
    {
     "name": "stdout",
     "output_type": "stream",
     "text": [
      "Average training loss: 0.0107\n"
     ]
    },
    {
     "name": "stderr",
     "output_type": "stream",
     "text": [
      "Evaluating: 100%|██████████| 12/12 [00:01<00:00,  9.65it/s]\n"
     ]
    },
    {
     "name": "stdout",
     "output_type": "stream",
     "text": [
      "Validation Metrics: Precision=0.8247, Recall=0.8696, F1=0.8466, Exact Match= 0.7738\n",
      "\n",
      "Epoch 9/20\n"
     ]
    },
    {
     "name": "stderr",
     "output_type": "stream",
     "text": [
      "Training: 100%|██████████| 46/46 [00:17<00:00,  2.62it/s, loss=0.0416] \n"
     ]
    },
    {
     "name": "stdout",
     "output_type": "stream",
     "text": [
      "Average training loss: 0.0183\n"
     ]
    },
    {
     "name": "stderr",
     "output_type": "stream",
     "text": [
      "Evaluating: 100%|██████████| 12/12 [00:01<00:00,  9.67it/s]\n"
     ]
    },
    {
     "name": "stdout",
     "output_type": "stream",
     "text": [
      "Validation Metrics: Precision=0.8242, Recall=0.8720, F1=0.8474, Exact Match= 0.7684\n",
      "\n",
      "Epoch 10/20\n"
     ]
    },
    {
     "name": "stderr",
     "output_type": "stream",
     "text": [
      "Training: 100%|██████████| 46/46 [00:17<00:00,  2.62it/s, loss=0.00891]\n"
     ]
    },
    {
     "name": "stdout",
     "output_type": "stream",
     "text": [
      "Average training loss: 0.0198\n"
     ]
    },
    {
     "name": "stderr",
     "output_type": "stream",
     "text": [
      "Evaluating: 100%|██████████| 12/12 [00:01<00:00,  9.66it/s]\n"
     ]
    },
    {
     "name": "stdout",
     "output_type": "stream",
     "text": [
      "Validation Metrics: Precision=0.7951, Recall=0.8671, F1=0.8296, Exact Match= 0.7384\n",
      "\n",
      "Epoch 11/20\n"
     ]
    },
    {
     "name": "stderr",
     "output_type": "stream",
     "text": [
      "Training: 100%|██████████| 46/46 [00:17<00:00,  2.62it/s, loss=0.0366] \n"
     ]
    },
    {
     "name": "stdout",
     "output_type": "stream",
     "text": [
      "Average training loss: 0.0196\n"
     ]
    },
    {
     "name": "stderr",
     "output_type": "stream",
     "text": [
      "Evaluating: 100%|██████████| 12/12 [00:01<00:00,  9.64it/s]\n"
     ]
    },
    {
     "name": "stdout",
     "output_type": "stream",
     "text": [
      "Validation Metrics: Precision=0.8290, Recall=0.8551, F1=0.8419, Exact Match= 0.7248\n",
      "\n",
      "Epoch 12/20\n"
     ]
    },
    {
     "name": "stderr",
     "output_type": "stream",
     "text": [
      "Training: 100%|██████████| 46/46 [00:17<00:00,  2.62it/s, loss=0.0649] \n"
     ]
    },
    {
     "name": "stdout",
     "output_type": "stream",
     "text": [
      "Average training loss: 0.0207\n"
     ]
    },
    {
     "name": "stderr",
     "output_type": "stream",
     "text": [
      "Evaluating: 100%|██████████| 12/12 [00:01<00:00,  9.65it/s]\n"
     ]
    },
    {
     "name": "stdout",
     "output_type": "stream",
     "text": [
      "Validation Metrics: Precision=0.7862, Recall=0.8792, F1=0.8301, Exact Match= 0.7221\n",
      "\n",
      "Epoch 13/20\n"
     ]
    },
    {
     "name": "stderr",
     "output_type": "stream",
     "text": [
      "Training: 100%|██████████| 46/46 [00:17<00:00,  2.62it/s, loss=0.0102]  \n"
     ]
    },
    {
     "name": "stdout",
     "output_type": "stream",
     "text": [
      "Average training loss: 0.0116\n"
     ]
    },
    {
     "name": "stderr",
     "output_type": "stream",
     "text": [
      "Evaluating: 100%|██████████| 12/12 [00:01<00:00,  9.67it/s]\n"
     ]
    },
    {
     "name": "stdout",
     "output_type": "stream",
     "text": [
      "Validation Metrics: Precision=0.8215, Recall=0.8671, F1=0.8437, Exact Match= 0.7275\n",
      "\n",
      "Epoch 14/20\n"
     ]
    },
    {
     "name": "stderr",
     "output_type": "stream",
     "text": [
      "Training: 100%|██████████| 46/46 [00:17<00:00,  2.62it/s, loss=0.00696] \n"
     ]
    },
    {
     "name": "stdout",
     "output_type": "stream",
     "text": [
      "Average training loss: 0.0052\n"
     ]
    },
    {
     "name": "stderr",
     "output_type": "stream",
     "text": [
      "Evaluating: 100%|██████████| 12/12 [00:01<00:00,  9.67it/s]\n"
     ]
    },
    {
     "name": "stdout",
     "output_type": "stream",
     "text": [
      "Validation Metrics: Precision=0.8268, Recall=0.8647, F1=0.8453, Exact Match= 0.7439\n",
      "\n",
      "Epoch 15/20\n"
     ]
    },
    {
     "name": "stderr",
     "output_type": "stream",
     "text": [
      "Training: 100%|██████████| 46/46 [00:17<00:00,  2.62it/s, loss=0.000186]\n"
     ]
    },
    {
     "name": "stdout",
     "output_type": "stream",
     "text": [
      "Average training loss: 0.0027\n"
     ]
    },
    {
     "name": "stderr",
     "output_type": "stream",
     "text": [
      "Evaluating: 100%|██████████| 12/12 [00:01<00:00,  9.70it/s]\n"
     ]
    },
    {
     "name": "stdout",
     "output_type": "stream",
     "text": [
      "New best F1: 0.8539 - Saving model\n",
      "Validation Metrics: Precision=0.8400, Recall=0.8684, F1=0.8539, Exact Match= 0.7493\n",
      "\n",
      "Epoch 16/20\n"
     ]
    },
    {
     "name": "stderr",
     "output_type": "stream",
     "text": [
      "Training: 100%|██████████| 46/46 [00:17<00:00,  2.62it/s, loss=0.000188]\n"
     ]
    },
    {
     "name": "stdout",
     "output_type": "stream",
     "text": [
      "Average training loss: 0.0004\n"
     ]
    },
    {
     "name": "stderr",
     "output_type": "stream",
     "text": [
      "Evaluating: 100%|██████████| 12/12 [00:01<00:00,  9.63it/s]\n"
     ]
    },
    {
     "name": "stdout",
     "output_type": "stream",
     "text": [
      "New best F1: 0.8588 - Saving model\n",
      "Validation Metrics: Precision=0.8307, Recall=0.8889, F1=0.8588, Exact Match= 0.7466\n",
      "\n",
      "Epoch 17/20\n"
     ]
    },
    {
     "name": "stderr",
     "output_type": "stream",
     "text": [
      "Training: 100%|██████████| 46/46 [00:17<00:00,  2.62it/s, loss=0.00028] \n"
     ]
    },
    {
     "name": "stdout",
     "output_type": "stream",
     "text": [
      "Average training loss: 0.0003\n"
     ]
    },
    {
     "name": "stderr",
     "output_type": "stream",
     "text": [
      "Evaluating: 100%|██████████| 12/12 [00:01<00:00,  9.66it/s]\n"
     ]
    },
    {
     "name": "stdout",
     "output_type": "stream",
     "text": [
      "New best F1: 0.8618 - Saving model\n",
      "Validation Metrics: Precision=0.8331, Recall=0.8925, F1=0.8618, Exact Match= 0.7493\n",
      "\n",
      "Epoch 18/20\n"
     ]
    },
    {
     "name": "stderr",
     "output_type": "stream",
     "text": [
      "Training: 100%|██████████| 46/46 [00:17<00:00,  2.62it/s, loss=0.000321]\n"
     ]
    },
    {
     "name": "stdout",
     "output_type": "stream",
     "text": [
      "Average training loss: 0.0005\n"
     ]
    },
    {
     "name": "stderr",
     "output_type": "stream",
     "text": [
      "Evaluating: 100%|██████████| 12/12 [00:01<00:00,  9.68it/s]\n"
     ]
    },
    {
     "name": "stdout",
     "output_type": "stream",
     "text": [
      "Validation Metrics: Precision=0.8314, Recall=0.8877, F1=0.8586, Exact Match= 0.7520\n",
      "\n",
      "Epoch 19/20\n"
     ]
    },
    {
     "name": "stderr",
     "output_type": "stream",
     "text": [
      "Training: 100%|██████████| 46/46 [00:17<00:00,  2.62it/s, loss=9.28e-5] \n"
     ]
    },
    {
     "name": "stdout",
     "output_type": "stream",
     "text": [
      "Average training loss: 0.0004\n"
     ]
    },
    {
     "name": "stderr",
     "output_type": "stream",
     "text": [
      "Evaluating: 100%|██████████| 12/12 [00:01<00:00,  9.65it/s]\n"
     ]
    },
    {
     "name": "stdout",
     "output_type": "stream",
     "text": [
      "Validation Metrics: Precision=0.8326, Recall=0.8889, F1=0.8598, Exact Match= 0.7548\n",
      "\n",
      "Epoch 20/20\n"
     ]
    },
    {
     "name": "stderr",
     "output_type": "stream",
     "text": [
      "Training: 100%|██████████| 46/46 [00:17<00:00,  2.62it/s, loss=0.000118]\n"
     ]
    },
    {
     "name": "stdout",
     "output_type": "stream",
     "text": [
      "Average training loss: 0.0004\n"
     ]
    },
    {
     "name": "stderr",
     "output_type": "stream",
     "text": [
      "Evaluating: 100%|██████████| 12/12 [00:01<00:00,  9.64it/s]\n"
     ]
    },
    {
     "name": "stdout",
     "output_type": "stream",
     "text": [
      "Validation Metrics: Precision=0.8256, Recall=0.8865, F1=0.8550, Exact Match= 0.7548\n",
      "\n",
      "Evaluating bert_lr0.0001_bs32_ep20 on test set...\n"
     ]
    },
    {
     "name": "stderr",
     "output_type": "stream",
     "text": [
      "Evaluating: 100%|██████████| 16/16 [00:01<00:00,  9.28it/s]\n"
     ]
    },
    {
     "name": "stdout",
     "output_type": "stream",
     "text": [
      "Metrics: Precision=0.9070, Recall=0.9175, F1=0.9122, Exact Match=0.8075\n",
      "\n",
      "==================================================\n",
      "Training model: xlm-roberta-base with params: {'learning_rate': 0.0001, 'batch_size': 32, 'epochs': 20}\n",
      "==================================================\n"
     ]
    },
    {
     "name": "stderr",
     "output_type": "stream",
     "text": [
      "Some weights of XLMRobertaForTokenClassification were not initialized from the model checkpoint at xlm-roberta-base and are newly initialized: ['classifier.bias', 'classifier.weight']\n",
      "You should probably TRAIN this model on a down-stream task to be able to use it for predictions and inference.\n"
     ]
    },
    {
     "name": "stdout",
     "output_type": "stream",
     "text": [
      "Preparing train dataset...\n",
      "Preparing test dataset...\n",
      "Preparing dev dataset...\n",
      "Training on cuda\n",
      "\n",
      "Epoch 1/20\n"
     ]
    },
    {
     "name": "stderr",
     "output_type": "stream",
     "text": [
      "Training: 100%|██████████| 46/46 [00:18<00:00,  2.45it/s, loss=0.634]\n"
     ]
    },
    {
     "name": "stdout",
     "output_type": "stream",
     "text": [
      "Average training loss: 1.3987\n"
     ]
    },
    {
     "name": "stderr",
     "output_type": "stream",
     "text": [
      "Evaluating: 100%|██████████| 12/12 [00:01<00:00,  9.62it/s]\n"
     ]
    },
    {
     "name": "stdout",
     "output_type": "stream",
     "text": [
      "Validation Metrics: Precision=0.0000, Recall=0.0000, F1=0.0000, Exact Match= 0.3106\n",
      "\n",
      "Epoch 2/20\n"
     ]
    },
    {
     "name": "stderr",
     "output_type": "stream",
     "text": [
      "Training: 100%|██████████| 46/46 [00:18<00:00,  2.45it/s, loss=0.406]\n"
     ]
    },
    {
     "name": "stdout",
     "output_type": "stream",
     "text": [
      "Average training loss: 0.4216\n"
     ]
    },
    {
     "name": "stderr",
     "output_type": "stream",
     "text": [
      "Evaluating: 100%|██████████| 12/12 [00:01<00:00,  9.63it/s]\n"
     ]
    },
    {
     "name": "stdout",
     "output_type": "stream",
     "text": [
      "New best F1: 0.3737 - Saving model\n",
      "Validation Metrics: Precision=0.4609, Recall=0.3142, F1=0.3737, Exact Match= 0.3978\n",
      "\n",
      "Epoch 3/20\n"
     ]
    },
    {
     "name": "stderr",
     "output_type": "stream",
     "text": [
      "Training: 100%|██████████| 46/46 [00:18<00:00,  2.45it/s, loss=0.228]\n"
     ]
    },
    {
     "name": "stdout",
     "output_type": "stream",
     "text": [
      "Average training loss: 0.2511\n"
     ]
    },
    {
     "name": "stderr",
     "output_type": "stream",
     "text": [
      "Evaluating: 100%|██████████| 12/12 [00:01<00:00,  9.61it/s]\n"
     ]
    },
    {
     "name": "stdout",
     "output_type": "stream",
     "text": [
      "New best F1: 0.6498 - Saving model\n",
      "Validation Metrics: Precision=0.6065, Recall=0.6999, F1=0.6498, Exact Match= 0.5777\n",
      "\n",
      "Epoch 4/20\n"
     ]
    },
    {
     "name": "stderr",
     "output_type": "stream",
     "text": [
      "Training: 100%|██████████| 46/46 [00:18<00:00,  2.46it/s, loss=0.0933]\n"
     ]
    },
    {
     "name": "stdout",
     "output_type": "stream",
     "text": [
      "Average training loss: 0.1101\n"
     ]
    },
    {
     "name": "stderr",
     "output_type": "stream",
     "text": [
      "Evaluating: 100%|██████████| 12/12 [00:01<00:00,  9.68it/s]\n"
     ]
    },
    {
     "name": "stdout",
     "output_type": "stream",
     "text": [
      "New best F1: 0.8222 - Saving model\n",
      "Validation Metrics: Precision=0.7769, Recall=0.8731, F1=0.8222, Exact Match= 0.7112\n",
      "\n",
      "Epoch 5/20\n"
     ]
    },
    {
     "name": "stderr",
     "output_type": "stream",
     "text": [
      "Training: 100%|██████████| 46/46 [00:18<00:00,  2.45it/s, loss=0.0541]\n"
     ]
    },
    {
     "name": "stdout",
     "output_type": "stream",
     "text": [
      "Average training loss: 0.0651\n"
     ]
    },
    {
     "name": "stderr",
     "output_type": "stream",
     "text": [
      "Evaluating: 100%|██████████| 12/12 [00:01<00:00,  9.69it/s]\n"
     ]
    },
    {
     "name": "stdout",
     "output_type": "stream",
     "text": [
      "New best F1: 0.8744 - Saving model\n",
      "Validation Metrics: Precision=0.8591, Recall=0.8902, F1=0.8744, Exact Match= 0.7684\n",
      "\n",
      "Epoch 6/20\n"
     ]
    },
    {
     "name": "stderr",
     "output_type": "stream",
     "text": [
      "Training: 100%|██████████| 46/46 [00:18<00:00,  2.46it/s, loss=0.0418]\n"
     ]
    },
    {
     "name": "stdout",
     "output_type": "stream",
     "text": [
      "Average training loss: 0.0421\n"
     ]
    },
    {
     "name": "stderr",
     "output_type": "stream",
     "text": [
      "Evaluating: 100%|██████████| 12/12 [00:01<00:00,  9.69it/s]\n"
     ]
    },
    {
     "name": "stdout",
     "output_type": "stream",
     "text": [
      "New best F1: 0.8945 - Saving model\n",
      "Validation Metrics: Precision=0.8682, Recall=0.9225, F1=0.8945, Exact Match= 0.7902\n",
      "\n",
      "Epoch 7/20\n"
     ]
    },
    {
     "name": "stderr",
     "output_type": "stream",
     "text": [
      "Training: 100%|██████████| 46/46 [00:18<00:00,  2.45it/s, loss=0.0394] \n"
     ]
    },
    {
     "name": "stdout",
     "output_type": "stream",
     "text": [
      "Average training loss: 0.0304\n"
     ]
    },
    {
     "name": "stderr",
     "output_type": "stream",
     "text": [
      "Evaluating: 100%|██████████| 12/12 [00:01<00:00,  9.70it/s]\n"
     ]
    },
    {
     "name": "stdout",
     "output_type": "stream",
     "text": [
      "Validation Metrics: Precision=0.8829, Recall=0.8963, F1=0.8896, Exact Match= 0.7902\n",
      "\n",
      "Epoch 8/20\n"
     ]
    },
    {
     "name": "stderr",
     "output_type": "stream",
     "text": [
      "Training: 100%|██████████| 46/46 [00:18<00:00,  2.46it/s, loss=0.191]  \n"
     ]
    },
    {
     "name": "stdout",
     "output_type": "stream",
     "text": [
      "Average training loss: 0.0445\n"
     ]
    },
    {
     "name": "stderr",
     "output_type": "stream",
     "text": [
      "Evaluating: 100%|██████████| 12/12 [00:01<00:00,  9.72it/s]\n"
     ]
    },
    {
     "name": "stdout",
     "output_type": "stream",
     "text": [
      "Validation Metrics: Precision=0.8264, Recall=0.8963, F1=0.8599, Exact Match= 0.7384\n",
      "\n",
      "Epoch 9/20\n"
     ]
    },
    {
     "name": "stderr",
     "output_type": "stream",
     "text": [
      "Training: 100%|██████████| 46/46 [00:18<00:00,  2.46it/s, loss=0.0555]\n"
     ]
    },
    {
     "name": "stdout",
     "output_type": "stream",
     "text": [
      "Average training loss: 0.0615\n"
     ]
    },
    {
     "name": "stderr",
     "output_type": "stream",
     "text": [
      "Evaluating: 100%|██████████| 12/12 [00:01<00:00,  9.73it/s]\n"
     ]
    },
    {
     "name": "stdout",
     "output_type": "stream",
     "text": [
      "Validation Metrics: Precision=0.8759, Recall=0.8812, F1=0.8785, Exact Match= 0.7711\n",
      "\n",
      "Epoch 10/20\n"
     ]
    },
    {
     "name": "stderr",
     "output_type": "stream",
     "text": [
      "Training: 100%|██████████| 46/46 [00:18<00:00,  2.46it/s, loss=0.0388] \n"
     ]
    },
    {
     "name": "stdout",
     "output_type": "stream",
     "text": [
      "Average training loss: 0.0371\n"
     ]
    },
    {
     "name": "stderr",
     "output_type": "stream",
     "text": [
      "Evaluating: 100%|██████████| 12/12 [00:01<00:00,  9.71it/s]\n"
     ]
    },
    {
     "name": "stdout",
     "output_type": "stream",
     "text": [
      "New best F1: 0.8984 - Saving model\n",
      "Validation Metrics: Precision=0.8887, Recall=0.9084, F1=0.8984, Exact Match= 0.8093\n",
      "\n",
      "Epoch 11/20\n"
     ]
    },
    {
     "name": "stderr",
     "output_type": "stream",
     "text": [
      "Training: 100%|██████████| 46/46 [00:18<00:00,  2.45it/s, loss=0.0322] \n"
     ]
    },
    {
     "name": "stdout",
     "output_type": "stream",
     "text": [
      "Average training loss: 0.0315\n"
     ]
    },
    {
     "name": "stderr",
     "output_type": "stream",
     "text": [
      "Evaluating: 100%|██████████| 12/12 [00:01<00:00,  9.70it/s]\n"
     ]
    },
    {
     "name": "stdout",
     "output_type": "stream",
     "text": [
      "New best F1: 0.9010 - Saving model\n",
      "Validation Metrics: Precision=0.8947, Recall=0.9074, F1=0.9010, Exact Match= 0.8147\n",
      "\n",
      "Epoch 12/20\n"
     ]
    },
    {
     "name": "stderr",
     "output_type": "stream",
     "text": [
      "Training: 100%|██████████| 46/46 [00:18<00:00,  2.46it/s, loss=0.0265] \n"
     ]
    },
    {
     "name": "stdout",
     "output_type": "stream",
     "text": [
      "Average training loss: 0.0190\n"
     ]
    },
    {
     "name": "stderr",
     "output_type": "stream",
     "text": [
      "Evaluating: 100%|██████████| 12/12 [00:01<00:00,  9.70it/s]\n"
     ]
    },
    {
     "name": "stdout",
     "output_type": "stream",
     "text": [
      "Validation Metrics: Precision=0.8505, Recall=0.9053, F1=0.8771, Exact Match= 0.7793\n",
      "\n",
      "Epoch 13/20\n"
     ]
    },
    {
     "name": "stderr",
     "output_type": "stream",
     "text": [
      "Training: 100%|██████████| 46/46 [00:18<00:00,  2.46it/s, loss=0.0255] \n"
     ]
    },
    {
     "name": "stdout",
     "output_type": "stream",
     "text": [
      "Average training loss: 0.0120\n"
     ]
    },
    {
     "name": "stderr",
     "output_type": "stream",
     "text": [
      "Evaluating: 100%|██████████| 12/12 [00:01<00:00,  9.71it/s]\n"
     ]
    },
    {
     "name": "stdout",
     "output_type": "stream",
     "text": [
      "Validation Metrics: Precision=0.8628, Recall=0.9053, F1=0.8835, Exact Match= 0.7902\n",
      "\n",
      "Epoch 14/20\n"
     ]
    },
    {
     "name": "stderr",
     "output_type": "stream",
     "text": [
      "Training: 100%|██████████| 46/46 [00:18<00:00,  2.46it/s, loss=0.00636]\n"
     ]
    },
    {
     "name": "stdout",
     "output_type": "stream",
     "text": [
      "Average training loss: 0.0081\n"
     ]
    },
    {
     "name": "stderr",
     "output_type": "stream",
     "text": [
      "Evaluating: 100%|██████████| 12/12 [00:01<00:00,  9.71it/s]\n"
     ]
    },
    {
     "name": "stdout",
     "output_type": "stream",
     "text": [
      "Validation Metrics: Precision=0.8810, Recall=0.9023, F1=0.8915, Exact Match= 0.8202\n",
      "\n",
      "Epoch 15/20\n"
     ]
    },
    {
     "name": "stderr",
     "output_type": "stream",
     "text": [
      "Training: 100%|██████████| 46/46 [00:18<00:00,  2.46it/s, loss=0.00264] \n"
     ]
    },
    {
     "name": "stdout",
     "output_type": "stream",
     "text": [
      "Average training loss: 0.0050\n"
     ]
    },
    {
     "name": "stderr",
     "output_type": "stream",
     "text": [
      "Evaluating: 100%|██████████| 12/12 [00:01<00:00,  9.72it/s]\n"
     ]
    },
    {
     "name": "stdout",
     "output_type": "stream",
     "text": [
      "Validation Metrics: Precision=0.8836, Recall=0.9174, F1=0.9002, Exact Match= 0.8256\n",
      "\n",
      "Epoch 16/20\n"
     ]
    },
    {
     "name": "stderr",
     "output_type": "stream",
     "text": [
      "Training: 100%|██████████| 46/46 [00:18<00:00,  2.46it/s, loss=0.0122]  \n"
     ]
    },
    {
     "name": "stdout",
     "output_type": "stream",
     "text": [
      "Average training loss: 0.0049\n"
     ]
    },
    {
     "name": "stderr",
     "output_type": "stream",
     "text": [
      "Evaluating: 100%|██████████| 12/12 [00:01<00:00,  9.71it/s]\n"
     ]
    },
    {
     "name": "stdout",
     "output_type": "stream",
     "text": [
      "New best F1: 0.9141 - Saving model\n",
      "Validation Metrics: Precision=0.9012, Recall=0.9275, F1=0.9141, Exact Match= 0.8338\n",
      "\n",
      "Epoch 17/20\n"
     ]
    },
    {
     "name": "stderr",
     "output_type": "stream",
     "text": [
      "Training: 100%|██████████| 46/46 [00:18<00:00,  2.46it/s, loss=0.00722] \n"
     ]
    },
    {
     "name": "stdout",
     "output_type": "stream",
     "text": [
      "Average training loss: 0.0033\n"
     ]
    },
    {
     "name": "stderr",
     "output_type": "stream",
     "text": [
      "Evaluating: 100%|██████████| 12/12 [00:01<00:00,  9.69it/s]\n"
     ]
    },
    {
     "name": "stdout",
     "output_type": "stream",
     "text": [
      "New best F1: 0.9192 - Saving model\n",
      "Validation Metrics: Precision=0.9110, Recall=0.9275, F1=0.9192, Exact Match= 0.8392\n",
      "\n",
      "Epoch 18/20\n"
     ]
    },
    {
     "name": "stderr",
     "output_type": "stream",
     "text": [
      "Training: 100%|██████████| 46/46 [00:18<00:00,  2.46it/s, loss=0.000792]\n"
     ]
    },
    {
     "name": "stdout",
     "output_type": "stream",
     "text": [
      "Average training loss: 0.0026\n"
     ]
    },
    {
     "name": "stderr",
     "output_type": "stream",
     "text": [
      "Evaluating: 100%|██████████| 12/12 [00:01<00:00,  9.71it/s]\n"
     ]
    },
    {
     "name": "stdout",
     "output_type": "stream",
     "text": [
      "Validation Metrics: Precision=0.9068, Recall=0.9305, F1=0.9185, Exact Match= 0.8283\n",
      "\n",
      "Epoch 19/20\n"
     ]
    },
    {
     "name": "stderr",
     "output_type": "stream",
     "text": [
      "Training: 100%|██████████| 46/46 [00:18<00:00,  2.46it/s, loss=0.00163] \n"
     ]
    },
    {
     "name": "stdout",
     "output_type": "stream",
     "text": [
      "Average training loss: 0.0019\n"
     ]
    },
    {
     "name": "stderr",
     "output_type": "stream",
     "text": [
      "Evaluating: 100%|██████████| 12/12 [00:01<00:00,  9.69it/s]\n"
     ]
    },
    {
     "name": "stdout",
     "output_type": "stream",
     "text": [
      "New best F1: 0.9192 - Saving model\n",
      "Validation Metrics: Precision=0.9053, Recall=0.9335, F1=0.9192, Exact Match= 0.8365\n",
      "\n",
      "Epoch 20/20\n"
     ]
    },
    {
     "name": "stderr",
     "output_type": "stream",
     "text": [
      "Training: 100%|██████████| 46/46 [00:18<00:00,  2.46it/s, loss=0.000737]\n"
     ]
    },
    {
     "name": "stdout",
     "output_type": "stream",
     "text": [
      "Average training loss: 0.0014\n"
     ]
    },
    {
     "name": "stderr",
     "output_type": "stream",
     "text": [
      "Evaluating: 100%|██████████| 12/12 [00:01<00:00,  9.71it/s]\n"
     ]
    },
    {
     "name": "stdout",
     "output_type": "stream",
     "text": [
      "Validation Metrics: Precision=0.9025, Recall=0.9325, F1=0.9173, Exact Match= 0.8311\n",
      "\n",
      "Evaluating xlm-roberta_lr0.0001_bs32_ep20 on test set...\n"
     ]
    },
    {
     "name": "stderr",
     "output_type": "stream",
     "text": [
      "Evaluating: 100%|██████████| 16/16 [00:01<00:00,  9.31it/s]\n"
     ]
    },
    {
     "name": "stdout",
     "output_type": "stream",
     "text": [
      "Metrics: Precision=0.9337, Recall=0.9321, F1=0.9329, Exact Match=0.8389\n",
      "New best model saved for xlm-roberta at models/best_xlm-roberta.pt\n",
      "\n",
      "==================================================\n",
      "Training model: cahya/xlm-roberta-base-indonesian-NER with params: {'learning_rate': 0.0001, 'batch_size': 32, 'epochs': 20}\n",
      "==================================================\n"
     ]
    },
    {
     "name": "stderr",
     "output_type": "stream",
     "text": [
      "Some weights of the model checkpoint at cahya/xlm-roberta-base-indonesian-NER were not used when initializing XLMRobertaForTokenClassification: ['roberta.pooler.dense.bias', 'roberta.pooler.dense.weight']\n",
      "- This IS expected if you are initializing XLMRobertaForTokenClassification from the checkpoint of a model trained on another task or with another architecture (e.g. initializing a BertForSequenceClassification model from a BertForPreTraining model).\n",
      "- This IS NOT expected if you are initializing XLMRobertaForTokenClassification from the checkpoint of a model that you expect to be exactly identical (initializing a BertForSequenceClassification model from a BertForSequenceClassification model).\n",
      "Some weights of XLMRobertaForTokenClassification were not initialized from the model checkpoint at cahya/xlm-roberta-base-indonesian-NER and are newly initialized because the shapes did not match:\n",
      "- classifier.bias: found shape torch.Size([39]) in the checkpoint and torch.Size([7]) in the model instantiated\n",
      "- classifier.weight: found shape torch.Size([39, 768]) in the checkpoint and torch.Size([7, 768]) in the model instantiated\n",
      "You should probably TRAIN this model on a down-stream task to be able to use it for predictions and inference.\n"
     ]
    },
    {
     "name": "stdout",
     "output_type": "stream",
     "text": [
      "Preparing train dataset...\n",
      "Preparing test dataset...\n",
      "Preparing dev dataset...\n",
      "Training on cuda\n",
      "\n",
      "Epoch 1/20\n"
     ]
    },
    {
     "name": "stderr",
     "output_type": "stream",
     "text": [
      "Training: 100%|██████████| 46/46 [00:18<00:00,  2.45it/s, loss=0.336]\n"
     ]
    },
    {
     "name": "stdout",
     "output_type": "stream",
     "text": [
      "Average training loss: 1.2745\n"
     ]
    },
    {
     "name": "stderr",
     "output_type": "stream",
     "text": [
      "Evaluating: 100%|██████████| 12/12 [00:01<00:00,  9.71it/s]\n"
     ]
    },
    {
     "name": "stdout",
     "output_type": "stream",
     "text": [
      "New best F1: 0.2303 - Saving model\n",
      "Validation Metrics: Precision=0.5451, Recall=0.1460, F1=0.2303, Exact Match= 0.3106\n",
      "\n",
      "Epoch 2/20\n"
     ]
    },
    {
     "name": "stderr",
     "output_type": "stream",
     "text": [
      "Training: 100%|██████████| 46/46 [00:18<00:00,  2.46it/s, loss=0.22] \n"
     ]
    },
    {
     "name": "stdout",
     "output_type": "stream",
     "text": [
      "Average training loss: 0.2608\n"
     ]
    },
    {
     "name": "stderr",
     "output_type": "stream",
     "text": [
      "Evaluating: 100%|██████████| 12/12 [00:01<00:00,  9.71it/s]\n"
     ]
    },
    {
     "name": "stdout",
     "output_type": "stream",
     "text": [
      "New best F1: 0.7299 - Saving model\n",
      "Validation Metrics: Precision=0.7359, Recall=0.7241, F1=0.7299, Exact Match= 0.6512\n",
      "\n",
      "Epoch 3/20\n"
     ]
    },
    {
     "name": "stderr",
     "output_type": "stream",
     "text": [
      "Training: 100%|██████████| 46/46 [00:18<00:00,  2.45it/s, loss=0.0758]\n"
     ]
    },
    {
     "name": "stdout",
     "output_type": "stream",
     "text": [
      "Average training loss: 0.1235\n"
     ]
    },
    {
     "name": "stderr",
     "output_type": "stream",
     "text": [
      "Evaluating: 100%|██████████| 12/12 [00:01<00:00,  9.70it/s]\n"
     ]
    },
    {
     "name": "stdout",
     "output_type": "stream",
     "text": [
      "New best F1: 0.8460 - Saving model\n",
      "Validation Metrics: Precision=0.8373, Recall=0.8550, F1=0.8460, Exact Match= 0.7439\n",
      "\n",
      "Epoch 4/20\n"
     ]
    },
    {
     "name": "stderr",
     "output_type": "stream",
     "text": [
      "Training: 100%|██████████| 46/46 [00:18<00:00,  2.46it/s, loss=0.0397]\n"
     ]
    },
    {
     "name": "stdout",
     "output_type": "stream",
     "text": [
      "Average training loss: 0.0713\n"
     ]
    },
    {
     "name": "stderr",
     "output_type": "stream",
     "text": [
      "Evaluating: 100%|██████████| 12/12 [00:01<00:00,  9.68it/s]\n"
     ]
    },
    {
     "name": "stdout",
     "output_type": "stream",
     "text": [
      "New best F1: 0.8830 - Saving model\n",
      "Validation Metrics: Precision=0.8626, Recall=0.9043, F1=0.8830, Exact Match= 0.7902\n",
      "\n",
      "Epoch 5/20\n"
     ]
    },
    {
     "name": "stderr",
     "output_type": "stream",
     "text": [
      "Training: 100%|██████████| 46/46 [00:18<00:00,  2.45it/s, loss=0.0236]\n"
     ]
    },
    {
     "name": "stdout",
     "output_type": "stream",
     "text": [
      "Average training loss: 0.0495\n"
     ]
    },
    {
     "name": "stderr",
     "output_type": "stream",
     "text": [
      "Evaluating: 100%|██████████| 12/12 [00:01<00:00,  9.70it/s]\n"
     ]
    },
    {
     "name": "stdout",
     "output_type": "stream",
     "text": [
      "New best F1: 0.9005 - Saving model\n",
      "Validation Metrics: Precision=0.8946, Recall=0.9063, F1=0.9005, Exact Match= 0.8093\n",
      "\n",
      "Epoch 6/20\n"
     ]
    },
    {
     "name": "stderr",
     "output_type": "stream",
     "text": [
      "Training: 100%|██████████| 46/46 [00:18<00:00,  2.46it/s, loss=0.0794] \n"
     ]
    },
    {
     "name": "stdout",
     "output_type": "stream",
     "text": [
      "Average training loss: 0.0433\n"
     ]
    },
    {
     "name": "stderr",
     "output_type": "stream",
     "text": [
      "Evaluating: 100%|██████████| 12/12 [00:01<00:00,  9.69it/s]\n"
     ]
    },
    {
     "name": "stdout",
     "output_type": "stream",
     "text": [
      "New best F1: 0.9158 - Saving model\n",
      "Validation Metrics: Precision=0.9015, Recall=0.9305, F1=0.9158, Exact Match= 0.8147\n",
      "\n",
      "Epoch 7/20\n"
     ]
    },
    {
     "name": "stderr",
     "output_type": "stream",
     "text": [
      "Training: 100%|██████████| 46/46 [00:18<00:00,  2.46it/s, loss=0.027]  \n"
     ]
    },
    {
     "name": "stdout",
     "output_type": "stream",
     "text": [
      "Average training loss: 0.0297\n"
     ]
    },
    {
     "name": "stderr",
     "output_type": "stream",
     "text": [
      "Evaluating: 100%|██████████| 12/12 [00:01<00:00,  9.72it/s]\n"
     ]
    },
    {
     "name": "stdout",
     "output_type": "stream",
     "text": [
      "Validation Metrics: Precision=0.9054, Recall=0.9154, F1=0.9104, Exact Match= 0.8038\n",
      "\n",
      "Epoch 8/20\n"
     ]
    },
    {
     "name": "stderr",
     "output_type": "stream",
     "text": [
      "Training: 100%|██████████| 46/46 [00:18<00:00,  2.46it/s, loss=0.0456] \n"
     ]
    },
    {
     "name": "stdout",
     "output_type": "stream",
     "text": [
      "Average training loss: 0.0243\n"
     ]
    },
    {
     "name": "stderr",
     "output_type": "stream",
     "text": [
      "Evaluating: 100%|██████████| 12/12 [00:01<00:00,  9.71it/s]\n"
     ]
    },
    {
     "name": "stdout",
     "output_type": "stream",
     "text": [
      "Validation Metrics: Precision=0.8587, Recall=0.9245, F1=0.8904, Exact Match= 0.7684\n",
      "\n",
      "Epoch 9/20\n"
     ]
    },
    {
     "name": "stderr",
     "output_type": "stream",
     "text": [
      "Training: 100%|██████████| 46/46 [00:18<00:00,  2.46it/s, loss=0.00603]\n"
     ]
    },
    {
     "name": "stdout",
     "output_type": "stream",
     "text": [
      "Average training loss: 0.0222\n"
     ]
    },
    {
     "name": "stderr",
     "output_type": "stream",
     "text": [
      "Evaluating: 100%|██████████| 12/12 [00:01<00:00,  9.73it/s]\n"
     ]
    },
    {
     "name": "stdout",
     "output_type": "stream",
     "text": [
      "Validation Metrics: Precision=0.9000, Recall=0.9245, F1=0.9121, Exact Match= 0.8174\n",
      "\n",
      "Epoch 10/20\n"
     ]
    },
    {
     "name": "stderr",
     "output_type": "stream",
     "text": [
      "Training: 100%|██████████| 46/46 [00:18<00:00,  2.46it/s, loss=0.0439] \n"
     ]
    },
    {
     "name": "stdout",
     "output_type": "stream",
     "text": [
      "Average training loss: 0.0265\n"
     ]
    },
    {
     "name": "stderr",
     "output_type": "stream",
     "text": [
      "Evaluating: 100%|██████████| 12/12 [00:01<00:00,  9.69it/s]\n"
     ]
    },
    {
     "name": "stdout",
     "output_type": "stream",
     "text": [
      "Validation Metrics: Precision=0.8873, Recall=0.9194, F1=0.9031, Exact Match= 0.8174\n",
      "\n",
      "Epoch 11/20\n"
     ]
    },
    {
     "name": "stderr",
     "output_type": "stream",
     "text": [
      "Training: 100%|██████████| 46/46 [00:18<00:00,  2.46it/s, loss=0.0529]\n"
     ]
    },
    {
     "name": "stdout",
     "output_type": "stream",
     "text": [
      "Average training loss: 0.0369\n"
     ]
    },
    {
     "name": "stderr",
     "output_type": "stream",
     "text": [
      "Evaluating: 100%|██████████| 12/12 [00:01<00:00,  9.72it/s]\n"
     ]
    },
    {
     "name": "stdout",
     "output_type": "stream",
     "text": [
      "Validation Metrics: Precision=0.8534, Recall=0.9144, F1=0.8828, Exact Match= 0.7657\n",
      "\n",
      "Epoch 12/20\n"
     ]
    },
    {
     "name": "stderr",
     "output_type": "stream",
     "text": [
      "Training: 100%|██████████| 46/46 [00:18<00:00,  2.46it/s, loss=0.0204]\n"
     ]
    },
    {
     "name": "stdout",
     "output_type": "stream",
     "text": [
      "Average training loss: 0.0373\n"
     ]
    },
    {
     "name": "stderr",
     "output_type": "stream",
     "text": [
      "Evaluating: 100%|██████████| 12/12 [00:01<00:00,  9.71it/s]\n"
     ]
    },
    {
     "name": "stdout",
     "output_type": "stream",
     "text": [
      "Validation Metrics: Precision=0.8481, Recall=0.8771, F1=0.8624, Exact Match= 0.7439\n",
      "\n",
      "Epoch 13/20\n"
     ]
    },
    {
     "name": "stderr",
     "output_type": "stream",
     "text": [
      "Training: 100%|██████████| 46/46 [00:18<00:00,  2.46it/s, loss=0.0289]\n"
     ]
    },
    {
     "name": "stdout",
     "output_type": "stream",
     "text": [
      "Average training loss: 0.0320\n"
     ]
    },
    {
     "name": "stderr",
     "output_type": "stream",
     "text": [
      "Evaluating: 100%|██████████| 12/12 [00:01<00:00,  9.72it/s]\n"
     ]
    },
    {
     "name": "stdout",
     "output_type": "stream",
     "text": [
      "Validation Metrics: Precision=0.8883, Recall=0.9053, F1=0.8968, Exact Match= 0.7956\n",
      "\n",
      "Epoch 14/20\n"
     ]
    },
    {
     "name": "stderr",
     "output_type": "stream",
     "text": [
      "Training: 100%|██████████| 46/46 [00:18<00:00,  2.46it/s, loss=0.00349]\n"
     ]
    },
    {
     "name": "stdout",
     "output_type": "stream",
     "text": [
      "Average training loss: 0.0187\n"
     ]
    },
    {
     "name": "stderr",
     "output_type": "stream",
     "text": [
      "Evaluating: 100%|██████████| 12/12 [00:01<00:00,  9.71it/s]\n"
     ]
    },
    {
     "name": "stdout",
     "output_type": "stream",
     "text": [
      "Validation Metrics: Precision=0.8538, Recall=0.9295, F1=0.8901, Exact Match= 0.7766\n",
      "\n",
      "Epoch 15/20\n"
     ]
    },
    {
     "name": "stderr",
     "output_type": "stream",
     "text": [
      "Training: 100%|██████████| 46/46 [00:18<00:00,  2.46it/s, loss=0.0191] \n"
     ]
    },
    {
     "name": "stdout",
     "output_type": "stream",
     "text": [
      "Average training loss: 0.0113\n"
     ]
    },
    {
     "name": "stderr",
     "output_type": "stream",
     "text": [
      "Evaluating: 100%|██████████| 12/12 [00:01<00:00,  9.72it/s]\n"
     ]
    },
    {
     "name": "stdout",
     "output_type": "stream",
     "text": [
      "Validation Metrics: Precision=0.8668, Recall=0.9174, F1=0.8914, Exact Match= 0.7875\n",
      "\n",
      "Epoch 16/20\n"
     ]
    },
    {
     "name": "stderr",
     "output_type": "stream",
     "text": [
      "Training: 100%|██████████| 46/46 [00:18<00:00,  2.46it/s, loss=0.00307]\n"
     ]
    },
    {
     "name": "stdout",
     "output_type": "stream",
     "text": [
      "Average training loss: 0.0091\n"
     ]
    },
    {
     "name": "stderr",
     "output_type": "stream",
     "text": [
      "Evaluating: 100%|██████████| 12/12 [00:01<00:00,  9.72it/s]\n"
     ]
    },
    {
     "name": "stdout",
     "output_type": "stream",
     "text": [
      "Validation Metrics: Precision=0.9022, Recall=0.9194, F1=0.9107, Exact Match= 0.8283\n",
      "\n",
      "Epoch 17/20\n"
     ]
    },
    {
     "name": "stderr",
     "output_type": "stream",
     "text": [
      "Training: 100%|██████████| 46/46 [00:18<00:00,  2.46it/s, loss=0.00142] \n"
     ]
    },
    {
     "name": "stdout",
     "output_type": "stream",
     "text": [
      "Average training loss: 0.0058\n"
     ]
    },
    {
     "name": "stderr",
     "output_type": "stream",
     "text": [
      "Evaluating: 100%|██████████| 12/12 [00:01<00:00,  9.72it/s]\n"
     ]
    },
    {
     "name": "stdout",
     "output_type": "stream",
     "text": [
      "Validation Metrics: Precision=0.8689, Recall=0.9345, F1=0.9005, Exact Match= 0.7929\n",
      "\n",
      "Epoch 18/20\n"
     ]
    },
    {
     "name": "stderr",
     "output_type": "stream",
     "text": [
      "Training: 100%|██████████| 46/46 [00:18<00:00,  2.46it/s, loss=0.00824] \n"
     ]
    },
    {
     "name": "stdout",
     "output_type": "stream",
     "text": [
      "Average training loss: 0.0039\n"
     ]
    },
    {
     "name": "stderr",
     "output_type": "stream",
     "text": [
      "Evaluating: 100%|██████████| 12/12 [00:01<00:00,  9.71it/s]\n"
     ]
    },
    {
     "name": "stdout",
     "output_type": "stream",
     "text": [
      "Validation Metrics: Precision=0.8928, Recall=0.9305, F1=0.9112, Exact Match= 0.8120\n",
      "\n",
      "Epoch 19/20\n"
     ]
    },
    {
     "name": "stderr",
     "output_type": "stream",
     "text": [
      "Training: 100%|██████████| 46/46 [00:18<00:00,  2.46it/s, loss=0.000726]\n"
     ]
    },
    {
     "name": "stdout",
     "output_type": "stream",
     "text": [
      "Average training loss: 0.0032\n"
     ]
    },
    {
     "name": "stderr",
     "output_type": "stream",
     "text": [
      "Evaluating: 100%|██████████| 12/12 [00:01<00:00,  9.69it/s]\n"
     ]
    },
    {
     "name": "stdout",
     "output_type": "stream",
     "text": [
      "Validation Metrics: Precision=0.8947, Recall=0.9245, F1=0.9094, Exact Match= 0.8174\n",
      "\n",
      "Epoch 20/20\n"
     ]
    },
    {
     "name": "stderr",
     "output_type": "stream",
     "text": [
      "Training: 100%|██████████| 46/46 [00:18<00:00,  2.46it/s, loss=0.000759]\n"
     ]
    },
    {
     "name": "stdout",
     "output_type": "stream",
     "text": [
      "Average training loss: 0.0025\n"
     ]
    },
    {
     "name": "stderr",
     "output_type": "stream",
     "text": [
      "Evaluating: 100%|██████████| 12/12 [00:01<00:00,  9.72it/s]\n"
     ]
    },
    {
     "name": "stdout",
     "output_type": "stream",
     "text": [
      "Validation Metrics: Precision=0.8970, Recall=0.9295, F1=0.9130, Exact Match= 0.8202\n",
      "\n",
      "Evaluating xlm-roberta_lr0.0001_bs32_ep20 on test set...\n"
     ]
    },
    {
     "name": "stderr",
     "output_type": "stream",
     "text": [
      "Evaluating: 100%|██████████| 16/16 [00:01<00:00,  9.24it/s]\n"
     ]
    },
    {
     "name": "stdout",
     "output_type": "stream",
     "text": [
      "Metrics: Precision=0.9396, Recall=0.9321, F1=0.9359, Exact Match=0.8527\n",
      "New best model saved for xlm-roberta at models/best_xlm-roberta.pt\n",
      "\n",
      "======== Running Experiment 9/32 ========\n",
      "\n",
      "==================================================\n",
      "Training model: indobenchmark/indobert-base-p1 with params: {'learning_rate': 5e-05, 'batch_size': 16, 'epochs': 3}\n",
      "==================================================\n"
     ]
    },
    {
     "name": "stderr",
     "output_type": "stream",
     "text": [
      "Some weights of BertForTokenClassification were not initialized from the model checkpoint at indobenchmark/indobert-base-p1 and are newly initialized: ['classifier.bias', 'classifier.weight']\n",
      "You should probably TRAIN this model on a down-stream task to be able to use it for predictions and inference.\n"
     ]
    },
    {
     "name": "stdout",
     "output_type": "stream",
     "text": [
      "Preparing train dataset...\n",
      "Preparing test dataset...\n",
      "Preparing dev dataset...\n",
      "Training on cuda\n",
      "\n",
      "Epoch 1/3\n"
     ]
    },
    {
     "name": "stderr",
     "output_type": "stream",
     "text": [
      "Training: 100%|██████████| 92/92 [00:18<00:00,  4.94it/s, loss=0.422]\n"
     ]
    },
    {
     "name": "stdout",
     "output_type": "stream",
     "text": [
      "Average training loss: 0.8240\n"
     ]
    },
    {
     "name": "stderr",
     "output_type": "stream",
     "text": [
      "Evaluating: 100%|██████████| 23/23 [00:01<00:00, 18.37it/s]\n"
     ]
    },
    {
     "name": "stdout",
     "output_type": "stream",
     "text": [
      "New best F1: 0.3586 - Saving model\n",
      "Validation Metrics: Precision=0.4223, Recall=0.3116, F1=0.3586, Exact Match= 0.3406\n",
      "\n",
      "Epoch 2/3\n"
     ]
    },
    {
     "name": "stderr",
     "output_type": "stream",
     "text": [
      "Training: 100%|██████████| 92/92 [00:18<00:00,  4.93it/s, loss=0.0762]\n"
     ]
    },
    {
     "name": "stdout",
     "output_type": "stream",
     "text": [
      "Average training loss: 0.1934\n"
     ]
    },
    {
     "name": "stderr",
     "output_type": "stream",
     "text": [
      "Evaluating: 100%|██████████| 23/23 [00:01<00:00, 18.34it/s]\n"
     ]
    },
    {
     "name": "stdout",
     "output_type": "stream",
     "text": [
      "New best F1: 0.7447 - Saving model\n",
      "Validation Metrics: Precision=0.7064, Recall=0.7874, F1=0.7447, Exact Match= 0.6431\n",
      "\n",
      "Epoch 3/3\n"
     ]
    },
    {
     "name": "stderr",
     "output_type": "stream",
     "text": [
      "Training: 100%|██████████| 92/92 [00:18<00:00,  4.93it/s, loss=0.105] \n"
     ]
    },
    {
     "name": "stdout",
     "output_type": "stream",
     "text": [
      "Average training loss: 0.0858\n"
     ]
    },
    {
     "name": "stderr",
     "output_type": "stream",
     "text": [
      "Evaluating: 100%|██████████| 23/23 [00:01<00:00, 18.32it/s]\n"
     ]
    },
    {
     "name": "stdout",
     "output_type": "stream",
     "text": [
      "New best F1: 0.8176 - Saving model\n",
      "Validation Metrics: Precision=0.8071, Recall=0.8285, F1=0.8176, Exact Match= 0.7112\n",
      "\n",
      "Evaluating bert_lr5e-05_bs16_ep3 on test set...\n"
     ]
    },
    {
     "name": "stderr",
     "output_type": "stream",
     "text": [
      "Evaluating: 100%|██████████| 32/32 [00:01<00:00, 18.30it/s]\n"
     ]
    },
    {
     "name": "stdout",
     "output_type": "stream",
     "text": [
      "Metrics: Precision=0.8952, Recall=0.8777, F1=0.8864, Exact Match=0.7701\n",
      "\n",
      "==================================================\n",
      "Training model: xlm-roberta-base with params: {'learning_rate': 5e-05, 'batch_size': 16, 'epochs': 3}\n",
      "==================================================\n"
     ]
    },
    {
     "name": "stderr",
     "output_type": "stream",
     "text": [
      "Some weights of XLMRobertaForTokenClassification were not initialized from the model checkpoint at xlm-roberta-base and are newly initialized: ['classifier.bias', 'classifier.weight']\n",
      "You should probably TRAIN this model on a down-stream task to be able to use it for predictions and inference.\n"
     ]
    },
    {
     "name": "stdout",
     "output_type": "stream",
     "text": [
      "Preparing train dataset...\n",
      "Preparing test dataset...\n",
      "Preparing dev dataset...\n",
      "Training on cuda\n",
      "\n",
      "Epoch 1/3\n"
     ]
    },
    {
     "name": "stderr",
     "output_type": "stream",
     "text": [
      "Training: 100%|██████████| 92/92 [00:21<00:00,  4.38it/s, loss=0.699]\n"
     ]
    },
    {
     "name": "stdout",
     "output_type": "stream",
     "text": [
      "Average training loss: 1.2355\n"
     ]
    },
    {
     "name": "stderr",
     "output_type": "stream",
     "text": [
      "Evaluating: 100%|██████████| 23/23 [00:01<00:00, 18.22it/s]\n"
     ]
    },
    {
     "name": "stdout",
     "output_type": "stream",
     "text": [
      "Validation Metrics: Precision=0.0000, Recall=0.0000, F1=0.0000, Exact Match= 0.3106\n",
      "\n",
      "Epoch 2/3\n"
     ]
    },
    {
     "name": "stderr",
     "output_type": "stream",
     "text": [
      "Training: 100%|██████████| 92/92 [00:20<00:00,  4.38it/s, loss=0.105]\n"
     ]
    },
    {
     "name": "stdout",
     "output_type": "stream",
     "text": [
      "Average training loss: 0.2993\n"
     ]
    },
    {
     "name": "stderr",
     "output_type": "stream",
     "text": [
      "Evaluating: 100%|██████████| 23/23 [00:01<00:00, 18.28it/s]\n"
     ]
    },
    {
     "name": "stdout",
     "output_type": "stream",
     "text": [
      "New best F1: 0.6609 - Saving model\n",
      "Validation Metrics: Precision=0.5770, Recall=0.7734, F1=0.6609, Exact Match= 0.5613\n",
      "\n",
      "Epoch 3/3\n"
     ]
    },
    {
     "name": "stderr",
     "output_type": "stream",
     "text": [
      "Training: 100%|██████████| 92/92 [00:21<00:00,  4.38it/s, loss=0.0729]\n"
     ]
    },
    {
     "name": "stdout",
     "output_type": "stream",
     "text": [
      "Average training loss: 0.1200\n"
     ]
    },
    {
     "name": "stderr",
     "output_type": "stream",
     "text": [
      "Evaluating: 100%|██████████| 23/23 [00:01<00:00, 18.26it/s]\n"
     ]
    },
    {
     "name": "stdout",
     "output_type": "stream",
     "text": [
      "New best F1: 0.8255 - Saving model\n",
      "Validation Metrics: Precision=0.7937, Recall=0.8600, F1=0.8255, Exact Match= 0.7357\n"
     ]
    },
    {
     "ename": "RuntimeError",
     "evalue": "[enforce fail at inline_container.cc:626] . unexpected pos 43968 vs 43862",
     "output_type": "error",
     "traceback": [
      "\u001b[0;31m---------------------------------------------------------------------------\u001b[0m",
      "\u001b[0;31mRuntimeError\u001b[0m                              Traceback (most recent call last)",
      "\u001b[0;32m/usr/local/lib/python3.11/dist-packages/torch/serialization.py\u001b[0m in \u001b[0;36msave\u001b[0;34m(obj, f, pickle_module, pickle_protocol, _use_new_zipfile_serialization, _disable_byteorder_record)\u001b[0m\n\u001b[1;32m    943\u001b[0m         \u001b[0;32mwith\u001b[0m \u001b[0m_open_zipfile_writer\u001b[0m\u001b[0;34m(\u001b[0m\u001b[0mf\u001b[0m\u001b[0;34m)\u001b[0m \u001b[0;32mas\u001b[0m \u001b[0mopened_zipfile\u001b[0m\u001b[0;34m:\u001b[0m\u001b[0;34m\u001b[0m\u001b[0;34m\u001b[0m\u001b[0m\n\u001b[0;32m--> 944\u001b[0;31m             _save(\n\u001b[0m\u001b[1;32m    945\u001b[0m                 \u001b[0mobj\u001b[0m\u001b[0;34m,\u001b[0m\u001b[0;34m\u001b[0m\u001b[0;34m\u001b[0m\u001b[0m\n",
      "\u001b[0;32m/usr/local/lib/python3.11/dist-packages/torch/serialization.py\u001b[0m in \u001b[0;36m_save\u001b[0;34m(obj, zip_file, pickle_module, pickle_protocol, _disable_byteorder_record)\u001b[0m\n\u001b[1;32m   1215\u001b[0m             \u001b[0;31m# Now that it is on the CPU we can directly copy it into the zip file\u001b[0m\u001b[0;34m\u001b[0m\u001b[0;34m\u001b[0m\u001b[0m\n\u001b[0;32m-> 1216\u001b[0;31m             \u001b[0mzip_file\u001b[0m\u001b[0;34m.\u001b[0m\u001b[0mwrite_record\u001b[0m\u001b[0;34m(\u001b[0m\u001b[0mname\u001b[0m\u001b[0;34m,\u001b[0m \u001b[0mstorage\u001b[0m\u001b[0;34m,\u001b[0m \u001b[0mnum_bytes\u001b[0m\u001b[0;34m)\u001b[0m\u001b[0;34m\u001b[0m\u001b[0;34m\u001b[0m\u001b[0m\n\u001b[0m\u001b[1;32m   1217\u001b[0m \u001b[0;34m\u001b[0m\u001b[0m\n",
      "\u001b[0;31mRuntimeError\u001b[0m: [enforce fail at inline_container.cc:815] . PytorchStreamWriter failed writing file data/0: file write failed",
      "\nDuring handling of the above exception, another exception occurred:\n",
      "\u001b[0;31mRuntimeError\u001b[0m                              Traceback (most recent call last)",
      "\u001b[0;32m/tmp/ipykernel_35/3824012916.py\u001b[0m in \u001b[0;36m<cell line: 0>\u001b[0;34m()\u001b[0m\n\u001b[1;32m      6\u001b[0m }\n\u001b[1;32m      7\u001b[0m \u001b[0;34m\u001b[0m\u001b[0m\n\u001b[0;32m----> 8\u001b[0;31m \u001b[0mhyperparameter_tuning\u001b[0m\u001b[0;34m(\u001b[0m\u001b[0mbase_config\u001b[0m\u001b[0;34m,\u001b[0m \u001b[0msearch_space\u001b[0m\u001b[0;34m)\u001b[0m\u001b[0;34m\u001b[0m\u001b[0;34m\u001b[0m\u001b[0m\n\u001b[0m",
      "\u001b[0;32m/tmp/ipykernel_35/3937359953.py\u001b[0m in \u001b[0;36mhyperparameter_tuning\u001b[0;34m(base_config, search_space)\u001b[0m\n\u001b[1;32m     62\u001b[0m             \u001b[0mmodel_path\u001b[0m \u001b[0;34m=\u001b[0m \u001b[0;34mf\"models/{exp_name}.pt\"\u001b[0m\u001b[0;34m\u001b[0m\u001b[0;34m\u001b[0m\u001b[0m\n\u001b[1;32m     63\u001b[0m             \u001b[0mos\u001b[0m\u001b[0;34m.\u001b[0m\u001b[0mmakedirs\u001b[0m\u001b[0;34m(\u001b[0m\u001b[0;34m\"models\"\u001b[0m\u001b[0;34m,\u001b[0m \u001b[0mexist_ok\u001b[0m\u001b[0;34m=\u001b[0m\u001b[0;32mTrue\u001b[0m\u001b[0;34m)\u001b[0m\u001b[0;34m\u001b[0m\u001b[0;34m\u001b[0m\u001b[0m\n\u001b[0;32m---> 64\u001b[0;31m             \u001b[0mtorch\u001b[0m\u001b[0;34m.\u001b[0m\u001b[0msave\u001b[0m\u001b[0;34m(\u001b[0m\u001b[0mmodel\u001b[0m\u001b[0;34m.\u001b[0m\u001b[0mstate_dict\u001b[0m\u001b[0;34m(\u001b[0m\u001b[0;34m)\u001b[0m\u001b[0;34m,\u001b[0m \u001b[0mmodel_path\u001b[0m\u001b[0;34m)\u001b[0m\u001b[0;34m\u001b[0m\u001b[0;34m\u001b[0m\u001b[0m\n\u001b[0m\u001b[1;32m     65\u001b[0m \u001b[0;34m\u001b[0m\u001b[0m\n\u001b[1;32m     66\u001b[0m             \u001b[0mmodel\u001b[0m\u001b[0;34m.\u001b[0m\u001b[0mload_state_dict\u001b[0m\u001b[0;34m(\u001b[0m\u001b[0mtorch\u001b[0m\u001b[0;34m.\u001b[0m\u001b[0mload\u001b[0m\u001b[0;34m(\u001b[0m\u001b[0mmodel_path\u001b[0m\u001b[0;34m)\u001b[0m\u001b[0;34m)\u001b[0m\u001b[0;34m\u001b[0m\u001b[0;34m\u001b[0m\u001b[0m\n",
      "\u001b[0;32m/usr/local/lib/python3.11/dist-packages/torch/serialization.py\u001b[0m in \u001b[0;36msave\u001b[0;34m(obj, f, pickle_module, pickle_protocol, _use_new_zipfile_serialization, _disable_byteorder_record)\u001b[0m\n\u001b[1;32m    941\u001b[0m \u001b[0;34m\u001b[0m\u001b[0m\n\u001b[1;32m    942\u001b[0m     \u001b[0;32mif\u001b[0m \u001b[0m_use_new_zipfile_serialization\u001b[0m\u001b[0;34m:\u001b[0m\u001b[0;34m\u001b[0m\u001b[0;34m\u001b[0m\u001b[0m\n\u001b[0;32m--> 943\u001b[0;31m         \u001b[0;32mwith\u001b[0m \u001b[0m_open_zipfile_writer\u001b[0m\u001b[0;34m(\u001b[0m\u001b[0mf\u001b[0m\u001b[0;34m)\u001b[0m \u001b[0;32mas\u001b[0m \u001b[0mopened_zipfile\u001b[0m\u001b[0;34m:\u001b[0m\u001b[0;34m\u001b[0m\u001b[0;34m\u001b[0m\u001b[0m\n\u001b[0m\u001b[1;32m    944\u001b[0m             _save(\n\u001b[1;32m    945\u001b[0m                 \u001b[0mobj\u001b[0m\u001b[0;34m,\u001b[0m\u001b[0;34m\u001b[0m\u001b[0;34m\u001b[0m\u001b[0m\n",
      "\u001b[0;32m/usr/local/lib/python3.11/dist-packages/torch/serialization.py\u001b[0m in \u001b[0;36m__exit__\u001b[0;34m(self, *args)\u001b[0m\n\u001b[1;32m    782\u001b[0m \u001b[0;34m\u001b[0m\u001b[0m\n\u001b[1;32m    783\u001b[0m     \u001b[0;32mdef\u001b[0m \u001b[0m__exit__\u001b[0m\u001b[0;34m(\u001b[0m\u001b[0mself\u001b[0m\u001b[0;34m,\u001b[0m \u001b[0;34m*\u001b[0m\u001b[0margs\u001b[0m\u001b[0;34m)\u001b[0m \u001b[0;34m->\u001b[0m \u001b[0;32mNone\u001b[0m\u001b[0;34m:\u001b[0m\u001b[0;34m\u001b[0m\u001b[0;34m\u001b[0m\u001b[0m\n\u001b[0;32m--> 784\u001b[0;31m         \u001b[0mself\u001b[0m\u001b[0;34m.\u001b[0m\u001b[0mfile_like\u001b[0m\u001b[0;34m.\u001b[0m\u001b[0mwrite_end_of_file\u001b[0m\u001b[0;34m(\u001b[0m\u001b[0;34m)\u001b[0m\u001b[0;34m\u001b[0m\u001b[0;34m\u001b[0m\u001b[0m\n\u001b[0m\u001b[1;32m    785\u001b[0m         \u001b[0;32mif\u001b[0m \u001b[0mself\u001b[0m\u001b[0;34m.\u001b[0m\u001b[0mfile_stream\u001b[0m \u001b[0;32mis\u001b[0m \u001b[0;32mnot\u001b[0m \u001b[0;32mNone\u001b[0m\u001b[0;34m:\u001b[0m\u001b[0;34m\u001b[0m\u001b[0;34m\u001b[0m\u001b[0m\n\u001b[1;32m    786\u001b[0m             \u001b[0mself\u001b[0m\u001b[0;34m.\u001b[0m\u001b[0mfile_stream\u001b[0m\u001b[0;34m.\u001b[0m\u001b[0mclose\u001b[0m\u001b[0;34m(\u001b[0m\u001b[0;34m)\u001b[0m\u001b[0;34m\u001b[0m\u001b[0;34m\u001b[0m\u001b[0m\n",
      "\u001b[0;31mRuntimeError\u001b[0m: [enforce fail at inline_container.cc:626] . unexpected pos 43968 vs 43862"
     ]
    }
   ],
   "source": [
    "base_config = get_config()\n",
    "search_space = {\n",
    "    \"learning_rate\": [10e-5, 5e-5, 3e-5, 2e-5],\n",
    "    \"batch_size\": [16, 32],\n",
    "    \"epochs\": [3, 5, 10, 20],\n",
    "}\n",
    "\n",
    "hyperparameter_tuning(base_config, search_space)\n"
   ]
  },
  {
   "cell_type": "code",
   "execution_count": null,
   "metadata": {
    "_kg_hide-input": true,
    "execution": {
     "iopub.status.busy": "2025-05-16T18:18:24.167353Z",
     "iopub.status.idle": "2025-05-16T18:18:24.167571Z",
     "shell.execute_reply": "2025-05-16T18:18:24.167477Z",
     "shell.execute_reply.started": "2025-05-16T18:18:24.167466Z"
    },
    "trusted": true
   },
   "outputs": [],
   "source": [
    "# # Inference\n",
    "\n",
    "# from transformers import AutoTokenizer, AutoModelForTokenClassification\n",
    "# import json\n",
    "\n",
    "# load_dir = \"saved_model\"\n",
    "\n",
    "# tokenizer = AutoTokenizer.from_pretrained(load_dir)\n",
    "# model = AutoModelForTokenClassification.from_pretrained(load_dir)\n",
    "\n",
    "# with open(f\"{load_dir}/label2id.json\") as f:\n",
    "#     label2id = json.load(f)\n",
    "# with open(f\"{load_dir}/id2label.json\") as f:\n",
    "#     id2label = json.load(f)\n",
    "!ls models"
   ]
  },
  {
   "cell_type": "code",
   "execution_count": null,
   "metadata": {
    "execution": {
     "iopub.status.busy": "2025-05-16T18:18:24.168402Z",
     "iopub.status.idle": "2025-05-16T18:18:24.168642Z",
     "shell.execute_reply": "2025-05-16T18:18:24.168545Z",
     "shell.execute_reply.started": "2025-05-16T18:18:24.168534Z"
    },
    "trusted": true
   },
   "outputs": [],
   "source": [
    "# dataset used\n",
    "\"\"\"\n",
    "https://github.com/khairunnisaor/idner-news-2k/tree/main\n",
    "\n",
    "@inproceedings{khairunnisa2020,\n",
    "  title={Towards a Standardized Dataset on Indonesian Named Entity Recognition},\n",
    "  author={Siti Oryza Khairunnisa and Aizhan Imankulova and Mamoru Komachi},\n",
    "  booktitle={Proceedings of the 1st Conference of the Asia-Pacific Chapter of the Association for Computational Linguistics and the 10th International Joint Conference on Natural Language Processing: Student Research Workshop}\n",
    "  year={2020}\n",
    "}\n",
    "\"\"\""
   ]
  }
 ],
 "metadata": {
  "kaggle": {
   "accelerator": "none",
   "dataSources": [
    {
     "datasetId": 7436787,
     "sourceId": 11837164,
     "sourceType": "datasetVersion"
    }
   ],
   "isGpuEnabled": false,
   "isInternetEnabled": true,
   "language": "python",
   "sourceType": "notebook"
  },
  "kernelspec": {
   "display_name": "Python 3",
   "language": "python",
   "name": "python3"
  },
  "language_info": {
   "codemirror_mode": {
    "name": "ipython",
    "version": 3
   },
   "file_extension": ".py",
   "mimetype": "text/x-python",
   "name": "python",
   "nbconvert_exporter": "python",
   "pygments_lexer": "ipython3",
   "version": "3.11.9"
  }
 },
 "nbformat": 4,
 "nbformat_minor": 4
}
